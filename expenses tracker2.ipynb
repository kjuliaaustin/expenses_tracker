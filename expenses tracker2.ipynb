{
 "cells": [
  {
   "cell_type": "markdown",
   "metadata": {
    "id": "AV_fZMtFoHza"
   },
   "source": [
    "#Libraries, Directory, and Data"
   ]
  },
  {
   "cell_type": "code",
   "execution_count": null,
   "metadata": {
    "colab": {
     "base_uri": "https://localhost:8080/",
     "height": 17
    },
    "executionInfo": {
     "elapsed": 413,
     "status": "ok",
     "timestamp": 1715376001527,
     "user": {
      "displayName": "Julia Austin",
      "userId": "13512607286634222437"
     },
     "user_tz": 240
    },
    "id": "w9TKgYQDn8iF",
    "outputId": "616dfa0f-d772-43f0-c676-af912e0b0f2e"
   },
   "outputs": [],
   "source": [
    "#libraries\n",
    "import pandas as pd\n",
    "import numpy as np\n",
    "import panel as pn\n",
    "pn.extension('tabulator')\n",
    "import holoviews as hv\n",
    "hv.extension('bokeh')"
   ]
  },
  {
   "cell_type": "code",
   "execution_count": null,
   "metadata": {
    "executionInfo": {
     "elapsed": 174,
     "status": "ok",
     "timestamp": 1715376040707,
     "user": {
      "displayName": "Julia Austin",
      "userId": "13512607286634222437"
     },
     "user_tz": 240
    },
    "id": "KSQIOejuWAGW"
   },
   "outputs": [],
   "source": [
    "#!pip install hvplot"
   ]
  },
  {
   "cell_type": "code",
   "execution_count": null,
   "metadata": {
    "executionInfo": {
     "elapsed": 22,
     "status": "ok",
     "timestamp": 1715376011362,
     "user": {
      "displayName": "Julia Austin",
      "userId": "13512607286634222437"
     },
     "user_tz": 240
    },
    "id": "zVbxCZ7hWZdD"
   },
   "outputs": [],
   "source": [
    "import hvplot.pandas"
   ]
  },
  {
   "cell_type": "code",
   "execution_count": null,
   "metadata": {
    "colab": {
     "base_uri": "https://localhost:8080/"
    },
    "executionInfo": {
     "elapsed": 21,
     "status": "ok",
     "timestamp": 1715376011362,
     "user": {
      "displayName": "Julia Austin",
      "userId": "13512607286634222437"
     },
     "user_tz": 240
    },
    "id": "pSfeQOxMoYU_",
    "outputId": "1646f1f7-e669-4157-c174-a0243634f3d4"
   },
   "outputs": [],
   "source": [
    "%cd /content/drive/MyDrive/Analytics Projects"
   ]
  },
  {
   "cell_type": "code",
   "execution_count": null,
   "metadata": {
    "colab": {
     "base_uri": "https://localhost:8080/",
     "height": 206
    },
    "executionInfo": {
     "elapsed": 19,
     "status": "ok",
     "timestamp": 1715376011362,
     "user": {
      "displayName": "Julia Austin",
      "userId": "13512607286634222437"
     },
     "user_tz": 240
    },
    "id": "loAd8-xKotEO",
    "outputId": "15f0c23f-95ce-4af6-8a59-8a240830c1a9"
   },
   "outputs": [],
   "source": [
    "df = pd.read_csv('stmt (17).csv')\n",
    "df.head()"
   ]
  },
  {
   "cell_type": "markdown",
   "metadata": {
    "id": "1ig1PYmLo-Od"
   },
   "source": [
    "#Data Cleaning"
   ]
  },
  {
   "cell_type": "code",
   "execution_count": 9,
   "metadata": {
    "colab": {
     "base_uri": "https://localhost:8080/",
     "height": 206
    },
    "executionInfo": {
     "elapsed": 19,
     "status": "ok",
     "timestamp": 1715376011363,
     "user": {
      "displayName": "Julia Austin",
      "userId": "13512607286634222437"
     },
     "user_tz": 240
    },
    "id": "0Q8viBMrox3F",
    "outputId": "a6554923-bc08-4cc7-bf0e-c88728aa22b6"
   },
   "outputs": [
    {
     "data": {
      "text/html": [
       "<div>\n",
       "<style scoped>\n",
       "    .dataframe tbody tr th:only-of-type {\n",
       "        vertical-align: middle;\n",
       "    }\n",
       "\n",
       "    .dataframe tbody tr th {\n",
       "        vertical-align: top;\n",
       "    }\n",
       "\n",
       "    .dataframe thead th {\n",
       "        text-align: right;\n",
       "    }\n",
       "</style>\n",
       "<table border=\"1\" class=\"dataframe\">\n",
       "  <thead>\n",
       "    <tr style=\"text-align: right;\">\n",
       "      <th></th>\n",
       "      <th>Date</th>\n",
       "      <th>Description</th>\n",
       "      <th>Amount</th>\n",
       "      <th>Running Bal.</th>\n",
       "      <th>Category</th>\n",
       "    </tr>\n",
       "  </thead>\n",
       "  <tbody>\n",
       "    <tr>\n",
       "      <th>0</th>\n",
       "      <td>11/9/2022</td>\n",
       "      <td>beginning balance as of 11/09/2022</td>\n",
       "      <td>NaN</td>\n",
       "      <td>15,230.88</td>\n",
       "      <td>unassigned</td>\n",
       "    </tr>\n",
       "    <tr>\n",
       "      <th>1</th>\n",
       "      <td>11/9/2022</td>\n",
       "      <td>target.com * 11/08 purchase 800-591-3869 mn</td>\n",
       "      <td>-90</td>\n",
       "      <td>15,140.88</td>\n",
       "      <td>unassigned</td>\n",
       "    </tr>\n",
       "    <tr>\n",
       "      <th>2</th>\n",
       "      <td>11/9/2022</td>\n",
       "      <td>target.com * 11/08 purchase 800-591-3869 mn</td>\n",
       "      <td>-6.29</td>\n",
       "      <td>15,134.59</td>\n",
       "      <td>unassigned</td>\n",
       "    </tr>\n",
       "    <tr>\n",
       "      <th>3</th>\n",
       "      <td>11/9/2022</td>\n",
       "      <td>the wooden 11/08 purchase xxxxx57733 ma</td>\n",
       "      <td>-71.73</td>\n",
       "      <td>15,062.86</td>\n",
       "      <td>unassigned</td>\n",
       "    </tr>\n",
       "    <tr>\n",
       "      <th>4</th>\n",
       "      <td>11/9/2022</td>\n",
       "      <td>enmarket #820 11/09 purchase savannah ga</td>\n",
       "      <td>-33.22</td>\n",
       "      <td>15,029.64</td>\n",
       "      <td>unassigned</td>\n",
       "    </tr>\n",
       "  </tbody>\n",
       "</table>\n",
       "</div>"
      ],
      "text/plain": [
       "        Date                                  Description  Amount  \\\n",
       "0  11/9/2022           beginning balance as of 11/09/2022     NaN   \n",
       "1  11/9/2022  target.com * 11/08 purchase 800-591-3869 mn     -90   \n",
       "2  11/9/2022  target.com * 11/08 purchase 800-591-3869 mn   -6.29   \n",
       "3  11/9/2022      the wooden 11/08 purchase xxxxx57733 ma  -71.73   \n",
       "4  11/9/2022     enmarket #820 11/09 purchase savannah ga  -33.22   \n",
       "\n",
       "  Running Bal.    Category  \n",
       "0    15,230.88  unassigned  \n",
       "1    15,140.88  unassigned  \n",
       "2    15,134.59  unassigned  \n",
       "3    15,062.86  unassigned  \n",
       "4    15,029.64  unassigned  "
      ]
     },
     "execution_count": 9,
     "metadata": {},
     "output_type": "execute_result"
    }
   ],
   "source": [
    "#lower case of descriptions\n",
    "df['Description'] = df['Description'].map(str.lower)\n",
    "\n",
    "#add category column\n",
    "df['Category'] = 'unassigned'\n",
    "\n",
    "df.head()"
   ]
  },
  {
   "cell_type": "code",
   "execution_count": 10,
   "metadata": {
    "executionInfo": {
     "elapsed": 223,
     "status": "ok",
     "timestamp": 1715376011568,
     "user": {
      "displayName": "Julia Austin",
      "userId": "13512607286634222437"
     },
     "user_tz": 240
    },
    "id": "svpq15K-pLyW"
   },
   "outputs": [],
   "source": [
    "df['Description'] = df['Description'].str.replace(' ', '-')"
   ]
  },
  {
   "cell_type": "code",
   "execution_count": 11,
   "metadata": {
    "executionInfo": {
     "elapsed": 17,
     "status": "ok",
     "timestamp": 1715376011569,
     "user": {
      "displayName": "Julia Austin",
      "userId": "13512607286634222437"
     },
     "user_tz": 240
    },
    "id": "JP5MlZKIrId6"
   },
   "outputs": [],
   "source": [
    "df['Description'] = df['Description'].str.replace('*', '-')"
   ]
  },
  {
   "cell_type": "code",
   "execution_count": 12,
   "metadata": {
    "colab": {
     "base_uri": "https://localhost:8080/",
     "height": 206
    },
    "executionInfo": {
     "elapsed": 16,
     "status": "ok",
     "timestamp": 1715376011569,
     "user": {
      "displayName": "Julia Austin",
      "userId": "13512607286634222437"
     },
     "user_tz": 240
    },
    "id": "hR1Gj0T-tM4g",
    "outputId": "af6faca3-4a3c-4a28-979e-818ad478b9ae"
   },
   "outputs": [
    {
     "data": {
      "text/html": [
       "<div>\n",
       "<style scoped>\n",
       "    .dataframe tbody tr th:only-of-type {\n",
       "        vertical-align: middle;\n",
       "    }\n",
       "\n",
       "    .dataframe tbody tr th {\n",
       "        vertical-align: top;\n",
       "    }\n",
       "\n",
       "    .dataframe thead th {\n",
       "        text-align: right;\n",
       "    }\n",
       "</style>\n",
       "<table border=\"1\" class=\"dataframe\">\n",
       "  <thead>\n",
       "    <tr style=\"text-align: right;\">\n",
       "      <th></th>\n",
       "      <th>Date</th>\n",
       "      <th>Description</th>\n",
       "      <th>Amount</th>\n",
       "      <th>Running Bal.</th>\n",
       "      <th>Category</th>\n",
       "    </tr>\n",
       "  </thead>\n",
       "  <tbody>\n",
       "    <tr>\n",
       "      <th>0</th>\n",
       "      <td>11/9/2022</td>\n",
       "      <td>beginnin</td>\n",
       "      <td>NaN</td>\n",
       "      <td>15,230.88</td>\n",
       "      <td>unassigned</td>\n",
       "    </tr>\n",
       "    <tr>\n",
       "      <th>1</th>\n",
       "      <td>11/9/2022</td>\n",
       "      <td>target.c</td>\n",
       "      <td>-90</td>\n",
       "      <td>15,140.88</td>\n",
       "      <td>unassigned</td>\n",
       "    </tr>\n",
       "    <tr>\n",
       "      <th>2</th>\n",
       "      <td>11/9/2022</td>\n",
       "      <td>target.c</td>\n",
       "      <td>-6.29</td>\n",
       "      <td>15,134.59</td>\n",
       "      <td>unassigned</td>\n",
       "    </tr>\n",
       "    <tr>\n",
       "      <th>3</th>\n",
       "      <td>11/9/2022</td>\n",
       "      <td>the-wood</td>\n",
       "      <td>-71.73</td>\n",
       "      <td>15,062.86</td>\n",
       "      <td>unassigned</td>\n",
       "    </tr>\n",
       "    <tr>\n",
       "      <th>4</th>\n",
       "      <td>11/9/2022</td>\n",
       "      <td>enmarket</td>\n",
       "      <td>-33.22</td>\n",
       "      <td>15,029.64</td>\n",
       "      <td>unassigned</td>\n",
       "    </tr>\n",
       "  </tbody>\n",
       "</table>\n",
       "</div>"
      ],
      "text/plain": [
       "        Date Description  Amount Running Bal.    Category\n",
       "0  11/9/2022    beginnin     NaN    15,230.88  unassigned\n",
       "1  11/9/2022    target.c     -90    15,140.88  unassigned\n",
       "2  11/9/2022    target.c   -6.29    15,134.59  unassigned\n",
       "3  11/9/2022    the-wood  -71.73    15,062.86  unassigned\n",
       "4  11/9/2022    enmarket  -33.22    15,029.64  unassigned"
      ]
     },
     "execution_count": 12,
     "metadata": {},
     "output_type": "execute_result"
    }
   ],
   "source": [
    "df['Description'] = df['Description'].str.slice(0,8)\n",
    "df.head()"
   ]
  },
  {
   "cell_type": "code",
   "execution_count": 13,
   "metadata": {
    "executionInfo": {
     "elapsed": 16,
     "status": "ok",
     "timestamp": 1715376011570,
     "user": {
      "displayName": "Julia Austin",
      "userId": "13512607286634222437"
     },
     "user_tz": 240
    },
    "id": "UcUxTbxdpFNh"
   },
   "outputs": [],
   "source": [
    "#assign categories\n",
    "\n",
    "#children\n",
    "#shopping\n",
    "#entertainment\n",
    "#amazon\n",
    "#career\n",
    "#credit card\n",
    "#deposit\n",
    "#education\n",
    "#fees\n",
    "#grocery\n",
    "#major purchases\n",
    "#pets\n",
    "#health\n",
    "#insurance\n",
    "#restaurants\n",
    "#tax\n",
    "#transportation\n",
    "#travel\n",
    "#utilities\n",
    "#gifts\n",
    "#ccm"
   ]
  },
  {
   "cell_type": "code",
   "execution_count": 14,
   "metadata": {
    "colab": {
     "base_uri": "https://localhost:8080/"
    },
    "executionInfo": {
     "elapsed": 16,
     "status": "ok",
     "timestamp": 1715376011570,
     "user": {
      "displayName": "Julia Austin",
      "userId": "13512607286634222437"
     },
     "user_tz": 240
    },
    "id": "NapT91VJqeBb",
    "outputId": "bbc0e673-c8df-43ee-ea62-2db2ee752d23"
   },
   "outputs": [
    {
     "name": "stdout",
     "output_type": "stream",
     "text": [
      "<class 'pandas.core.frame.DataFrame'>\n",
      "RangeIndex: 1018 entries, 0 to 1017\n",
      "Data columns (total 5 columns):\n",
      " #   Column        Non-Null Count  Dtype \n",
      "---  ------        --------------  ----- \n",
      " 0   Date          1018 non-null   object\n",
      " 1   Description   1018 non-null   object\n",
      " 2   Amount        1017 non-null   object\n",
      " 3   Running Bal.  1018 non-null   object\n",
      " 4   Category      1018 non-null   object\n",
      "dtypes: object(5)\n",
      "memory usage: 39.9+ KB\n"
     ]
    }
   ],
   "source": [
    "df.info()"
   ]
  },
  {
   "cell_type": "code",
   "execution_count": 15,
   "metadata": {
    "colab": {
     "base_uri": "https://localhost:8080/",
     "height": 676
    },
    "executionInfo": {
     "elapsed": 14,
     "status": "ok",
     "timestamp": 1715376011570,
     "user": {
      "displayName": "Julia Austin",
      "userId": "13512607286634222437"
     },
     "user_tz": 240
    },
    "id": "Iw140DLnq8iT",
    "outputId": "8c6d786d-9a16-42ba-97fd-c448b27c84d1"
   },
   "outputs": [
    {
     "data": {
      "text/html": [
       "<div>\n",
       "<style scoped>\n",
       "    .dataframe tbody tr th:only-of-type {\n",
       "        vertical-align: middle;\n",
       "    }\n",
       "\n",
       "    .dataframe tbody tr th {\n",
       "        vertical-align: top;\n",
       "    }\n",
       "\n",
       "    .dataframe thead th {\n",
       "        text-align: right;\n",
       "    }\n",
       "</style>\n",
       "<table border=\"1\" class=\"dataframe\">\n",
       "  <thead>\n",
       "    <tr style=\"text-align: right;\">\n",
       "      <th></th>\n",
       "      <th>Date</th>\n",
       "      <th>Description</th>\n",
       "      <th>Amount</th>\n",
       "      <th>Running Bal.</th>\n",
       "      <th>Category</th>\n",
       "    </tr>\n",
       "  </thead>\n",
       "  <tbody>\n",
       "    <tr>\n",
       "      <th>0</th>\n",
       "      <td>11/9/2022</td>\n",
       "      <td>beginnin</td>\n",
       "      <td>NaN</td>\n",
       "      <td>15,230.88</td>\n",
       "      <td>unassigned</td>\n",
       "    </tr>\n",
       "    <tr>\n",
       "      <th>1</th>\n",
       "      <td>11/9/2022</td>\n",
       "      <td>target.c</td>\n",
       "      <td>-90</td>\n",
       "      <td>15,140.88</td>\n",
       "      <td>unassigned</td>\n",
       "    </tr>\n",
       "    <tr>\n",
       "      <th>2</th>\n",
       "      <td>11/9/2022</td>\n",
       "      <td>target.c</td>\n",
       "      <td>-6.29</td>\n",
       "      <td>15,134.59</td>\n",
       "      <td>unassigned</td>\n",
       "    </tr>\n",
       "    <tr>\n",
       "      <th>3</th>\n",
       "      <td>11/9/2022</td>\n",
       "      <td>the-wood</td>\n",
       "      <td>-71.73</td>\n",
       "      <td>15,062.86</td>\n",
       "      <td>unassigned</td>\n",
       "    </tr>\n",
       "    <tr>\n",
       "      <th>4</th>\n",
       "      <td>11/9/2022</td>\n",
       "      <td>enmarket</td>\n",
       "      <td>-33.22</td>\n",
       "      <td>15,029.64</td>\n",
       "      <td>unassigned</td>\n",
       "    </tr>\n",
       "    <tr>\n",
       "      <th>5</th>\n",
       "      <td>11/14/2022</td>\n",
       "      <td>amzn-mkt</td>\n",
       "      <td>-12.83</td>\n",
       "      <td>15,016.81</td>\n",
       "      <td>unassigned</td>\n",
       "    </tr>\n",
       "    <tr>\n",
       "      <th>6</th>\n",
       "      <td>11/14/2022</td>\n",
       "      <td>coastal-</td>\n",
       "      <td>-30</td>\n",
       "      <td>14,986.81</td>\n",
       "      <td>unassigned</td>\n",
       "    </tr>\n",
       "    <tr>\n",
       "      <th>7</th>\n",
       "      <td>11/14/2022</td>\n",
       "      <td>cci-care</td>\n",
       "      <td>-8.99</td>\n",
       "      <td>14,977.82</td>\n",
       "      <td>unassigned</td>\n",
       "    </tr>\n",
       "    <tr>\n",
       "      <th>8</th>\n",
       "      <td>11/14/2022</td>\n",
       "      <td>kroger-#</td>\n",
       "      <td>-161.7</td>\n",
       "      <td>14,816.12</td>\n",
       "      <td>unassigned</td>\n",
       "    </tr>\n",
       "    <tr>\n",
       "      <th>9</th>\n",
       "      <td>11/14/2022</td>\n",
       "      <td>sav-des:</td>\n",
       "      <td>-72.47</td>\n",
       "      <td>14,743.65</td>\n",
       "      <td>unassigned</td>\n",
       "    </tr>\n",
       "    <tr>\n",
       "      <th>10</th>\n",
       "      <td>11/15/2022</td>\n",
       "      <td>hp--inst</td>\n",
       "      <td>-8.55</td>\n",
       "      <td>14,735.10</td>\n",
       "      <td>unassigned</td>\n",
       "    </tr>\n",
       "    <tr>\n",
       "      <th>11</th>\n",
       "      <td>11/15/2022</td>\n",
       "      <td>municipa</td>\n",
       "      <td>-1.5</td>\n",
       "      <td>14,733.60</td>\n",
       "      <td>unassigned</td>\n",
       "    </tr>\n",
       "    <tr>\n",
       "      <th>12</th>\n",
       "      <td>11/15/2022</td>\n",
       "      <td>ring-unl</td>\n",
       "      <td>-10</td>\n",
       "      <td>14,723.60</td>\n",
       "      <td>unassigned</td>\n",
       "    </tr>\n",
       "    <tr>\n",
       "      <th>13</th>\n",
       "      <td>11/16/2022</td>\n",
       "      <td>city-of-</td>\n",
       "      <td>-52.66</td>\n",
       "      <td>14,670.94</td>\n",
       "      <td>unassigned</td>\n",
       "    </tr>\n",
       "    <tr>\n",
       "      <th>14</th>\n",
       "      <td>11/16/2022</td>\n",
       "      <td>thrivewo</td>\n",
       "      <td>-30</td>\n",
       "      <td>14,640.94</td>\n",
       "      <td>unassigned</td>\n",
       "    </tr>\n",
       "    <tr>\n",
       "      <th>15</th>\n",
       "      <td>11/17/2022</td>\n",
       "      <td>amazon.c</td>\n",
       "      <td>-30.68</td>\n",
       "      <td>14,610.26</td>\n",
       "      <td>unassigned</td>\n",
       "    </tr>\n",
       "    <tr>\n",
       "      <th>16</th>\n",
       "      <td>11/18/2022</td>\n",
       "      <td>zelle-tr</td>\n",
       "      <td>50</td>\n",
       "      <td>14,660.26</td>\n",
       "      <td>unassigned</td>\n",
       "    </tr>\n",
       "    <tr>\n",
       "      <th>17</th>\n",
       "      <td>11/21/2022</td>\n",
       "      <td>wire-typ</td>\n",
       "      <td>25,000.00</td>\n",
       "      <td>39,660.26</td>\n",
       "      <td>unassigned</td>\n",
       "    </tr>\n",
       "    <tr>\n",
       "      <th>18</th>\n",
       "      <td>11/21/2022</td>\n",
       "      <td>ez--port</td>\n",
       "      <td>-191</td>\n",
       "      <td>39,469.26</td>\n",
       "      <td>unassigned</td>\n",
       "    </tr>\n",
       "    <tr>\n",
       "      <th>19</th>\n",
       "      <td>11/21/2022</td>\n",
       "      <td>sapps-wr</td>\n",
       "      <td>-210</td>\n",
       "      <td>39,259.26</td>\n",
       "      <td>unassigned</td>\n",
       "    </tr>\n",
       "  </tbody>\n",
       "</table>\n",
       "</div>"
      ],
      "text/plain": [
       "          Date Description     Amount Running Bal.    Category\n",
       "0    11/9/2022    beginnin        NaN    15,230.88  unassigned\n",
       "1    11/9/2022    target.c        -90    15,140.88  unassigned\n",
       "2    11/9/2022    target.c      -6.29    15,134.59  unassigned\n",
       "3    11/9/2022    the-wood     -71.73    15,062.86  unassigned\n",
       "4    11/9/2022    enmarket     -33.22    15,029.64  unassigned\n",
       "5   11/14/2022    amzn-mkt     -12.83    15,016.81  unassigned\n",
       "6   11/14/2022    coastal-        -30    14,986.81  unassigned\n",
       "7   11/14/2022    cci-care      -8.99    14,977.82  unassigned\n",
       "8   11/14/2022    kroger-#     -161.7    14,816.12  unassigned\n",
       "9   11/14/2022    sav-des:     -72.47    14,743.65  unassigned\n",
       "10  11/15/2022    hp--inst      -8.55    14,735.10  unassigned\n",
       "11  11/15/2022    municipa       -1.5    14,733.60  unassigned\n",
       "12  11/15/2022    ring-unl        -10    14,723.60  unassigned\n",
       "13  11/16/2022    city-of-     -52.66    14,670.94  unassigned\n",
       "14  11/16/2022    thrivewo        -30    14,640.94  unassigned\n",
       "15  11/17/2022    amazon.c     -30.68    14,610.26  unassigned\n",
       "16  11/18/2022    zelle-tr         50    14,660.26  unassigned\n",
       "17  11/21/2022    wire-typ  25,000.00    39,660.26  unassigned\n",
       "18  11/21/2022    ez--port       -191    39,469.26  unassigned\n",
       "19  11/21/2022    sapps-wr       -210    39,259.26  unassigned"
      ]
     },
     "execution_count": 15,
     "metadata": {},
     "output_type": "execute_result"
    }
   ],
   "source": [
    "df.head(20)"
   ]
  },
  {
   "cell_type": "code",
   "execution_count": 16,
   "metadata": {
    "executionInfo": {
     "elapsed": 201,
     "status": "ok",
     "timestamp": 1715376011759,
     "user": {
      "displayName": "Julia Austin",
      "userId": "13512607286634222437"
     },
     "user_tz": 240
    },
    "id": "1Jsynya6rAQs"
   },
   "outputs": [],
   "source": [
    "#assign categories\n",
    "\n",
    "#children\n",
    "\n",
    "df['Category'] = np.where(df['Description'].str.contains(\n",
    "  \"venmo--c|nnt-5905|metapay-|venmo-11|venmo-12|venmo-10|venmo-09|venmo-08|venmo-07|venmo-06|venmo-05|ymca-of-|ga-child|little-o|carters,|grow-the|sp-fiddl|defy-sav|bwl-stri|carter's|coastal-|fbpay--s|music%ar|pooler-p|venmo--m|www.spla|music&ar|soccer-s\"),\n",
    "  'children', df['Category'])\n",
    "\n",
    "#shopping\n",
    "\n",
    "df['Category'] = np.where(df['Description'].str.contains(\n",
    "  'sp-camp-|sp-thead|lush-dig|sp-runic|thrift-b|ebaycomm|barnesno|scholast|uber-eat|hobbylob|sp-popfl|sun-chas|sp-mudpu|dollar-t|etsy.com|family-d|five-bel|goodwill|hobblobb|lulus.co|lush dig|michaels|nnt-h&m0|nnt-ikea|old-navy|shein-01|shein-05|shein.co|sq--nour|t-j-maxx|target-t|target.c|the-wood|thrift b|vans.com'),\n",
    "  'shopping', df['Category'])\n",
    "\n",
    "#entertainment\n",
    "\n",
    "df['Category'] = np.where(df['Description'].str.contains(\n",
    "  'wpy-frie|roku-for|statesbo|ghost-pi|chathamm|ghost-pir|help.hbo|help.max|netflix-|nintendo|prime-vi|royal-ci|sq--pira|www.frie|www.illu|netflix.|disneypl'),\n",
    "  'entertainment', df['Category'])\n",
    "\n",
    "#amazon\n",
    "\n",
    "df['Category'] = np.where(df['Description'].str.contains(\n",
    "  'amazon.c|amzn-mkt|amazon-d|amazon-p'),\n",
    "  'amazon', df['Category'])\n",
    "\n",
    "#career\n",
    "\n",
    "df['Category'] = np.where(df['Description'].str.contains(\n",
    "  'facebk-e|facebk-q|facebk-m|college-|ascd-res|google-d|udemy:-o|apple.co|canva-i0|cci-care|college |google d|strp-car|tutors.c|analyst-|canva--i'),\n",
    "  'career', df['Category'])\n",
    "\n",
    "#credit card\n",
    "\n",
    "df['Category'] = np.where(df['Description'].str.contains(\n",
    "  'bank-of-|capital-'),\n",
    "  'credit_card', df['Category'])\n",
    "\n",
    "#deposit\n",
    "\n",
    "df['Category'] = np.where(df['Description'].str.contains(\n",
    "  'paypal-d|payment-|counter-|advanced|bkofamer|bankamer|irs-trea|savannah|sc-state|venmo-des|wire-typ|zelle-tr|zelle-pa|venmo-de'),\n",
    "  'deposit', df['Category'])\n",
    "\n",
    "#education\n",
    "\n",
    "df['Category'] = np.where(df['Description'].str.contains(\n",
    "  'otc-bran|burnt-ou|craftycl|kinder-l|teachers'),\n",
    "  'education', df['Category'])\n",
    "\n",
    "#fees\n",
    "\n",
    "df['Category'] = np.where(df['Description'].str.contains(\n",
    "  'ga-fee-c|sq--live|formswif|preferre'),\n",
    "  'fees', df['Category'])\n",
    "\n",
    "#grocery\n",
    "\n",
    "df['Category'] = np.where(df['Description'].str.contains(\n",
    "  'food-lio|hellofre|aldi-760|cvs/phar|ethnicit|food lio|hellofres|ic--inst|ingles-m|kroger-#|kroger-5|kroger-f|piggly-w|publix-s|wal-wal-|walgreen|wal-mart|walmart.|wm-super'),\n",
    "  'grocery', df['Category'])\n",
    "\n",
    "#major purchases\n",
    "\n",
    "df['Category'] = np.where(df['Description'].str.contains(\n",
    "  'carmax.c'),\n",
    "  'major_purchases', df['Category'])\n",
    "\n",
    "#pets\n",
    "\n",
    "df['Category'] = np.where(df['Description'].str.contains(\n",
    "  'petsmart|worldpet'),\n",
    "  'pets', df['Category'])\n",
    "\n",
    "#health\n",
    "\n",
    "df['Category'] = np.where(df['Description'].str.contains(\n",
    "  'internat|ppy-thri|eyebuydi|godley-s|labcorpx|memorial|privia-m|propay-t|thrivewo|vision-d'),\n",
    "  'health', df['Category'])\n",
    "\n",
    "#insurance\n",
    "\n",
    "df['Category'] = np.where(df['Description'].str.contains(\n",
    "  'anthem-b|state-fa|wysh-ins'),\n",
    "  'insurance', df['Category'])\n",
    "\n",
    "#restaurant\n",
    "\n",
    "df['Category'] = np.where(df['Description'].str.contains(\n",
    "  \"tst--tac|marcos-p|tst--poe|dd/br-#3|cke-bell|tst--cho|spankys-|uber--ea|terra-mi|rita's-#|17-sakur|chick-fi|chipotle|dunkin-#|grubhube|el-ranch|haagen-d|jalapeno|marcos p|mcdonald|my-hot-l|nnt-rita|one-last|oracl-wa|panera-b|smp---fo|spankys |sq--foxy|sq--perc|starbuck|taco-bel|terra mi|tst* cho|tst* poe|tst* tac|uber eat|uber* ea|veracruz\"),\n",
    "  'restaurant', df['Category'])\n",
    "\n",
    "#tax\n",
    "\n",
    "df['Category'] = np.where(df['Description'].str.contains(\n",
    "  'georgia-|gw-chath|intuit-*'),\n",
    "  'tax', df['Category'])\n",
    "\n",
    "#transportation\n",
    "\n",
    "df['Category'] = np.where(df['Description'].str.contains(\n",
    "  '237-peac|whistle-|gate-020|agero-ro|autozone|bp#66297|chatham-|chevron-|circle-k|enmarket|murphy-e|nnt-chat|parkers-|port-cit|racetrac|savannah|shell-se|sapps-wr'),\n",
    "  'transportation', df['Category'])\n",
    "\n",
    "#travel\n",
    "\n",
    "df['Category'] = np.where(df['Description'].str.contains(\n",
    "  'fh--hiwa|pti-jona|airbnb-h|amk-lego|beech-mo|bundesre|cke*bell|merlin-e|nnt-beec|nnt-lego|pti*jona|ruby-fal|sugar-mo'),\n",
    "  'travel', df['Category'])\n",
    "\n",
    "#utilities\n",
    "\n",
    "df['Category'] = np.where(df['Description'].str.contains(\n",
    "  \"ga-portw|att-bill|cash-app|city-of-|clckpay-|ga--port|hp--inst|lowe's-#|municipa|nst-the-|ring-unl|sav-des:|ez--port|usps-po-\"),\n",
    "  'utilities', df['Category'])\n",
    "\n",
    "#savings\n",
    "\n",
    "df['Category'] = np.where(df['Description'].str.contains(\n",
    "  \"online-b|online-s\"),\n",
    "  'savings', df['Category'])\n",
    "\n",
    "#gifts\n",
    "\n",
    "df['Category'] = np.where(df['Description'].str.contains(\n",
    "  'gofndme-'),\n",
    "  'gifts', df['Category'])\n",
    "\n",
    "#cash, checks, and misc.\n",
    "\n",
    "df['Category'] = np.where(df['Description'].str.contains(\n",
    "   'customer|wire-tra'),\n",
    "   'ccm', df['Category'])\n"
   ]
  },
  {
   "cell_type": "code",
   "execution_count": 17,
   "metadata": {
    "colab": {
     "base_uri": "https://localhost:8080/",
     "height": 81
    },
    "executionInfo": {
     "elapsed": 15,
     "status": "ok",
     "timestamp": 1715376011760,
     "user": {
      "displayName": "Julia Austin",
      "userId": "13512607286634222437"
     },
     "user_tz": 240
    },
    "id": "31e2dE3jYPBg",
    "outputId": "c21ffd4a-21fb-4434-9472-c783b8b9460c"
   },
   "outputs": [
    {
     "data": {
      "text/html": [
       "<div>\n",
       "<style scoped>\n",
       "    .dataframe tbody tr th:only-of-type {\n",
       "        vertical-align: middle;\n",
       "    }\n",
       "\n",
       "    .dataframe tbody tr th {\n",
       "        vertical-align: top;\n",
       "    }\n",
       "\n",
       "    .dataframe thead th {\n",
       "        text-align: right;\n",
       "    }\n",
       "</style>\n",
       "<table border=\"1\" class=\"dataframe\">\n",
       "  <thead>\n",
       "    <tr style=\"text-align: right;\">\n",
       "      <th></th>\n",
       "      <th>Date</th>\n",
       "      <th>Description</th>\n",
       "      <th>Amount</th>\n",
       "      <th>Running Bal.</th>\n",
       "      <th>Category</th>\n",
       "    </tr>\n",
       "  </thead>\n",
       "  <tbody>\n",
       "    <tr>\n",
       "      <th>0</th>\n",
       "      <td>11/9/2022</td>\n",
       "      <td>beginnin</td>\n",
       "      <td>NaN</td>\n",
       "      <td>15,230.88</td>\n",
       "      <td>unassigned</td>\n",
       "    </tr>\n",
       "  </tbody>\n",
       "</table>\n",
       "</div>"
      ],
      "text/plain": [
       "        Date Description Amount Running Bal.    Category\n",
       "0  11/9/2022    beginnin    NaN    15,230.88  unassigned"
      ]
     },
     "execution_count": 17,
     "metadata": {},
     "output_type": "execute_result"
    }
   ],
   "source": [
    "df[df['Category'] == 'unassigned']"
   ]
  },
  {
   "cell_type": "code",
   "execution_count": 18,
   "metadata": {
    "executionInfo": {
     "elapsed": 13,
     "status": "ok",
     "timestamp": 1715376011760,
     "user": {
      "displayName": "Julia Austin",
      "userId": "13512607286634222437"
     },
     "user_tz": 240
    },
    "id": "rPBuivRHsK-L"
   },
   "outputs": [],
   "source": [
    "#Convert the 'date' column to a datetime format\n",
    "df['Date'] = pd.to_datetime(df['Date'])"
   ]
  },
  {
   "cell_type": "code",
   "execution_count": 19,
   "metadata": {
    "executionInfo": {
     "elapsed": 12,
     "status": "ok",
     "timestamp": 1715376011760,
     "user": {
      "displayName": "Julia Austin",
      "userId": "13512607286634222437"
     },
     "user_tz": 240
    },
    "id": "6929_u23Ofxi"
   },
   "outputs": [],
   "source": [
    "#Extract the month and year information\n",
    "df['Month'] = df['Date'].dt.month\n",
    "df['Year'] = df['Date'].dt.year"
   ]
  },
  {
   "cell_type": "code",
   "execution_count": 20,
   "metadata": {
    "colab": {
     "base_uri": "https://localhost:8080/",
     "height": 676
    },
    "executionInfo": {
     "elapsed": 12,
     "status": "ok",
     "timestamp": 1715376011761,
     "user": {
      "displayName": "Julia Austin",
      "userId": "13512607286634222437"
     },
     "user_tz": 240
    },
    "id": "tcsr78OTOqCj",
    "outputId": "45988d9d-7e88-44ae-cfac-1c84cb58b822"
   },
   "outputs": [
    {
     "data": {
      "text/html": [
       "<div>\n",
       "<style scoped>\n",
       "    .dataframe tbody tr th:only-of-type {\n",
       "        vertical-align: middle;\n",
       "    }\n",
       "\n",
       "    .dataframe tbody tr th {\n",
       "        vertical-align: top;\n",
       "    }\n",
       "\n",
       "    .dataframe thead th {\n",
       "        text-align: right;\n",
       "    }\n",
       "</style>\n",
       "<table border=\"1\" class=\"dataframe\">\n",
       "  <thead>\n",
       "    <tr style=\"text-align: right;\">\n",
       "      <th></th>\n",
       "      <th>Date</th>\n",
       "      <th>Description</th>\n",
       "      <th>Amount</th>\n",
       "      <th>Running Bal.</th>\n",
       "      <th>Category</th>\n",
       "      <th>Month</th>\n",
       "      <th>Year</th>\n",
       "    </tr>\n",
       "  </thead>\n",
       "  <tbody>\n",
       "    <tr>\n",
       "      <th>0</th>\n",
       "      <td>2022-11-09</td>\n",
       "      <td>beginnin</td>\n",
       "      <td>NaN</td>\n",
       "      <td>15,230.88</td>\n",
       "      <td>unassigned</td>\n",
       "      <td>11</td>\n",
       "      <td>2022</td>\n",
       "    </tr>\n",
       "    <tr>\n",
       "      <th>1</th>\n",
       "      <td>2022-11-09</td>\n",
       "      <td>target.c</td>\n",
       "      <td>-90</td>\n",
       "      <td>15,140.88</td>\n",
       "      <td>shopping</td>\n",
       "      <td>11</td>\n",
       "      <td>2022</td>\n",
       "    </tr>\n",
       "    <tr>\n",
       "      <th>2</th>\n",
       "      <td>2022-11-09</td>\n",
       "      <td>target.c</td>\n",
       "      <td>-6.29</td>\n",
       "      <td>15,134.59</td>\n",
       "      <td>shopping</td>\n",
       "      <td>11</td>\n",
       "      <td>2022</td>\n",
       "    </tr>\n",
       "    <tr>\n",
       "      <th>3</th>\n",
       "      <td>2022-11-09</td>\n",
       "      <td>the-wood</td>\n",
       "      <td>-71.73</td>\n",
       "      <td>15,062.86</td>\n",
       "      <td>shopping</td>\n",
       "      <td>11</td>\n",
       "      <td>2022</td>\n",
       "    </tr>\n",
       "    <tr>\n",
       "      <th>4</th>\n",
       "      <td>2022-11-09</td>\n",
       "      <td>enmarket</td>\n",
       "      <td>-33.22</td>\n",
       "      <td>15,029.64</td>\n",
       "      <td>transportation</td>\n",
       "      <td>11</td>\n",
       "      <td>2022</td>\n",
       "    </tr>\n",
       "    <tr>\n",
       "      <th>5</th>\n",
       "      <td>2022-11-14</td>\n",
       "      <td>amzn-mkt</td>\n",
       "      <td>-12.83</td>\n",
       "      <td>15,016.81</td>\n",
       "      <td>amazon</td>\n",
       "      <td>11</td>\n",
       "      <td>2022</td>\n",
       "    </tr>\n",
       "    <tr>\n",
       "      <th>6</th>\n",
       "      <td>2022-11-14</td>\n",
       "      <td>coastal-</td>\n",
       "      <td>-30</td>\n",
       "      <td>14,986.81</td>\n",
       "      <td>children</td>\n",
       "      <td>11</td>\n",
       "      <td>2022</td>\n",
       "    </tr>\n",
       "    <tr>\n",
       "      <th>7</th>\n",
       "      <td>2022-11-14</td>\n",
       "      <td>cci-care</td>\n",
       "      <td>-8.99</td>\n",
       "      <td>14,977.82</td>\n",
       "      <td>career</td>\n",
       "      <td>11</td>\n",
       "      <td>2022</td>\n",
       "    </tr>\n",
       "    <tr>\n",
       "      <th>8</th>\n",
       "      <td>2022-11-14</td>\n",
       "      <td>kroger-#</td>\n",
       "      <td>-161.7</td>\n",
       "      <td>14,816.12</td>\n",
       "      <td>grocery</td>\n",
       "      <td>11</td>\n",
       "      <td>2022</td>\n",
       "    </tr>\n",
       "    <tr>\n",
       "      <th>9</th>\n",
       "      <td>2022-11-14</td>\n",
       "      <td>sav-des:</td>\n",
       "      <td>-72.47</td>\n",
       "      <td>14,743.65</td>\n",
       "      <td>utilities</td>\n",
       "      <td>11</td>\n",
       "      <td>2022</td>\n",
       "    </tr>\n",
       "    <tr>\n",
       "      <th>10</th>\n",
       "      <td>2022-11-15</td>\n",
       "      <td>hp--inst</td>\n",
       "      <td>-8.55</td>\n",
       "      <td>14,735.10</td>\n",
       "      <td>utilities</td>\n",
       "      <td>11</td>\n",
       "      <td>2022</td>\n",
       "    </tr>\n",
       "    <tr>\n",
       "      <th>11</th>\n",
       "      <td>2022-11-15</td>\n",
       "      <td>municipa</td>\n",
       "      <td>-1.5</td>\n",
       "      <td>14,733.60</td>\n",
       "      <td>utilities</td>\n",
       "      <td>11</td>\n",
       "      <td>2022</td>\n",
       "    </tr>\n",
       "    <tr>\n",
       "      <th>12</th>\n",
       "      <td>2022-11-15</td>\n",
       "      <td>ring-unl</td>\n",
       "      <td>-10</td>\n",
       "      <td>14,723.60</td>\n",
       "      <td>utilities</td>\n",
       "      <td>11</td>\n",
       "      <td>2022</td>\n",
       "    </tr>\n",
       "    <tr>\n",
       "      <th>13</th>\n",
       "      <td>2022-11-16</td>\n",
       "      <td>city-of-</td>\n",
       "      <td>-52.66</td>\n",
       "      <td>14,670.94</td>\n",
       "      <td>utilities</td>\n",
       "      <td>11</td>\n",
       "      <td>2022</td>\n",
       "    </tr>\n",
       "    <tr>\n",
       "      <th>14</th>\n",
       "      <td>2022-11-16</td>\n",
       "      <td>thrivewo</td>\n",
       "      <td>-30</td>\n",
       "      <td>14,640.94</td>\n",
       "      <td>health</td>\n",
       "      <td>11</td>\n",
       "      <td>2022</td>\n",
       "    </tr>\n",
       "    <tr>\n",
       "      <th>15</th>\n",
       "      <td>2022-11-17</td>\n",
       "      <td>amazon.c</td>\n",
       "      <td>-30.68</td>\n",
       "      <td>14,610.26</td>\n",
       "      <td>amazon</td>\n",
       "      <td>11</td>\n",
       "      <td>2022</td>\n",
       "    </tr>\n",
       "    <tr>\n",
       "      <th>16</th>\n",
       "      <td>2022-11-18</td>\n",
       "      <td>zelle-tr</td>\n",
       "      <td>50</td>\n",
       "      <td>14,660.26</td>\n",
       "      <td>deposit</td>\n",
       "      <td>11</td>\n",
       "      <td>2022</td>\n",
       "    </tr>\n",
       "    <tr>\n",
       "      <th>17</th>\n",
       "      <td>2022-11-21</td>\n",
       "      <td>wire-typ</td>\n",
       "      <td>25,000.00</td>\n",
       "      <td>39,660.26</td>\n",
       "      <td>deposit</td>\n",
       "      <td>11</td>\n",
       "      <td>2022</td>\n",
       "    </tr>\n",
       "    <tr>\n",
       "      <th>18</th>\n",
       "      <td>2022-11-21</td>\n",
       "      <td>ez--port</td>\n",
       "      <td>-191</td>\n",
       "      <td>39,469.26</td>\n",
       "      <td>utilities</td>\n",
       "      <td>11</td>\n",
       "      <td>2022</td>\n",
       "    </tr>\n",
       "    <tr>\n",
       "      <th>19</th>\n",
       "      <td>2022-11-21</td>\n",
       "      <td>sapps-wr</td>\n",
       "      <td>-210</td>\n",
       "      <td>39,259.26</td>\n",
       "      <td>transportation</td>\n",
       "      <td>11</td>\n",
       "      <td>2022</td>\n",
       "    </tr>\n",
       "  </tbody>\n",
       "</table>\n",
       "</div>"
      ],
      "text/plain": [
       "         Date Description     Amount Running Bal.        Category  Month  Year\n",
       "0  2022-11-09    beginnin        NaN    15,230.88      unassigned     11  2022\n",
       "1  2022-11-09    target.c        -90    15,140.88        shopping     11  2022\n",
       "2  2022-11-09    target.c      -6.29    15,134.59        shopping     11  2022\n",
       "3  2022-11-09    the-wood     -71.73    15,062.86        shopping     11  2022\n",
       "4  2022-11-09    enmarket     -33.22    15,029.64  transportation     11  2022\n",
       "5  2022-11-14    amzn-mkt     -12.83    15,016.81          amazon     11  2022\n",
       "6  2022-11-14    coastal-        -30    14,986.81        children     11  2022\n",
       "7  2022-11-14    cci-care      -8.99    14,977.82          career     11  2022\n",
       "8  2022-11-14    kroger-#     -161.7    14,816.12         grocery     11  2022\n",
       "9  2022-11-14    sav-des:     -72.47    14,743.65       utilities     11  2022\n",
       "10 2022-11-15    hp--inst      -8.55    14,735.10       utilities     11  2022\n",
       "11 2022-11-15    municipa       -1.5    14,733.60       utilities     11  2022\n",
       "12 2022-11-15    ring-unl        -10    14,723.60       utilities     11  2022\n",
       "13 2022-11-16    city-of-     -52.66    14,670.94       utilities     11  2022\n",
       "14 2022-11-16    thrivewo        -30    14,640.94          health     11  2022\n",
       "15 2022-11-17    amazon.c     -30.68    14,610.26          amazon     11  2022\n",
       "16 2022-11-18    zelle-tr         50    14,660.26         deposit     11  2022\n",
       "17 2022-11-21    wire-typ  25,000.00    39,660.26         deposit     11  2022\n",
       "18 2022-11-21    ez--port       -191    39,469.26       utilities     11  2022\n",
       "19 2022-11-21    sapps-wr       -210    39,259.26  transportation     11  2022"
      ]
     },
     "execution_count": 20,
     "metadata": {},
     "output_type": "execute_result"
    }
   ],
   "source": [
    "df.head(20)"
   ]
  },
  {
   "cell_type": "markdown",
   "metadata": {
    "id": "AtUCTP2kPTLi"
   },
   "source": [
    "#Build Dashboard"
   ]
  },
  {
   "cell_type": "markdown",
   "metadata": {
    "id": "geZtO80kPY7x"
   },
   "source": [
    "**Create Top Banner for a summary of last month's income, recurring expenses, non-recurring expenses and savings**"
   ]
  },
  {
   "cell_type": "code",
   "execution_count": 21,
   "metadata": {
    "colab": {
     "base_uri": "https://localhost:8080/",
     "height": 423
    },
    "executionInfo": {
     "elapsed": 358,
     "status": "ok",
     "timestamp": 1715376012109,
     "user": {
      "displayName": "Julia Austin",
      "userId": "13512607286634222437"
     },
     "user_tz": 240
    },
    "id": "Cro1CW08Orv3",
    "outputId": "de0614d3-b9dc-4845-c64d-4d5059e7d6c4"
   },
   "outputs": [
    {
     "data": {
      "text/html": [
       "<div>\n",
       "<style scoped>\n",
       "    .dataframe tbody tr th:only-of-type {\n",
       "        vertical-align: middle;\n",
       "    }\n",
       "\n",
       "    .dataframe tbody tr th {\n",
       "        vertical-align: top;\n",
       "    }\n",
       "\n",
       "    .dataframe thead th {\n",
       "        text-align: right;\n",
       "    }\n",
       "</style>\n",
       "<table border=\"1\" class=\"dataframe\">\n",
       "  <thead>\n",
       "    <tr style=\"text-align: right;\">\n",
       "      <th></th>\n",
       "      <th>Date</th>\n",
       "      <th>Description</th>\n",
       "      <th>Amount</th>\n",
       "      <th>Running Bal.</th>\n",
       "      <th>Category</th>\n",
       "      <th>Month</th>\n",
       "      <th>Year</th>\n",
       "    </tr>\n",
       "  </thead>\n",
       "  <tbody>\n",
       "    <tr>\n",
       "      <th>942</th>\n",
       "      <td>2024-04-01</td>\n",
       "      <td>zelle-pa</td>\n",
       "      <td>1,000.00</td>\n",
       "      <td>12,556.32</td>\n",
       "      <td>deposit</td>\n",
       "      <td>4</td>\n",
       "      <td>2024</td>\n",
       "    </tr>\n",
       "    <tr>\n",
       "      <th>943</th>\n",
       "      <td>2024-04-01</td>\n",
       "      <td>zelle-pa</td>\n",
       "      <td>55</td>\n",
       "      <td>12,611.32</td>\n",
       "      <td>deposit</td>\n",
       "      <td>4</td>\n",
       "      <td>2024</td>\n",
       "    </tr>\n",
       "    <tr>\n",
       "      <th>944</th>\n",
       "      <td>2024-04-01</td>\n",
       "      <td>netflix.</td>\n",
       "      <td>-11.99</td>\n",
       "      <td>12,599.33</td>\n",
       "      <td>entertainment</td>\n",
       "      <td>4</td>\n",
       "      <td>2024</td>\n",
       "    </tr>\n",
       "    <tr>\n",
       "      <th>945</th>\n",
       "      <td>2024-04-01</td>\n",
       "      <td>anthem-b</td>\n",
       "      <td>-10.97</td>\n",
       "      <td>12,588.36</td>\n",
       "      <td>insurance</td>\n",
       "      <td>4</td>\n",
       "      <td>2024</td>\n",
       "    </tr>\n",
       "    <tr>\n",
       "      <th>946</th>\n",
       "      <td>2024-04-01</td>\n",
       "      <td>anthem-b</td>\n",
       "      <td>-1.23</td>\n",
       "      <td>12,587.13</td>\n",
       "      <td>insurance</td>\n",
       "      <td>4</td>\n",
       "      <td>2024</td>\n",
       "    </tr>\n",
       "    <tr>\n",
       "      <th>...</th>\n",
       "      <td>...</td>\n",
       "      <td>...</td>\n",
       "      <td>...</td>\n",
       "      <td>...</td>\n",
       "      <td>...</td>\n",
       "      <td>...</td>\n",
       "      <td>...</td>\n",
       "    </tr>\n",
       "    <tr>\n",
       "      <th>998</th>\n",
       "      <td>2024-04-29</td>\n",
       "      <td>food-lio</td>\n",
       "      <td>-105.58</td>\n",
       "      <td>11,889.04</td>\n",
       "      <td>grocery</td>\n",
       "      <td>4</td>\n",
       "      <td>2024</td>\n",
       "    </tr>\n",
       "    <tr>\n",
       "      <th>999</th>\n",
       "      <td>2024-04-29</td>\n",
       "      <td>netflix.</td>\n",
       "      <td>-11.99</td>\n",
       "      <td>11,877.05</td>\n",
       "      <td>entertainment</td>\n",
       "      <td>4</td>\n",
       "      <td>2024</td>\n",
       "    </tr>\n",
       "    <tr>\n",
       "      <th>1000</th>\n",
       "      <td>2024-04-29</td>\n",
       "      <td>cvs/phar</td>\n",
       "      <td>-55.98</td>\n",
       "      <td>11,821.07</td>\n",
       "      <td>grocery</td>\n",
       "      <td>4</td>\n",
       "      <td>2024</td>\n",
       "    </tr>\n",
       "    <tr>\n",
       "      <th>1001</th>\n",
       "      <td>2024-04-30</td>\n",
       "      <td>17-sakur</td>\n",
       "      <td>-45.26</td>\n",
       "      <td>11,775.81</td>\n",
       "      <td>restaurant</td>\n",
       "      <td>4</td>\n",
       "      <td>2024</td>\n",
       "    </tr>\n",
       "    <tr>\n",
       "      <th>1002</th>\n",
       "      <td>2024-04-30</td>\n",
       "      <td>agero-ro</td>\n",
       "      <td>-22.5</td>\n",
       "      <td>11,753.31</td>\n",
       "      <td>transportation</td>\n",
       "      <td>4</td>\n",
       "      <td>2024</td>\n",
       "    </tr>\n",
       "  </tbody>\n",
       "</table>\n",
       "<p>61 rows × 7 columns</p>\n",
       "</div>"
      ],
      "text/plain": [
       "           Date Description    Amount Running Bal.        Category  Month  \\\n",
       "942  2024-04-01    zelle-pa  1,000.00    12,556.32         deposit      4   \n",
       "943  2024-04-01    zelle-pa        55    12,611.32         deposit      4   \n",
       "944  2024-04-01    netflix.    -11.99    12,599.33   entertainment      4   \n",
       "945  2024-04-01    anthem-b    -10.97    12,588.36       insurance      4   \n",
       "946  2024-04-01    anthem-b     -1.23    12,587.13       insurance      4   \n",
       "...         ...         ...       ...          ...             ...    ...   \n",
       "998  2024-04-29    food-lio   -105.58    11,889.04         grocery      4   \n",
       "999  2024-04-29    netflix.    -11.99    11,877.05   entertainment      4   \n",
       "1000 2024-04-29    cvs/phar    -55.98    11,821.07         grocery      4   \n",
       "1001 2024-04-30    17-sakur    -45.26    11,775.81      restaurant      4   \n",
       "1002 2024-04-30    agero-ro     -22.5    11,753.31  transportation      4   \n",
       "\n",
       "      Year  \n",
       "942   2024  \n",
       "943   2024  \n",
       "944   2024  \n",
       "945   2024  \n",
       "946   2024  \n",
       "...    ...  \n",
       "998   2024  \n",
       "999   2024  \n",
       "1000  2024  \n",
       "1001  2024  \n",
       "1002  2024  \n",
       "\n",
       "[61 rows x 7 columns]"
      ]
     },
     "execution_count": 21,
     "metadata": {},
     "output_type": "execute_result"
    }
   ],
   "source": [
    "#import datetime\n",
    "from datetime import datetime\n",
    "\n",
    "#Get the latest month and year\n",
    "latest_month = datetime.now().month - 1\n",
    "latest_year = df['Year'].max()\n",
    "\n",
    "#Filter the dataframe to include only transactions from the latest month\n",
    "last_month_expenses = df[(df['Month'] == latest_month) & (df['Year'] == latest_year)]\n",
    "last_month_expenses"
   ]
  },
  {
   "cell_type": "code",
   "execution_count": 22,
   "metadata": {
    "colab": {
     "base_uri": "https://localhost:8080/",
     "height": 873
    },
    "executionInfo": {
     "elapsed": 17,
     "status": "ok",
     "timestamp": 1715376012109,
     "user": {
      "displayName": "Julia Austin",
      "userId": "13512607286634222437"
     },
     "user_tz": 240
    },
    "id": "Q3-4NFDOPkqw",
    "outputId": "0bd47731-9622-4f37-c960-367aa7e8dd70"
   },
   "outputs": [
    {
     "name": "stderr",
     "output_type": "stream",
     "text": [
      "C:\\Users\\kjaustin\\AppData\\Local\\Temp\\ipykernel_24052\\2437007568.py:1: SettingWithCopyWarning: \n",
      "A value is trying to be set on a copy of a slice from a DataFrame.\n",
      "Try using .loc[row_indexer,col_indexer] = value instead\n",
      "\n",
      "See the caveats in the documentation: https://pandas.pydata.org/pandas-docs/stable/user_guide/indexing.html#returning-a-view-versus-a-copy\n",
      "  last_month_expenses['Amount']=last_month_expenses['Amount'].astype('str')\n",
      "C:\\Users\\kjaustin\\AppData\\Local\\Temp\\ipykernel_24052\\2437007568.py:2: SettingWithCopyWarning: \n",
      "A value is trying to be set on a copy of a slice from a DataFrame.\n",
      "Try using .loc[row_indexer,col_indexer] = value instead\n",
      "\n",
      "See the caveats in the documentation: https://pandas.pydata.org/pandas-docs/stable/user_guide/indexing.html#returning-a-view-versus-a-copy\n",
      "  last_month_expenses['Amount']=last_month_expenses['Amount'].str.replace('-','')\n",
      "C:\\Users\\kjaustin\\AppData\\Local\\Temp\\ipykernel_24052\\2437007568.py:3: SettingWithCopyWarning: \n",
      "A value is trying to be set on a copy of a slice from a DataFrame.\n",
      "Try using .loc[row_indexer,col_indexer] = value instead\n",
      "\n",
      "See the caveats in the documentation: https://pandas.pydata.org/pandas-docs/stable/user_guide/indexing.html#returning-a-view-versus-a-copy\n",
      "  last_month_expenses['Amount']=last_month_expenses['Amount'].str.replace(',','')\n",
      "C:\\Users\\kjaustin\\AppData\\Local\\Temp\\ipykernel_24052\\2437007568.py:4: SettingWithCopyWarning: \n",
      "A value is trying to be set on a copy of a slice from a DataFrame.\n",
      "Try using .loc[row_indexer,col_indexer] = value instead\n",
      "\n",
      "See the caveats in the documentation: https://pandas.pydata.org/pandas-docs/stable/user_guide/indexing.html#returning-a-view-versus-a-copy\n",
      "  last_month_expenses['Amount'] = last_month_expenses['Amount'].astype(float)\n"
     ]
    },
    {
     "data": {
      "text/html": [
       "<div>\n",
       "<style scoped>\n",
       "    .dataframe tbody tr th:only-of-type {\n",
       "        vertical-align: middle;\n",
       "    }\n",
       "\n",
       "    .dataframe tbody tr th {\n",
       "        vertical-align: top;\n",
       "    }\n",
       "\n",
       "    .dataframe thead th {\n",
       "        text-align: right;\n",
       "    }\n",
       "</style>\n",
       "<table border=\"1\" class=\"dataframe\">\n",
       "  <thead>\n",
       "    <tr style=\"text-align: right;\">\n",
       "      <th></th>\n",
       "      <th>Category</th>\n",
       "      <th>Amount</th>\n",
       "    </tr>\n",
       "  </thead>\n",
       "  <tbody>\n",
       "    <tr>\n",
       "      <th>6</th>\n",
       "      <td>grocery</td>\n",
       "      <td>621</td>\n",
       "    </tr>\n",
       "    <tr>\n",
       "      <th>7</th>\n",
       "      <td>health</td>\n",
       "      <td>359</td>\n",
       "    </tr>\n",
       "    <tr>\n",
       "      <th>10</th>\n",
       "      <td>savings</td>\n",
       "      <td>350</td>\n",
       "    </tr>\n",
       "    <tr>\n",
       "      <th>13</th>\n",
       "      <td>utilities</td>\n",
       "      <td>311</td>\n",
       "    </tr>\n",
       "    <tr>\n",
       "      <th>0</th>\n",
       "      <td>amazon</td>\n",
       "      <td>221</td>\n",
       "    </tr>\n",
       "    <tr>\n",
       "      <th>2</th>\n",
       "      <td>children</td>\n",
       "      <td>215</td>\n",
       "    </tr>\n",
       "    <tr>\n",
       "      <th>1</th>\n",
       "      <td>career</td>\n",
       "      <td>202</td>\n",
       "    </tr>\n",
       "    <tr>\n",
       "      <th>11</th>\n",
       "      <td>shopping</td>\n",
       "      <td>162</td>\n",
       "    </tr>\n",
       "    <tr>\n",
       "      <th>9</th>\n",
       "      <td>restaurant</td>\n",
       "      <td>130</td>\n",
       "    </tr>\n",
       "    <tr>\n",
       "      <th>3</th>\n",
       "      <td>credit_card</td>\n",
       "      <td>123</td>\n",
       "    </tr>\n",
       "    <tr>\n",
       "      <th>12</th>\n",
       "      <td>transportation</td>\n",
       "      <td>86</td>\n",
       "    </tr>\n",
       "    <tr>\n",
       "      <th>5</th>\n",
       "      <td>entertainment</td>\n",
       "      <td>32</td>\n",
       "    </tr>\n",
       "    <tr>\n",
       "      <th>8</th>\n",
       "      <td>insurance</td>\n",
       "      <td>12</td>\n",
       "    </tr>\n",
       "  </tbody>\n",
       "</table>\n",
       "</div>"
      ],
      "text/plain": [
       "          Category  Amount\n",
       "6          grocery     621\n",
       "7           health     359\n",
       "10         savings     350\n",
       "13       utilities     311\n",
       "0           amazon     221\n",
       "2         children     215\n",
       "1           career     202\n",
       "11        shopping     162\n",
       "9       restaurant     130\n",
       "3      credit_card     123\n",
       "12  transportation      86\n",
       "5    entertainment      32\n",
       "8        insurance      12"
      ]
     },
     "execution_count": 22,
     "metadata": {},
     "output_type": "execute_result"
    }
   ],
   "source": [
    "last_month_expenses['Amount']=last_month_expenses['Amount'].astype('str')\n",
    "last_month_expenses['Amount']=last_month_expenses['Amount'].str.replace('-','')\n",
    "last_month_expenses['Amount']=last_month_expenses['Amount'].str.replace(',','')\n",
    "last_month_expenses['Amount'] = last_month_expenses['Amount'].astype(float)\n",
    "\n",
    "last_month_expenses = last_month_expenses.groupby('Category')['Amount'].sum().reset_index()\n",
    "\n",
    "last_month_expenses = last_month_expenses[last_month_expenses['Category'].str.contains('deposit|unassigned') == False]\n",
    "last_month_expenses = last_month_expenses.sort_values(by='Amount', ascending=False)\n",
    "last_month_expenses['Amount'] = last_month_expenses['Amount'].round().astype(int) #round values\n",
    "\n",
    "last_month_expenses"
   ]
  },
  {
   "cell_type": "code",
   "execution_count": 23,
   "metadata": {
    "colab": {
     "base_uri": "https://localhost:8080/"
    },
    "executionInfo": {
     "elapsed": 12,
     "status": "ok",
     "timestamp": 1715376012110,
     "user": {
      "displayName": "Julia Austin",
      "userId": "13512607286634222437"
     },
     "user_tz": 240
    },
    "id": "8tednJ_hRCSL",
    "outputId": "f5432721-487b-421b-9288-bdb462d2b7b3"
   },
   "outputs": [
    {
     "data": {
      "text/plain": [
       "2824"
      ]
     },
     "execution_count": 23,
     "metadata": {},
     "output_type": "execute_result"
    }
   ],
   "source": [
    "last_month_expenses_tot = last_month_expenses['Amount'].sum()\n",
    "last_month_expenses_tot"
   ]
  },
  {
   "cell_type": "code",
   "execution_count": 24,
   "metadata": {
    "colab": {
     "base_uri": "https://localhost:8080/"
    },
    "executionInfo": {
     "elapsed": 187,
     "status": "ok",
     "timestamp": 1715381029545,
     "user": {
      "displayName": "Julia Austin",
      "userId": "13512607286634222437"
     },
     "user_tz": 240
    },
    "id": "Go5dDW2WUa1X",
    "outputId": "8f50fc5b-a57c-4242-a62e-b90abb37b481"
   },
   "outputs": [
    {
     "name": "stdout",
     "output_type": "stream",
     "text": [
      "Launching server at http://localhost:54697\n"
     ]
    },
    {
     "ename": "AssertionError",
     "evalue": "",
     "output_type": "error",
     "traceback": [
      "\u001b[1;31m---------------------------------------------------------------------------\u001b[0m",
      "\u001b[1;31mAssertionError\u001b[0m                            Traceback (most recent call last)",
      "Cell \u001b[1;32mIn[24], line 17\u001b[0m\n\u001b[0;32m     14\u001b[0m recurring_expenses_widget\u001b[38;5;241m.\u001b[39mparam\u001b[38;5;241m.\u001b[39mwatch(calculate_difference, \u001b[38;5;124m'\u001b[39m\u001b[38;5;124mvalue\u001b[39m\u001b[38;5;124m'\u001b[39m)\n\u001b[0;32m     15\u001b[0m monthly_expenses_widget\u001b[38;5;241m.\u001b[39mparam\u001b[38;5;241m.\u001b[39mwatch(calculate_difference, \u001b[38;5;124m'\u001b[39m\u001b[38;5;124mvalue\u001b[39m\u001b[38;5;124m'\u001b[39m)\n\u001b[1;32m---> 17\u001b[0m pn\u001b[38;5;241m.\u001b[39mRow(income_widget, recurring_expenses_widget, monthly_expenses_widget, difference_widget)\u001b[38;5;241m.\u001b[39mshow()\n",
      "File \u001b[1;32mD:\\Anaconda\\Lib\\site-packages\\panel\\viewable.py:449\u001b[0m, in \u001b[0;36mServableMixin.show\u001b[1;34m(self, title, port, address, websocket_origin, threaded, verbose, open, location, **kwargs)\u001b[0m\n\u001b[0;32m    411\u001b[0m \u001b[38;5;28;01mdef\u001b[39;00m \u001b[38;5;21mshow\u001b[39m(\n\u001b[0;32m    412\u001b[0m     \u001b[38;5;28mself\u001b[39m, title: Optional[\u001b[38;5;28mstr\u001b[39m] \u001b[38;5;241m=\u001b[39m \u001b[38;5;28;01mNone\u001b[39;00m, port: \u001b[38;5;28mint\u001b[39m \u001b[38;5;241m=\u001b[39m \u001b[38;5;241m0\u001b[39m, address: Optional[\u001b[38;5;28mstr\u001b[39m] \u001b[38;5;241m=\u001b[39m \u001b[38;5;28;01mNone\u001b[39;00m,\n\u001b[0;32m    413\u001b[0m     websocket_origin: Optional[\u001b[38;5;28mstr\u001b[39m] \u001b[38;5;241m=\u001b[39m \u001b[38;5;28;01mNone\u001b[39;00m, threaded: \u001b[38;5;28mbool\u001b[39m \u001b[38;5;241m=\u001b[39m \u001b[38;5;28;01mFalse\u001b[39;00m, verbose: \u001b[38;5;28mbool\u001b[39m \u001b[38;5;241m=\u001b[39m \u001b[38;5;28;01mTrue\u001b[39;00m,\n\u001b[0;32m    414\u001b[0m     \u001b[38;5;28mopen\u001b[39m: \u001b[38;5;28mbool\u001b[39m \u001b[38;5;241m=\u001b[39m \u001b[38;5;28;01mTrue\u001b[39;00m, location: \u001b[38;5;28mbool\u001b[39m \u001b[38;5;241m|\u001b[39m \u001b[38;5;124m'\u001b[39m\u001b[38;5;124mLocation\u001b[39m\u001b[38;5;124m'\u001b[39m \u001b[38;5;241m=\u001b[39m \u001b[38;5;28;01mTrue\u001b[39;00m, \u001b[38;5;241m*\u001b[39m\u001b[38;5;241m*\u001b[39mkwargs\n\u001b[0;32m    415\u001b[0m ) \u001b[38;5;241m-\u001b[39m\u001b[38;5;241m>\u001b[39m \u001b[38;5;124m'\u001b[39m\u001b[38;5;124mStoppableThread\u001b[39m\u001b[38;5;124m'\u001b[39m \u001b[38;5;241m|\u001b[39m \u001b[38;5;124m'\u001b[39m\u001b[38;5;124mServer\u001b[39m\u001b[38;5;124m'\u001b[39m:\n\u001b[0;32m    416\u001b[0m \u001b[38;5;250m    \u001b[39m\u001b[38;5;124;03m\"\"\"\u001b[39;00m\n\u001b[0;32m    417\u001b[0m \u001b[38;5;124;03m    Starts a Bokeh server and displays the Viewable in a new tab.\u001b[39;00m\n\u001b[0;32m    418\u001b[0m \n\u001b[1;32m   (...)\u001b[0m\n\u001b[0;32m    447\u001b[0m \u001b[38;5;124;03m      was launched on (if threaded=True)\u001b[39;00m\n\u001b[0;32m    448\u001b[0m \u001b[38;5;124;03m    \"\"\"\u001b[39;00m\n\u001b[1;32m--> 449\u001b[0m     \u001b[38;5;28;01mreturn\u001b[39;00m serve(\n\u001b[0;32m    450\u001b[0m         \u001b[38;5;28mself\u001b[39m, port\u001b[38;5;241m=\u001b[39mport, address\u001b[38;5;241m=\u001b[39maddress, websocket_origin\u001b[38;5;241m=\u001b[39mwebsocket_origin,\n\u001b[0;32m    451\u001b[0m         show\u001b[38;5;241m=\u001b[39m\u001b[38;5;28mopen\u001b[39m, start\u001b[38;5;241m=\u001b[39m\u001b[38;5;28;01mTrue\u001b[39;00m, title\u001b[38;5;241m=\u001b[39mtitle, verbose\u001b[38;5;241m=\u001b[39mverbose,\n\u001b[0;32m    452\u001b[0m         location\u001b[38;5;241m=\u001b[39mlocation, threaded\u001b[38;5;241m=\u001b[39mthreaded, \u001b[38;5;241m*\u001b[39m\u001b[38;5;241m*\u001b[39mkwargs\n\u001b[0;32m    453\u001b[0m     )\n",
      "File \u001b[1;32mD:\\Anaconda\\Lib\\site-packages\\panel\\io\\server.py:988\u001b[0m, in \u001b[0;36mserve\u001b[1;34m(panels, port, address, websocket_origin, loop, show, start, title, verbose, location, threaded, admin, **kwargs)\u001b[0m\n\u001b[0;32m    986\u001b[0m     server\u001b[38;5;241m.\u001b[39mstart()\n\u001b[0;32m    987\u001b[0m \u001b[38;5;28;01melse\u001b[39;00m:\n\u001b[1;32m--> 988\u001b[0m     \u001b[38;5;28;01mreturn\u001b[39;00m get_server(panels, \u001b[38;5;241m*\u001b[39m\u001b[38;5;241m*\u001b[39mkwargs)\n\u001b[0;32m    989\u001b[0m \u001b[38;5;28;01mreturn\u001b[39;00m server\n",
      "File \u001b[1;32mD:\\Anaconda\\Lib\\site-packages\\panel\\io\\server.py:1322\u001b[0m, in \u001b[0;36mget_server\u001b[1;34m(panel, port, address, websocket_origin, loop, show, start, title, verbose, location, admin, static_dirs, basic_auth, oauth_provider, oauth_key, oauth_secret, oauth_redirect_uri, oauth_extra_params, oauth_error_template, cookie_secret, oauth_encryption_key, oauth_jwt_user, oauth_refresh_tokens, oauth_guest_endpoints, oauth_optional, login_endpoint, logout_endpoint, login_template, logout_template, session_history, liveness, **kwargs)\u001b[0m\n\u001b[0;32m   1320\u001b[0m server\u001b[38;5;241m.\u001b[39mstart()\n\u001b[0;32m   1321\u001b[0m \u001b[38;5;28;01mtry\u001b[39;00m:\n\u001b[1;32m-> 1322\u001b[0m     server\u001b[38;5;241m.\u001b[39mio_loop\u001b[38;5;241m.\u001b[39mstart()\n\u001b[0;32m   1323\u001b[0m \u001b[38;5;28;01mexcept\u001b[39;00m \u001b[38;5;167;01mRuntimeError\u001b[39;00m:\n\u001b[0;32m   1324\u001b[0m     \u001b[38;5;28;01mpass\u001b[39;00m\n",
      "File \u001b[1;32mD:\\Anaconda\\Lib\\site-packages\\tornado\\platform\\asyncio.py:195\u001b[0m, in \u001b[0;36mBaseAsyncIOLoop.start\u001b[1;34m(self)\u001b[0m\n\u001b[0;32m    194\u001b[0m \u001b[38;5;28;01mdef\u001b[39;00m \u001b[38;5;21mstart\u001b[39m(\u001b[38;5;28mself\u001b[39m) \u001b[38;5;241m-\u001b[39m\u001b[38;5;241m>\u001b[39m \u001b[38;5;28;01mNone\u001b[39;00m:\n\u001b[1;32m--> 195\u001b[0m     \u001b[38;5;28mself\u001b[39m\u001b[38;5;241m.\u001b[39masyncio_loop\u001b[38;5;241m.\u001b[39mrun_forever()\n",
      "File \u001b[1;32mD:\\Anaconda\\Lib\\asyncio\\windows_events.py:319\u001b[0m, in \u001b[0;36mProactorEventLoop.run_forever\u001b[1;34m(self)\u001b[0m\n\u001b[0;32m    317\u001b[0m \u001b[38;5;28;01mdef\u001b[39;00m \u001b[38;5;21mrun_forever\u001b[39m(\u001b[38;5;28mself\u001b[39m):\n\u001b[0;32m    318\u001b[0m     \u001b[38;5;28;01mtry\u001b[39;00m:\n\u001b[1;32m--> 319\u001b[0m         \u001b[38;5;28;01massert\u001b[39;00m \u001b[38;5;28mself\u001b[39m\u001b[38;5;241m.\u001b[39m_self_reading_future \u001b[38;5;129;01mis\u001b[39;00m \u001b[38;5;28;01mNone\u001b[39;00m\n\u001b[0;32m    320\u001b[0m         \u001b[38;5;28mself\u001b[39m\u001b[38;5;241m.\u001b[39mcall_soon(\u001b[38;5;28mself\u001b[39m\u001b[38;5;241m.\u001b[39m_loop_self_reading)\n\u001b[0;32m    321\u001b[0m         \u001b[38;5;28msuper\u001b[39m()\u001b[38;5;241m.\u001b[39mrun_forever()\n",
      "\u001b[1;31mAssertionError\u001b[0m: "
     ]
    }
   ],
   "source": [
    "def calculate_difference(event):\n",
    "  income = float(income_widget.value)\n",
    "  recurring_expenses = float(recurring_expenses_widget.value)\n",
    "  monthly_expenses = float(monthly_expenses_widget.value)\n",
    "  difference = income - recurring_expenses - monthly_expenses\n",
    "  difference_widget.value = str(difference)\n",
    "\n",
    "income_widget = pn.widgets.TextInput(name = 'Income', value = '0')\n",
    "recurring_expenses_widget = pn.widgets.TextInput(name = 'Recurring Expenses', value = '0')\n",
    "monthly_expenses_widget = pn.widgets.TextInput(name = 'Non-Recurring Expenses', value = str(last_month_expenses_tot))\n",
    "difference_widget = pn.widgets.TextInput(name = \"Last Month's Savings\", value = '0')\n",
    "\n",
    "income_widget.param.watch(calculate_difference, 'value')\n",
    "recurring_expenses_widget.param.watch(calculate_difference, 'value')\n",
    "monthly_expenses_widget.param.watch(calculate_difference, 'value')\n",
    "\n",
    "pn.Row(income_widget, recurring_expenses_widget, monthly_expenses_widget, difference_widget).show()"
   ]
  },
  {
   "cell_type": "markdown",
   "metadata": {
    "id": "853X2KdXXLKb"
   },
   "source": [
    "**Create last month expenses bar chart**"
   ]
  },
  {
   "cell_type": "code",
   "execution_count": 40,
   "metadata": {
    "colab": {
     "base_uri": "https://localhost:8080/",
     "height": 590
    },
    "executionInfo": {
     "elapsed": 790,
     "status": "ok",
     "timestamp": 1715378616532,
     "user": {
      "displayName": "Julia Austin",
      "userId": "13512607286634222437"
     },
     "user_tz": 240
    },
    "id": "wByxLYEiVwRq",
    "outputId": "45370ca4-6336-47e1-92c3-76693c9776fd"
   },
   "outputs": [
    {
     "data": {},
     "metadata": {},
     "output_type": "display_data"
    },
    {
     "data": {
      "application/vnd.holoviews_exec.v0+json": "",
      "text/html": [
       "<div id='787bdf2d-f34d-4047-bf49-a62f3f539824'>\n",
       "  <div id=\"a61fe5ba-eb71-4194-a66c-e620a2c76524\" data-root-id=\"787bdf2d-f34d-4047-bf49-a62f3f539824\" style=\"display: contents;\"></div>\n",
       "</div>\n",
       "<script type=\"application/javascript\">(function(root) {\n",
       "  var docs_json = {\"518889df-ad26-41c9-bc3e-0072909d3e84\":{\"version\":\"3.3.4\",\"title\":\"Bokeh Application\",\"roots\":[{\"type\":\"object\",\"name\":\"Row\",\"id\":\"787bdf2d-f34d-4047-bf49-a62f3f539824\",\"attributes\":{\"name\":\"Row03320\",\"tags\":[\"embedded\"],\"stylesheets\":[\"\\n:host(.pn-loading.pn-arc):before, .pn-loading.pn-arc:before {\\n  background-image: url(\\\"data:image/svg+xml;base64,PHN2ZyB4bWxucz0iaHR0cDovL3d3dy53My5vcmcvMjAwMC9zdmciIHN0eWxlPSJtYXJnaW46IGF1dG87IGJhY2tncm91bmQ6IG5vbmU7IGRpc3BsYXk6IGJsb2NrOyBzaGFwZS1yZW5kZXJpbmc6IGF1dG87IiB2aWV3Qm94PSIwIDAgMTAwIDEwMCIgcHJlc2VydmVBc3BlY3RSYXRpbz0ieE1pZFlNaWQiPiAgPGNpcmNsZSBjeD0iNTAiIGN5PSI1MCIgZmlsbD0ibm9uZSIgc3Ryb2tlPSIjYzNjM2MzIiBzdHJva2Utd2lkdGg9IjEwIiByPSIzNSIgc3Ryb2tlLWRhc2hhcnJheT0iMTY0LjkzMzYxNDMxMzQ2NDE1IDU2Ljk3Nzg3MTQzNzgyMTM4Ij4gICAgPGFuaW1hdGVUcmFuc2Zvcm0gYXR0cmlidXRlTmFtZT0idHJhbnNmb3JtIiB0eXBlPSJyb3RhdGUiIHJlcGVhdENvdW50PSJpbmRlZmluaXRlIiBkdXI9IjFzIiB2YWx1ZXM9IjAgNTAgNTA7MzYwIDUwIDUwIiBrZXlUaW1lcz0iMDsxIj48L2FuaW1hdGVUcmFuc2Zvcm0+ICA8L2NpcmNsZT48L3N2Zz4=\\\");\\n  background-size: auto calc(min(50%, 400px));\\n}\",{\"type\":\"object\",\"name\":\"ImportedStyleSheet\",\"id\":\"22b6ad05-5ab3-4402-b724-7d60cf052e17\",\"attributes\":{\"url\":\"https://cdn.holoviz.org/panel/1.3.8/dist/css/loading.css\"}},{\"type\":\"object\",\"name\":\"ImportedStyleSheet\",\"id\":\"ed65c8e0-7703-402a-a1fb-7ac30af40754\",\"attributes\":{\"url\":\"https://cdn.holoviz.org/panel/1.3.8/dist/css/listpanel.css\"}},{\"type\":\"object\",\"name\":\"ImportedStyleSheet\",\"id\":\"6c671119-f307-44ba-ab22-9ff784157cdd\",\"attributes\":{\"url\":\"https://cdn.holoviz.org/panel/1.3.8/dist/bundled/theme/default.css\"}},{\"type\":\"object\",\"name\":\"ImportedStyleSheet\",\"id\":\"ec279a55-1875-4864-b384-17b519d2af1f\",\"attributes\":{\"url\":\"https://cdn.holoviz.org/panel/1.3.8/dist/bundled/theme/native.css\"}}],\"min_width\":850,\"margin\":0,\"sizing_mode\":\"stretch_width\",\"align\":\"start\",\"children\":[{\"type\":\"object\",\"name\":\"Spacer\",\"id\":\"34de25b5-cf48-4f15-95cb-8a53272748d6\",\"attributes\":{\"name\":\"HSpacer03327\",\"stylesheets\":[\"\\n:host(.pn-loading.pn-arc):before, .pn-loading.pn-arc:before {\\n  background-image: url(\\\"data:image/svg+xml;base64,PHN2ZyB4bWxucz0iaHR0cDovL3d3dy53My5vcmcvMjAwMC9zdmciIHN0eWxlPSJtYXJnaW46IGF1dG87IGJhY2tncm91bmQ6IG5vbmU7IGRpc3BsYXk6IGJsb2NrOyBzaGFwZS1yZW5kZXJpbmc6IGF1dG87IiB2aWV3Qm94PSIwIDAgMTAwIDEwMCIgcHJlc2VydmVBc3BlY3RSYXRpbz0ieE1pZFlNaWQiPiAgPGNpcmNsZSBjeD0iNTAiIGN5PSI1MCIgZmlsbD0ibm9uZSIgc3Ryb2tlPSIjYzNjM2MzIiBzdHJva2Utd2lkdGg9IjEwIiByPSIzNSIgc3Ryb2tlLWRhc2hhcnJheT0iMTY0LjkzMzYxNDMxMzQ2NDE1IDU2Ljk3Nzg3MTQzNzgyMTM4Ij4gICAgPGFuaW1hdGVUcmFuc2Zvcm0gYXR0cmlidXRlTmFtZT0idHJhbnNmb3JtIiB0eXBlPSJyb3RhdGUiIHJlcGVhdENvdW50PSJpbmRlZmluaXRlIiBkdXI9IjFzIiB2YWx1ZXM9IjAgNTAgNTA7MzYwIDUwIDUwIiBrZXlUaW1lcz0iMDsxIj48L2FuaW1hdGVUcmFuc2Zvcm0+ICA8L2NpcmNsZT48L3N2Zz4=\\\");\\n  background-size: auto calc(min(50%, 400px));\\n}\",{\"id\":\"22b6ad05-5ab3-4402-b724-7d60cf052e17\"},{\"id\":\"6c671119-f307-44ba-ab22-9ff784157cdd\"},{\"id\":\"ec279a55-1875-4864-b384-17b519d2af1f\"}],\"margin\":0,\"sizing_mode\":\"stretch_width\",\"align\":\"start\"}},{\"type\":\"object\",\"name\":\"Figure\",\"id\":\"2f7f85e8-2127-4858-b375-fdeb4f47b1a6\",\"attributes\":{\"width\":850,\"height\":250,\"margin\":[5,10],\"sizing_mode\":\"fixed\",\"align\":\"start\",\"x_range\":{\"type\":\"object\",\"name\":\"FactorRange\",\"id\":\"d608bdb3-201f-46e9-9633-cba61efce4d1\",\"attributes\":{\"tags\":[[[\"Category\",\"Category\",null]],[]],\"factors\":[\"grocery\",\"health\",\"savings\",\"utilities\",\"amazon\",\"children\",\"career\",\"shopping\",\"restaurant\",\"credit_card\",\"transportation\",\"entertainment\",\"insurance\"]}},\"y_range\":{\"type\":\"object\",\"name\":\"Range1d\",\"id\":\"1448a160-d00a-40e7-9604-97cd6b179223\",\"attributes\":{\"tags\":[[[\"Amount\",\"Amount\",null]],{\"type\":\"map\",\"entries\":[[\"invert_yaxis\",false],[\"autorange\",false]]}],\"end\":500,\"reset_start\":0,\"reset_end\":500}},\"x_scale\":{\"type\":\"object\",\"name\":\"CategoricalScale\",\"id\":\"11807b6d-3f6e-446a-b620-5536f6559086\"},\"y_scale\":{\"type\":\"object\",\"name\":\"LinearScale\",\"id\":\"63a3fa0f-ea69-4ea1-acd6-b874a32b7db1\"},\"title\":{\"type\":\"object\",\"name\":\"Title\",\"id\":\"6185a955-13da-4e46-a729-fb204c6c6173\",\"attributes\":{\"text\":\"Last Month Expenses\",\"text_color\":\"black\",\"text_font_size\":\"12pt\"}},\"renderers\":[{\"type\":\"object\",\"name\":\"GlyphRenderer\",\"id\":\"941fbe83-e6b6-4432-a27a-4c31073f22b1\",\"attributes\":{\"data_source\":{\"type\":\"object\",\"name\":\"ColumnDataSource\",\"id\":\"99085c34-4771-426e-bc8e-720c3754007e\",\"attributes\":{\"selected\":{\"type\":\"object\",\"name\":\"Selection\",\"id\":\"7c0dd3be-ccd7-4568-b5c3-d46892d99887\",\"attributes\":{\"indices\":[],\"line_indices\":[]}},\"selection_policy\":{\"type\":\"object\",\"name\":\"UnionRenderers\",\"id\":\"f4052121-8cc9-4bcd-a7ba-9f2f0283e126\"},\"data\":{\"type\":\"map\",\"entries\":[[\"Category\",[\"grocery\",\"health\",\"savings\",\"utilities\",\"amazon\",\"children\",\"career\",\"shopping\",\"restaurant\",\"credit_card\",\"transportation\",\"entertainment\",\"insurance\"]],[\"Amount\",{\"type\":\"ndarray\",\"array\":{\"type\":\"bytes\",\"data\":\"bQIAAGcBAABeAQAANwEAAN0AAADXAAAAygAAAKIAAACCAAAAewAAAFYAAAAgAAAADAAAAA==\"},\"shape\":[13],\"dtype\":\"int32\",\"order\":\"little\"}]]}}},\"view\":{\"type\":\"object\",\"name\":\"CDSView\",\"id\":\"14b85758-bd06-4cbe-a15a-90cd000601e6\",\"attributes\":{\"filter\":{\"type\":\"object\",\"name\":\"AllIndices\",\"id\":\"08db14de-5731-4637-bd03-d82eb171df34\"}}},\"glyph\":{\"type\":\"object\",\"name\":\"VBar\",\"id\":\"333aea96-9d7a-465c-b59e-c032f3c0bae1\",\"attributes\":{\"tags\":[\"apply_ranges\"],\"x\":{\"type\":\"field\",\"field\":\"Category\"},\"width\":{\"type\":\"value\",\"value\":0.8},\"top\":{\"type\":\"field\",\"field\":\"Amount\"},\"fill_color\":{\"type\":\"value\",\"value\":\"#30a2da\"},\"hatch_color\":{\"type\":\"value\",\"value\":\"#30a2da\"}}},\"selection_glyph\":{\"type\":\"object\",\"name\":\"VBar\",\"id\":\"7418d88e-6d36-4f84-a921-f5db8da4ba21\",\"attributes\":{\"tags\":[\"apply_ranges\"],\"x\":{\"type\":\"field\",\"field\":\"Category\"},\"width\":{\"type\":\"value\",\"value\":0.8},\"bottom\":{\"type\":\"value\",\"value\":0},\"top\":{\"type\":\"field\",\"field\":\"Amount\"},\"line_color\":{\"type\":\"value\",\"value\":\"black\"},\"line_alpha\":{\"type\":\"value\",\"value\":1.0},\"line_width\":{\"type\":\"value\",\"value\":1},\"line_join\":{\"type\":\"value\",\"value\":\"bevel\"},\"line_cap\":{\"type\":\"value\",\"value\":\"butt\"},\"line_dash\":{\"type\":\"value\",\"value\":[]},\"line_dash_offset\":{\"type\":\"value\",\"value\":0},\"fill_color\":{\"type\":\"value\",\"value\":\"#30a2da\"},\"fill_alpha\":{\"type\":\"value\",\"value\":1.0},\"hatch_color\":{\"type\":\"value\",\"value\":\"#30a2da\"},\"hatch_alpha\":{\"type\":\"value\",\"value\":1.0},\"hatch_scale\":{\"type\":\"value\",\"value\":12.0},\"hatch_pattern\":{\"type\":\"value\",\"value\":null},\"hatch_weight\":{\"type\":\"value\",\"value\":1.0}}},\"nonselection_glyph\":{\"type\":\"object\",\"name\":\"VBar\",\"id\":\"42e55d8d-2c94-4230-98e3-5c12a15e1342\",\"attributes\":{\"tags\":[\"apply_ranges\"],\"x\":{\"type\":\"field\",\"field\":\"Category\"},\"width\":{\"type\":\"value\",\"value\":0.8},\"top\":{\"type\":\"field\",\"field\":\"Amount\"},\"line_alpha\":{\"type\":\"value\",\"value\":0.1},\"fill_color\":{\"type\":\"value\",\"value\":\"#30a2da\"},\"fill_alpha\":{\"type\":\"value\",\"value\":0.1},\"hatch_color\":{\"type\":\"value\",\"value\":\"#30a2da\"},\"hatch_alpha\":{\"type\":\"value\",\"value\":0.1}}},\"muted_glyph\":{\"type\":\"object\",\"name\":\"VBar\",\"id\":\"447f9c90-e7ed-4c02-9445-c7ea340102a1\",\"attributes\":{\"tags\":[\"apply_ranges\"],\"x\":{\"type\":\"field\",\"field\":\"Category\"},\"width\":{\"type\":\"value\",\"value\":0.8},\"top\":{\"type\":\"field\",\"field\":\"Amount\"},\"line_alpha\":{\"type\":\"value\",\"value\":0.2},\"fill_color\":{\"type\":\"value\",\"value\":\"#30a2da\"},\"fill_alpha\":{\"type\":\"value\",\"value\":0.2},\"hatch_color\":{\"type\":\"value\",\"value\":\"#30a2da\"},\"hatch_alpha\":{\"type\":\"value\",\"value\":0.2}}}}}],\"toolbar\":{\"type\":\"object\",\"name\":\"Toolbar\",\"id\":\"a91530b8-5a17-48cd-8b44-b87bc46e870f\",\"attributes\":{\"tools\":[{\"type\":\"object\",\"name\":\"WheelZoomTool\",\"id\":\"963c0c40-b77e-40f8-85a8-7829fbc4c1fb\",\"attributes\":{\"tags\":[\"hv_created\"],\"renderers\":\"auto\",\"zoom_together\":\"none\"}},{\"type\":\"object\",\"name\":\"HoverTool\",\"id\":\"963c372d-63a0-4a2b-b4a8-e1cea2206d9f\",\"attributes\":{\"tags\":[\"hv_created\"],\"renderers\":[{\"id\":\"941fbe83-e6b6-4432-a27a-4c31073f22b1\"}],\"tooltips\":[[\"Category\",\"@{Category}\"],[\"Amount\",\"@{Amount}\"]]}},{\"type\":\"object\",\"name\":\"SaveTool\",\"id\":\"a9df0193-ffdb-4782-b679-10ab49c67e61\"},{\"type\":\"object\",\"name\":\"PanTool\",\"id\":\"075891a8-0fb2-4a90-b43a-c64a5232ecbe\"},{\"type\":\"object\",\"name\":\"BoxZoomTool\",\"id\":\"f29052af-02c3-4ad2-9a08-0dbec375fbc9\",\"attributes\":{\"overlay\":{\"type\":\"object\",\"name\":\"BoxAnnotation\",\"id\":\"990074b6-74e9-4301-87ae-6855efb2cc74\",\"attributes\":{\"syncable\":false,\"level\":\"overlay\",\"visible\":false,\"left\":{\"type\":\"number\",\"value\":\"nan\"},\"right\":{\"type\":\"number\",\"value\":\"nan\"},\"top\":{\"type\":\"number\",\"value\":\"nan\"},\"bottom\":{\"type\":\"number\",\"value\":\"nan\"},\"left_units\":\"canvas\",\"right_units\":\"canvas\",\"top_units\":\"canvas\",\"bottom_units\":\"canvas\",\"line_color\":\"black\",\"line_alpha\":1.0,\"line_width\":2,\"line_dash\":[4,4],\"fill_color\":\"lightgrey\",\"fill_alpha\":0.5}}}},{\"type\":\"object\",\"name\":\"ResetTool\",\"id\":\"1cf37d15-c07c-4920-8879-1a33547837f8\"}],\"active_drag\":{\"id\":\"075891a8-0fb2-4a90-b43a-c64a5232ecbe\"},\"active_scroll\":{\"id\":\"963c0c40-b77e-40f8-85a8-7829fbc4c1fb\"}}},\"left\":[{\"type\":\"object\",\"name\":\"LinearAxis\",\"id\":\"5de18341-20d6-41b7-9ce7-303310d5cf99\",\"attributes\":{\"ticker\":{\"type\":\"object\",\"name\":\"BasicTicker\",\"id\":\"4782edff-59f0-4093-9cda-ab1e2286dd3d\",\"attributes\":{\"mantissas\":[1,2,5]}},\"formatter\":{\"type\":\"object\",\"name\":\"BasicTickFormatter\",\"id\":\"85014a7e-edd1-47f9-88f2-40247af39e8e\"},\"axis_label\":\"Amount\",\"major_label_policy\":{\"type\":\"object\",\"name\":\"AllLabels\",\"id\":\"9d42516a-14e4-4379-b5a1-820edb0fb4c3\"}}}],\"below\":[{\"type\":\"object\",\"name\":\"CategoricalAxis\",\"id\":\"01238011-4781-4f90-9d5d-44368791b67e\",\"attributes\":{\"ticker\":{\"type\":\"object\",\"name\":\"CategoricalTicker\",\"id\":\"3c02842d-a9b3-4f36-9df0-776b656c679b\"},\"formatter\":{\"type\":\"object\",\"name\":\"CategoricalTickFormatter\",\"id\":\"6961db30-5eee-4e5d-9c90-2e9ea15d8ab0\"},\"axis_label\":\"Category\",\"major_label_policy\":{\"type\":\"object\",\"name\":\"AllLabels\",\"id\":\"0124f68c-af86-4d97-b0d5-4834d9a25e49\"}}}],\"center\":[{\"type\":\"object\",\"name\":\"Grid\",\"id\":\"1eeed270-b6a2-4dbf-9eb8-532fb0be320f\",\"attributes\":{\"axis\":{\"id\":\"01238011-4781-4f90-9d5d-44368791b67e\"},\"grid_line_color\":null}},{\"type\":\"object\",\"name\":\"Grid\",\"id\":\"ce6d5daa-65c6-4829-bcff-d5a6a130c8ad\",\"attributes\":{\"dimension\":1,\"axis\":{\"id\":\"5de18341-20d6-41b7-9ce7-303310d5cf99\"},\"grid_line_color\":null}}],\"min_border_top\":10,\"min_border_bottom\":10,\"min_border_left\":10,\"min_border_right\":10,\"output_backend\":\"webgl\"}},{\"type\":\"object\",\"name\":\"Spacer\",\"id\":\"26f7b610-98f4-431c-a54e-10a966363a14\",\"attributes\":{\"name\":\"HSpacer03328\",\"stylesheets\":[\"\\n:host(.pn-loading.pn-arc):before, .pn-loading.pn-arc:before {\\n  background-image: url(\\\"data:image/svg+xml;base64,PHN2ZyB4bWxucz0iaHR0cDovL3d3dy53My5vcmcvMjAwMC9zdmciIHN0eWxlPSJtYXJnaW46IGF1dG87IGJhY2tncm91bmQ6IG5vbmU7IGRpc3BsYXk6IGJsb2NrOyBzaGFwZS1yZW5kZXJpbmc6IGF1dG87IiB2aWV3Qm94PSIwIDAgMTAwIDEwMCIgcHJlc2VydmVBc3BlY3RSYXRpbz0ieE1pZFlNaWQiPiAgPGNpcmNsZSBjeD0iNTAiIGN5PSI1MCIgZmlsbD0ibm9uZSIgc3Ryb2tlPSIjYzNjM2MzIiBzdHJva2Utd2lkdGg9IjEwIiByPSIzNSIgc3Ryb2tlLWRhc2hhcnJheT0iMTY0LjkzMzYxNDMxMzQ2NDE1IDU2Ljk3Nzg3MTQzNzgyMTM4Ij4gICAgPGFuaW1hdGVUcmFuc2Zvcm0gYXR0cmlidXRlTmFtZT0idHJhbnNmb3JtIiB0eXBlPSJyb3RhdGUiIHJlcGVhdENvdW50PSJpbmRlZmluaXRlIiBkdXI9IjFzIiB2YWx1ZXM9IjAgNTAgNTA7MzYwIDUwIDUwIiBrZXlUaW1lcz0iMDsxIj48L2FuaW1hdGVUcmFuc2Zvcm0+ICA8L2NpcmNsZT48L3N2Zz4=\\\");\\n  background-size: auto calc(min(50%, 400px));\\n}\",{\"id\":\"22b6ad05-5ab3-4402-b724-7d60cf052e17\"},{\"id\":\"6c671119-f307-44ba-ab22-9ff784157cdd\"},{\"id\":\"ec279a55-1875-4864-b384-17b519d2af1f\"}],\"margin\":0,\"sizing_mode\":\"stretch_width\",\"align\":\"start\"}}]}}],\"defs\":[{\"type\":\"model\",\"name\":\"ReactiveHTML1\"},{\"type\":\"model\",\"name\":\"FlexBox1\",\"properties\":[{\"name\":\"align_content\",\"kind\":\"Any\",\"default\":\"flex-start\"},{\"name\":\"align_items\",\"kind\":\"Any\",\"default\":\"flex-start\"},{\"name\":\"flex_direction\",\"kind\":\"Any\",\"default\":\"row\"},{\"name\":\"flex_wrap\",\"kind\":\"Any\",\"default\":\"wrap\"},{\"name\":\"justify_content\",\"kind\":\"Any\",\"default\":\"flex-start\"}]},{\"type\":\"model\",\"name\":\"FloatPanel1\",\"properties\":[{\"name\":\"config\",\"kind\":\"Any\",\"default\":{\"type\":\"map\"}},{\"name\":\"contained\",\"kind\":\"Any\",\"default\":true},{\"name\":\"position\",\"kind\":\"Any\",\"default\":\"right-top\"},{\"name\":\"offsetx\",\"kind\":\"Any\",\"default\":null},{\"name\":\"offsety\",\"kind\":\"Any\",\"default\":null},{\"name\":\"theme\",\"kind\":\"Any\",\"default\":\"primary\"},{\"name\":\"status\",\"kind\":\"Any\",\"default\":\"normalized\"}]},{\"type\":\"model\",\"name\":\"GridStack1\",\"properties\":[{\"name\":\"mode\",\"kind\":\"Any\",\"default\":\"warn\"},{\"name\":\"ncols\",\"kind\":\"Any\",\"default\":null},{\"name\":\"nrows\",\"kind\":\"Any\",\"default\":null},{\"name\":\"allow_resize\",\"kind\":\"Any\",\"default\":true},{\"name\":\"allow_drag\",\"kind\":\"Any\",\"default\":true},{\"name\":\"state\",\"kind\":\"Any\",\"default\":[]}]},{\"type\":\"model\",\"name\":\"drag1\",\"properties\":[{\"name\":\"slider_width\",\"kind\":\"Any\",\"default\":5},{\"name\":\"slider_color\",\"kind\":\"Any\",\"default\":\"black\"},{\"name\":\"value\",\"kind\":\"Any\",\"default\":50}]},{\"type\":\"model\",\"name\":\"click1\",\"properties\":[{\"name\":\"terminal_output\",\"kind\":\"Any\",\"default\":\"\"},{\"name\":\"debug_name\",\"kind\":\"Any\",\"default\":\"\"},{\"name\":\"clears\",\"kind\":\"Any\",\"default\":0}]},{\"type\":\"model\",\"name\":\"copy_to_clipboard1\",\"properties\":[{\"name\":\"fill\",\"kind\":\"Any\",\"default\":\"none\"},{\"name\":\"value\",\"kind\":\"Any\",\"default\":null}]},{\"type\":\"model\",\"name\":\"FastWrapper1\",\"properties\":[{\"name\":\"object\",\"kind\":\"Any\",\"default\":null},{\"name\":\"style\",\"kind\":\"Any\",\"default\":null}]},{\"type\":\"model\",\"name\":\"NotificationAreaBase1\",\"properties\":[{\"name\":\"js_events\",\"kind\":\"Any\",\"default\":{\"type\":\"map\"}},{\"name\":\"position\",\"kind\":\"Any\",\"default\":\"bottom-right\"},{\"name\":\"_clear\",\"kind\":\"Any\",\"default\":0}]},{\"type\":\"model\",\"name\":\"NotificationArea1\",\"properties\":[{\"name\":\"js_events\",\"kind\":\"Any\",\"default\":{\"type\":\"map\"}},{\"name\":\"notifications\",\"kind\":\"Any\",\"default\":[]},{\"name\":\"position\",\"kind\":\"Any\",\"default\":\"bottom-right\"},{\"name\":\"_clear\",\"kind\":\"Any\",\"default\":0},{\"name\":\"types\",\"kind\":\"Any\",\"default\":[{\"type\":\"map\",\"entries\":[[\"type\",\"warning\"],[\"background\",\"#ffc107\"],[\"icon\",{\"type\":\"map\",\"entries\":[[\"className\",\"fas fa-exclamation-triangle\"],[\"tagName\",\"i\"],[\"color\",\"white\"]]}]]},{\"type\":\"map\",\"entries\":[[\"type\",\"info\"],[\"background\",\"#007bff\"],[\"icon\",{\"type\":\"map\",\"entries\":[[\"className\",\"fas fa-info-circle\"],[\"tagName\",\"i\"],[\"color\",\"white\"]]}]]}]}]},{\"type\":\"model\",\"name\":\"Notification\",\"properties\":[{\"name\":\"background\",\"kind\":\"Any\",\"default\":null},{\"name\":\"duration\",\"kind\":\"Any\",\"default\":3000},{\"name\":\"icon\",\"kind\":\"Any\",\"default\":null},{\"name\":\"message\",\"kind\":\"Any\",\"default\":\"\"},{\"name\":\"notification_type\",\"kind\":\"Any\",\"default\":null},{\"name\":\"_destroyed\",\"kind\":\"Any\",\"default\":false}]},{\"type\":\"model\",\"name\":\"TemplateActions1\",\"properties\":[{\"name\":\"open_modal\",\"kind\":\"Any\",\"default\":0},{\"name\":\"close_modal\",\"kind\":\"Any\",\"default\":0}]},{\"type\":\"model\",\"name\":\"BootstrapTemplateActions1\",\"properties\":[{\"name\":\"open_modal\",\"kind\":\"Any\",\"default\":0},{\"name\":\"close_modal\",\"kind\":\"Any\",\"default\":0}]},{\"type\":\"model\",\"name\":\"MaterialTemplateActions1\",\"properties\":[{\"name\":\"open_modal\",\"kind\":\"Any\",\"default\":0},{\"name\":\"close_modal\",\"kind\":\"Any\",\"default\":0}]}]}};\n",
       "  var render_items = [{\"docid\":\"518889df-ad26-41c9-bc3e-0072909d3e84\",\"roots\":{\"787bdf2d-f34d-4047-bf49-a62f3f539824\":\"a61fe5ba-eb71-4194-a66c-e620a2c76524\"},\"root_ids\":[\"787bdf2d-f34d-4047-bf49-a62f3f539824\"]}];\n",
       "  var docs = Object.values(docs_json)\n",
       "  if (!docs) {\n",
       "    return\n",
       "  }\n",
       "  const py_version = docs[0].version.replace('rc', '-rc.').replace('.dev', '-dev.')\n",
       "  function embed_document(root) {\n",
       "    var Bokeh = get_bokeh(root)\n",
       "    Bokeh.embed.embed_items_notebook(docs_json, render_items);\n",
       "    for (const render_item of render_items) {\n",
       "      for (const root_id of render_item.root_ids) {\n",
       "\tconst id_el = document.getElementById(root_id)\n",
       "\tif (id_el.children.length && (id_el.children[0].className === 'bk-root')) {\n",
       "\t  const root_el = id_el.children[0]\n",
       "\t  root_el.id = root_el.id + '-rendered'\n",
       "\t}\n",
       "      }\n",
       "    }\n",
       "  }\n",
       "  function get_bokeh(root) {\n",
       "    if (root.Bokeh === undefined) {\n",
       "      return null\n",
       "    } else if (root.Bokeh.version !== py_version) {\n",
       "      if (root.Bokeh.versions === undefined || !root.Bokeh.versions.has(py_version)) {\n",
       "\treturn null\n",
       "      }\n",
       "      return root.Bokeh.versions.get(py_version);\n",
       "    } else if (root.Bokeh.version === py_version) {\n",
       "      return root.Bokeh\n",
       "    }\n",
       "    return null\n",
       "  }\n",
       "  function is_loaded(root) {\n",
       "    var Bokeh = get_bokeh(root)\n",
       "    return (Bokeh != null && Bokeh.Panel !== undefined && ( root['Tabulator'] !== undefined) && ( root['Tabulator'] !== undefined))\n",
       "  }\n",
       "  if (is_loaded(root)) {\n",
       "    embed_document(root);\n",
       "  } else {\n",
       "    var attempts = 0;\n",
       "    var timer = setInterval(function(root) {\n",
       "      if (is_loaded(root)) {\n",
       "        clearInterval(timer);\n",
       "        embed_document(root);\n",
       "      } else if (document.readyState == \"complete\") {\n",
       "        attempts++;\n",
       "        if (attempts > 200) {\n",
       "          clearInterval(timer);\n",
       "\t  var Bokeh = get_bokeh(root)\n",
       "\t  if (Bokeh == null || Bokeh.Panel == null) {\n",
       "            console.warn(\"Panel: ERROR: Unable to run Panel code because Bokeh or Panel library is missing\");\n",
       "\t  } else {\n",
       "\t    console.warn(\"Panel: WARNING: Attempting to render but not all required libraries could be resolved.\")\n",
       "\t    embed_document(root)\n",
       "\t  }\n",
       "        }\n",
       "      }\n",
       "    }, 25, root)\n",
       "  }\n",
       "})(window);</script>"
      ],
      "text/plain": [
       ":Bars   [Category]   (Amount)"
      ]
     },
     "execution_count": 40,
     "metadata": {
      "application/vnd.holoviews_exec.v0+json": {
       "id": "787bdf2d-f34d-4047-bf49-a62f3f539824"
      }
     },
     "output_type": "execute_result"
    }
   ],
   "source": [
    "# last_month_expenses_chart = last_month_expenses.plot.bar(\n",
    "#     x='Category',\n",
    "#     y='Amount',\n",
    "#     figsize=(14, 5),\n",
    "#     title='Last Month Expenses'\n",
    "# )\n",
    "\n",
    "last_month_expenses_chart = last_month_expenses.hvplot.bar(\n",
    "    x='Category',\n",
    "    y='Amount',\n",
    "    height=250,\n",
    "    width=850,\n",
    "    title='Last Month Expenses',\n",
    "    ylim=(0,500))\n",
    "\n",
    "last_month_expenses_chart"
   ]
  },
  {
   "cell_type": "markdown",
   "metadata": {
    "id": "b30C-P2_Zfe4"
   },
   "source": [
    "**Create monthly expenses trend bar chart**"
   ]
  },
  {
   "cell_type": "code",
   "execution_count": 27,
   "metadata": {
    "colab": {
     "base_uri": "https://localhost:8080/",
     "height": 423
    },
    "executionInfo": {
     "elapsed": 175,
     "status": "ok",
     "timestamp": 1715377845899,
     "user": {
      "displayName": "Julia Austin",
      "userId": "13512607286634222437"
     },
     "user_tz": 240
    },
    "id": "YJ0WaF97XfDA",
    "outputId": "a35af97d-1bc8-466c-b166-96cb62ce82b8"
   },
   "outputs": [
    {
     "data": {
      "text/html": [
       "<div>\n",
       "<style scoped>\n",
       "    .dataframe tbody tr th:only-of-type {\n",
       "        vertical-align: middle;\n",
       "    }\n",
       "\n",
       "    .dataframe tbody tr th {\n",
       "        vertical-align: top;\n",
       "    }\n",
       "\n",
       "    .dataframe thead th {\n",
       "        text-align: right;\n",
       "    }\n",
       "</style>\n",
       "<table border=\"1\" class=\"dataframe\">\n",
       "  <thead>\n",
       "    <tr style=\"text-align: right;\">\n",
       "      <th></th>\n",
       "      <th>Month-Year</th>\n",
       "      <th>Category</th>\n",
       "      <th>Amount</th>\n",
       "    </tr>\n",
       "  </thead>\n",
       "  <tbody>\n",
       "    <tr>\n",
       "      <th>81</th>\n",
       "      <td>2023-04</td>\n",
       "      <td>deposit</td>\n",
       "      <td>397387</td>\n",
       "    </tr>\n",
       "    <tr>\n",
       "      <th>4</th>\n",
       "      <td>2022-11</td>\n",
       "      <td>deposit</td>\n",
       "      <td>25050</td>\n",
       "    </tr>\n",
       "    <tr>\n",
       "      <th>10</th>\n",
       "      <td>2022-11</td>\n",
       "      <td>major_purchases</td>\n",
       "      <td>21356</td>\n",
       "    </tr>\n",
       "    <tr>\n",
       "      <th>135</th>\n",
       "      <td>2023-08</td>\n",
       "      <td>deposit</td>\n",
       "      <td>13027</td>\n",
       "    </tr>\n",
       "    <tr>\n",
       "      <th>132</th>\n",
       "      <td>2023-08</td>\n",
       "      <td>ccm</td>\n",
       "      <td>8730</td>\n",
       "    </tr>\n",
       "    <tr>\n",
       "      <th>...</th>\n",
       "      <td>...</td>\n",
       "      <td>...</td>\n",
       "      <td>...</td>\n",
       "    </tr>\n",
       "    <tr>\n",
       "      <th>232</th>\n",
       "      <td>2024-03</td>\n",
       "      <td>fees</td>\n",
       "      <td>1</td>\n",
       "    </tr>\n",
       "    <tr>\n",
       "      <th>203</th>\n",
       "      <td>2024-01</td>\n",
       "      <td>education</td>\n",
       "      <td>0</td>\n",
       "    </tr>\n",
       "    <tr>\n",
       "      <th>6</th>\n",
       "      <td>2022-11</td>\n",
       "      <td>fees</td>\n",
       "      <td>0</td>\n",
       "    </tr>\n",
       "    <tr>\n",
       "      <th>83</th>\n",
       "      <td>2023-04</td>\n",
       "      <td>fees</td>\n",
       "      <td>0</td>\n",
       "    </tr>\n",
       "    <tr>\n",
       "      <th>13</th>\n",
       "      <td>2022-11</td>\n",
       "      <td>unassigned</td>\n",
       "      <td>0</td>\n",
       "    </tr>\n",
       "  </tbody>\n",
       "</table>\n",
       "<p>265 rows × 3 columns</p>\n",
       "</div>"
      ],
      "text/plain": [
       "    Month-Year         Category  Amount \n",
       "81     2023-04          deposit   397387\n",
       "4      2022-11          deposit    25050\n",
       "10     2022-11  major_purchases    21356\n",
       "135    2023-08          deposit    13027\n",
       "132    2023-08              ccm     8730\n",
       "..         ...              ...      ...\n",
       "232    2024-03             fees        1\n",
       "203    2024-01        education        0\n",
       "6      2022-11             fees        0\n",
       "83     2023-04             fees        0\n",
       "13     2022-11       unassigned        0\n",
       "\n",
       "[265 rows x 3 columns]"
      ]
     },
     "execution_count": 27,
     "metadata": {},
     "output_type": "execute_result"
    }
   ],
   "source": [
    "df['Date'] = pd.to_datetime(df['Date'])\n",
    "df['Month-Year'] = df['Date'].dt.to_period('M')\n",
    "\n",
    "df['Amount'] = df['Amount'].astype('str')\n",
    "df['Amount'] = df['Amount'].str.replace('-','')\n",
    "df['Amount'] = df['Amount'].str.replace(',','')\n",
    "df['Amount'] = df['Amount'].astype(float)\n",
    "\n",
    "monthly_expenses_trend_by_cat = df.groupby(['Month-Year', 'Category'])['Amount'].sum().reset_index()\n",
    "\n",
    "monthly_expenses_trend_by_cat = monthly_expenses_trend_by_cat.sort_values(by='Amount', ascending=False)\n",
    "monthly_expenses_trend_by_cat['Amount'] = monthly_expenses_trend_by_cat['Amount'].round().astype(int)\n",
    "monthly_expenses_trend_by_cat['Month-Year'] = monthly_expenses_trend_by_cat['Month-Year'].astype(str)\n",
    "monthly_expenses_trend_by_cat = monthly_expenses_trend_by_cat.rename(columns={'Amount': 'Amount '})\n",
    "\n",
    "monthly_expenses_trend_by_cat"
   ]
  },
  {
   "cell_type": "code",
   "execution_count": 28,
   "metadata": {
    "colab": {
     "base_uri": "https://localhost:8080/",
     "height": 78
    },
    "executionInfo": {
     "elapsed": 184,
     "status": "ok",
     "timestamp": 1715378138217,
     "user": {
      "displayName": "Julia Austin",
      "userId": "13512607286634222437"
     },
     "user_tz": 240
    },
    "id": "IiqENlcXdUpW",
    "outputId": "1224e77b-a5d9-4c4c-8874-2708f6979811"
   },
   "outputs": [
    {
     "data": {},
     "metadata": {},
     "output_type": "display_data"
    },
    {
     "data": {
      "application/vnd.holoviews_exec.v0+json": "",
      "text/html": [
       "<div id='564eea41-e005-432c-8611-d3f5555b215b'>\n",
       "  <div id=\"c9c9a912-7c76-41c1-a24d-58653daf1f6e\" data-root-id=\"564eea41-e005-432c-8611-d3f5555b215b\" style=\"display: contents;\"></div>\n",
       "</div>\n",
       "<script type=\"application/javascript\">(function(root) {\n",
       "  var docs_json = {\"10a4847d-c339-4dea-9ecd-ba5b41d7ae90\":{\"version\":\"3.3.4\",\"title\":\"Bokeh Application\",\"roots\":[{\"type\":\"object\",\"name\":\"panel.models.widgets.CustomSelect\",\"id\":\"564eea41-e005-432c-8611-d3f5555b215b\",\"attributes\":{\"stylesheets\":[\"\\n:host(.pn-loading.pn-arc):before, .pn-loading.pn-arc:before {\\n  background-image: url(\\\"data:image/svg+xml;base64,PHN2ZyB4bWxucz0iaHR0cDovL3d3dy53My5vcmcvMjAwMC9zdmciIHN0eWxlPSJtYXJnaW46IGF1dG87IGJhY2tncm91bmQ6IG5vbmU7IGRpc3BsYXk6IGJsb2NrOyBzaGFwZS1yZW5kZXJpbmc6IGF1dG87IiB2aWV3Qm94PSIwIDAgMTAwIDEwMCIgcHJlc2VydmVBc3BlY3RSYXRpbz0ieE1pZFlNaWQiPiAgPGNpcmNsZSBjeD0iNTAiIGN5PSI1MCIgZmlsbD0ibm9uZSIgc3Ryb2tlPSIjYzNjM2MzIiBzdHJva2Utd2lkdGg9IjEwIiByPSIzNSIgc3Ryb2tlLWRhc2hhcnJheT0iMTY0LjkzMzYxNDMxMzQ2NDE1IDU2Ljk3Nzg3MTQzNzgyMTM4Ij4gICAgPGFuaW1hdGVUcmFuc2Zvcm0gYXR0cmlidXRlTmFtZT0idHJhbnNmb3JtIiB0eXBlPSJyb3RhdGUiIHJlcGVhdENvdW50PSJpbmRlZmluaXRlIiBkdXI9IjFzIiB2YWx1ZXM9IjAgNTAgNTA7MzYwIDUwIDUwIiBrZXlUaW1lcz0iMDsxIj48L2FuaW1hdGVUcmFuc2Zvcm0+ICA8L2NpcmNsZT48L3N2Zz4=\\\");\\n  background-size: auto calc(min(50%, 400px));\\n}\",{\"type\":\"object\",\"name\":\"ImportedStyleSheet\",\"id\":\"781ceff7-d0b6-4f35-abcc-b5799b0f0c59\",\"attributes\":{\"url\":\"https://cdn.holoviz.org/panel/1.3.8/dist/css/loading.css\"}},{\"type\":\"object\",\"name\":\"ImportedStyleSheet\",\"id\":\"b6b6c82f-2d76-454a-8962-9ff4be26c24b\",\"attributes\":{\"url\":\"https://cdn.holoviz.org/panel/1.3.8/dist/css/select.css\"}},{\"type\":\"object\",\"name\":\"ImportedStyleSheet\",\"id\":\"5f85171e-fae5-4709-85d4-906e1c1acde2\",\"attributes\":{\"url\":\"https://cdn.holoviz.org/panel/1.3.8/dist/bundled/theme/default.css\"}},{\"type\":\"object\",\"name\":\"ImportedStyleSheet\",\"id\":\"22d4979d-c8e9-457f-bdfe-17e5a8858132\",\"attributes\":{\"url\":\"https://cdn.holoviz.org/panel/1.3.8/dist/bundled/theme/native.css\"}}],\"width\":300,\"min_width\":300,\"margin\":[5,10],\"align\":\"start\",\"title\":\"Select Category\",\"options\":[\"all\",\"children\",\"shopping\",\"entertainment\",\"amazon\",\"career\",\"credit_card\",\"deposit\",\"education\",\"fees\",\"grocery\",\"major_purchases\",\"pets\",\"health\",\"insurance\",\"restaurants\",\"tax\",\"transportation\",\"travel\",\"utilities\",\"gifts\",\"ccm\"],\"value\":\"all\"}},{\"type\":\"object\",\"name\":\"panel.models.comm_manager.CommManager\",\"id\":\"86a44224-ca02-4eb6-9057-9ed90aeed237\",\"attributes\":{\"plot_id\":\"564eea41-e005-432c-8611-d3f5555b215b\",\"comm_id\":\"a97939fcfe2f419197fa0854f943af77\",\"client_comm_id\":\"d40362820b584079835b1710bd510805\"}}],\"defs\":[{\"type\":\"model\",\"name\":\"ReactiveHTML1\"},{\"type\":\"model\",\"name\":\"FlexBox1\",\"properties\":[{\"name\":\"align_content\",\"kind\":\"Any\",\"default\":\"flex-start\"},{\"name\":\"align_items\",\"kind\":\"Any\",\"default\":\"flex-start\"},{\"name\":\"flex_direction\",\"kind\":\"Any\",\"default\":\"row\"},{\"name\":\"flex_wrap\",\"kind\":\"Any\",\"default\":\"wrap\"},{\"name\":\"justify_content\",\"kind\":\"Any\",\"default\":\"flex-start\"}]},{\"type\":\"model\",\"name\":\"FloatPanel1\",\"properties\":[{\"name\":\"config\",\"kind\":\"Any\",\"default\":{\"type\":\"map\"}},{\"name\":\"contained\",\"kind\":\"Any\",\"default\":true},{\"name\":\"position\",\"kind\":\"Any\",\"default\":\"right-top\"},{\"name\":\"offsetx\",\"kind\":\"Any\",\"default\":null},{\"name\":\"offsety\",\"kind\":\"Any\",\"default\":null},{\"name\":\"theme\",\"kind\":\"Any\",\"default\":\"primary\"},{\"name\":\"status\",\"kind\":\"Any\",\"default\":\"normalized\"}]},{\"type\":\"model\",\"name\":\"GridStack1\",\"properties\":[{\"name\":\"mode\",\"kind\":\"Any\",\"default\":\"warn\"},{\"name\":\"ncols\",\"kind\":\"Any\",\"default\":null},{\"name\":\"nrows\",\"kind\":\"Any\",\"default\":null},{\"name\":\"allow_resize\",\"kind\":\"Any\",\"default\":true},{\"name\":\"allow_drag\",\"kind\":\"Any\",\"default\":true},{\"name\":\"state\",\"kind\":\"Any\",\"default\":[]}]},{\"type\":\"model\",\"name\":\"drag1\",\"properties\":[{\"name\":\"slider_width\",\"kind\":\"Any\",\"default\":5},{\"name\":\"slider_color\",\"kind\":\"Any\",\"default\":\"black\"},{\"name\":\"value\",\"kind\":\"Any\",\"default\":50}]},{\"type\":\"model\",\"name\":\"click1\",\"properties\":[{\"name\":\"terminal_output\",\"kind\":\"Any\",\"default\":\"\"},{\"name\":\"debug_name\",\"kind\":\"Any\",\"default\":\"\"},{\"name\":\"clears\",\"kind\":\"Any\",\"default\":0}]},{\"type\":\"model\",\"name\":\"copy_to_clipboard1\",\"properties\":[{\"name\":\"fill\",\"kind\":\"Any\",\"default\":\"none\"},{\"name\":\"value\",\"kind\":\"Any\",\"default\":null}]},{\"type\":\"model\",\"name\":\"FastWrapper1\",\"properties\":[{\"name\":\"object\",\"kind\":\"Any\",\"default\":null},{\"name\":\"style\",\"kind\":\"Any\",\"default\":null}]},{\"type\":\"model\",\"name\":\"NotificationAreaBase1\",\"properties\":[{\"name\":\"js_events\",\"kind\":\"Any\",\"default\":{\"type\":\"map\"}},{\"name\":\"position\",\"kind\":\"Any\",\"default\":\"bottom-right\"},{\"name\":\"_clear\",\"kind\":\"Any\",\"default\":0}]},{\"type\":\"model\",\"name\":\"NotificationArea1\",\"properties\":[{\"name\":\"js_events\",\"kind\":\"Any\",\"default\":{\"type\":\"map\"}},{\"name\":\"notifications\",\"kind\":\"Any\",\"default\":[]},{\"name\":\"position\",\"kind\":\"Any\",\"default\":\"bottom-right\"},{\"name\":\"_clear\",\"kind\":\"Any\",\"default\":0},{\"name\":\"types\",\"kind\":\"Any\",\"default\":[{\"type\":\"map\",\"entries\":[[\"type\",\"warning\"],[\"background\",\"#ffc107\"],[\"icon\",{\"type\":\"map\",\"entries\":[[\"className\",\"fas fa-exclamation-triangle\"],[\"tagName\",\"i\"],[\"color\",\"white\"]]}]]},{\"type\":\"map\",\"entries\":[[\"type\",\"info\"],[\"background\",\"#007bff\"],[\"icon\",{\"type\":\"map\",\"entries\":[[\"className\",\"fas fa-info-circle\"],[\"tagName\",\"i\"],[\"color\",\"white\"]]}]]}]}]},{\"type\":\"model\",\"name\":\"Notification\",\"properties\":[{\"name\":\"background\",\"kind\":\"Any\",\"default\":null},{\"name\":\"duration\",\"kind\":\"Any\",\"default\":3000},{\"name\":\"icon\",\"kind\":\"Any\",\"default\":null},{\"name\":\"message\",\"kind\":\"Any\",\"default\":\"\"},{\"name\":\"notification_type\",\"kind\":\"Any\",\"default\":null},{\"name\":\"_destroyed\",\"kind\":\"Any\",\"default\":false}]},{\"type\":\"model\",\"name\":\"TemplateActions1\",\"properties\":[{\"name\":\"open_modal\",\"kind\":\"Any\",\"default\":0},{\"name\":\"close_modal\",\"kind\":\"Any\",\"default\":0}]},{\"type\":\"model\",\"name\":\"BootstrapTemplateActions1\",\"properties\":[{\"name\":\"open_modal\",\"kind\":\"Any\",\"default\":0},{\"name\":\"close_modal\",\"kind\":\"Any\",\"default\":0}]},{\"type\":\"model\",\"name\":\"MaterialTemplateActions1\",\"properties\":[{\"name\":\"open_modal\",\"kind\":\"Any\",\"default\":0},{\"name\":\"close_modal\",\"kind\":\"Any\",\"default\":0}]}]}};\n",
       "  var render_items = [{\"docid\":\"10a4847d-c339-4dea-9ecd-ba5b41d7ae90\",\"roots\":{\"564eea41-e005-432c-8611-d3f5555b215b\":\"c9c9a912-7c76-41c1-a24d-58653daf1f6e\"},\"root_ids\":[\"564eea41-e005-432c-8611-d3f5555b215b\"]}];\n",
       "  var docs = Object.values(docs_json)\n",
       "  if (!docs) {\n",
       "    return\n",
       "  }\n",
       "  const py_version = docs[0].version.replace('rc', '-rc.').replace('.dev', '-dev.')\n",
       "  function embed_document(root) {\n",
       "    var Bokeh = get_bokeh(root)\n",
       "    Bokeh.embed.embed_items_notebook(docs_json, render_items);\n",
       "    for (const render_item of render_items) {\n",
       "      for (const root_id of render_item.root_ids) {\n",
       "\tconst id_el = document.getElementById(root_id)\n",
       "\tif (id_el.children.length && (id_el.children[0].className === 'bk-root')) {\n",
       "\t  const root_el = id_el.children[0]\n",
       "\t  root_el.id = root_el.id + '-rendered'\n",
       "\t}\n",
       "      }\n",
       "    }\n",
       "  }\n",
       "  function get_bokeh(root) {\n",
       "    if (root.Bokeh === undefined) {\n",
       "      return null\n",
       "    } else if (root.Bokeh.version !== py_version) {\n",
       "      if (root.Bokeh.versions === undefined || !root.Bokeh.versions.has(py_version)) {\n",
       "\treturn null\n",
       "      }\n",
       "      return root.Bokeh.versions.get(py_version);\n",
       "    } else if (root.Bokeh.version === py_version) {\n",
       "      return root.Bokeh\n",
       "    }\n",
       "    return null\n",
       "  }\n",
       "  function is_loaded(root) {\n",
       "    var Bokeh = get_bokeh(root)\n",
       "    return (Bokeh != null && Bokeh.Panel !== undefined && ( root['Tabulator'] !== undefined) && ( root['Tabulator'] !== undefined))\n",
       "  }\n",
       "  if (is_loaded(root)) {\n",
       "    embed_document(root);\n",
       "  } else {\n",
       "    var attempts = 0;\n",
       "    var timer = setInterval(function(root) {\n",
       "      if (is_loaded(root)) {\n",
       "        clearInterval(timer);\n",
       "        embed_document(root);\n",
       "      } else if (document.readyState == \"complete\") {\n",
       "        attempts++;\n",
       "        if (attempts > 200) {\n",
       "          clearInterval(timer);\n",
       "\t  var Bokeh = get_bokeh(root)\n",
       "\t  if (Bokeh == null || Bokeh.Panel == null) {\n",
       "            console.warn(\"Panel: ERROR: Unable to run Panel code because Bokeh or Panel library is missing\");\n",
       "\t  } else {\n",
       "\t    console.warn(\"Panel: WARNING: Attempting to render but not all required libraries could be resolved.\")\n",
       "\t    embed_document(root)\n",
       "\t  }\n",
       "        }\n",
       "      }\n",
       "    }, 25, root)\n",
       "  }\n",
       "})(window);</script>"
      ],
      "text/plain": [
       "Select(options=['all', 'children', ...], value='all')"
      ]
     },
     "execution_count": 28,
     "metadata": {
      "application/vnd.holoviews_exec.v0+json": {
       "id": "564eea41-e005-432c-8611-d3f5555b215b"
      }
     },
     "output_type": "execute_result"
    }
   ],
   "source": [
    "#Define panel widget\n",
    "\n",
    "select_category1 = pn.widgets.Select(name='Select Category', options=[\n",
    "  'all',\n",
    "  'children',\n",
    "  'shopping',\n",
    "  'entertainment',\n",
    "  'amazon',\n",
    "  'career',\n",
    "  'credit_card',\n",
    "  'deposit',\n",
    "  'education',\n",
    "  'fees',\n",
    "  'grocery',\n",
    "  'major_purchases',\n",
    "  'pets',\n",
    "  'health',\n",
    "  'insurance',\n",
    "  'restaurants',\n",
    "  'tax',\n",
    "  'transportation',\n",
    "  'travel',\n",
    "  'utilities',\n",
    "  'gifts',\n",
    "  'ccm'\n",
    "])\n",
    "\n",
    "select_category1"
   ]
  },
  {
   "cell_type": "code",
   "execution_count": 36,
   "metadata": {
    "colab": {
     "base_uri": "https://localhost:8080/",
     "height": 327
    },
    "executionInfo": {
     "elapsed": 565,
     "status": "ok",
     "timestamp": 1715378530218,
     "user": {
      "displayName": "Julia Austin",
      "userId": "13512607286634222437"
     },
     "user_tz": 240
    },
    "id": "3i9vtfHSgAL7",
    "outputId": "36d2705e-bd28-4cdc-a91a-13c3b1abf95d"
   },
   "outputs": [
    {
     "data": {},
     "metadata": {},
     "output_type": "display_data"
    },
    {
     "data": {},
     "metadata": {},
     "output_type": "display_data"
    },
    {
     "data": {
      "application/vnd.holoviews_exec.v0+json": "",
      "text/html": [
       "<div id='5184cb88-5f68-4516-81b1-a17a9c3cb388'>\n",
       "  <div id=\"f8a03016-8b49-41e9-add2-77e1e6c22c1f\" data-root-id=\"5184cb88-5f68-4516-81b1-a17a9c3cb388\" style=\"display: contents;\"></div>\n",
       "</div>\n",
       "<script type=\"application/javascript\">(function(root) {\n",
       "  var docs_json = {\"37084be0-d512-4ba6-90ef-b80e79bc8153\":{\"version\":\"3.3.4\",\"title\":\"Bokeh Application\",\"roots\":[{\"type\":\"object\",\"name\":\"Row\",\"id\":\"5184cb88-5f68-4516-81b1-a17a9c3cb388\",\"attributes\":{\"name\":\"Row01309\",\"stylesheets\":[\"\\n:host(.pn-loading.pn-arc):before, .pn-loading.pn-arc:before {\\n  background-image: url(\\\"data:image/svg+xml;base64,PHN2ZyB4bWxucz0iaHR0cDovL3d3dy53My5vcmcvMjAwMC9zdmciIHN0eWxlPSJtYXJnaW46IGF1dG87IGJhY2tncm91bmQ6IG5vbmU7IGRpc3BsYXk6IGJsb2NrOyBzaGFwZS1yZW5kZXJpbmc6IGF1dG87IiB2aWV3Qm94PSIwIDAgMTAwIDEwMCIgcHJlc2VydmVBc3BlY3RSYXRpbz0ieE1pZFlNaWQiPiAgPGNpcmNsZSBjeD0iNTAiIGN5PSI1MCIgZmlsbD0ibm9uZSIgc3Ryb2tlPSIjYzNjM2MzIiBzdHJva2Utd2lkdGg9IjEwIiByPSIzNSIgc3Ryb2tlLWRhc2hhcnJheT0iMTY0LjkzMzYxNDMxMzQ2NDE1IDU2Ljk3Nzg3MTQzNzgyMTM4Ij4gICAgPGFuaW1hdGVUcmFuc2Zvcm0gYXR0cmlidXRlTmFtZT0idHJhbnNmb3JtIiB0eXBlPSJyb3RhdGUiIHJlcGVhdENvdW50PSJpbmRlZmluaXRlIiBkdXI9IjFzIiB2YWx1ZXM9IjAgNTAgNTA7MzYwIDUwIDUwIiBrZXlUaW1lcz0iMDsxIj48L2FuaW1hdGVUcmFuc2Zvcm0+ICA8L2NpcmNsZT48L3N2Zz4=\\\");\\n  background-size: auto calc(min(50%, 400px));\\n}\",{\"type\":\"object\",\"name\":\"ImportedStyleSheet\",\"id\":\"b3b3457b-d682-4eaa-94dd-342b1b1aebb9\",\"attributes\":{\"url\":\"https://cdn.holoviz.org/panel/1.3.8/dist/css/loading.css\"}},{\"type\":\"object\",\"name\":\"ImportedStyleSheet\",\"id\":\"0634091e-41f6-4fb4-95d7-bcf397f7d767\",\"attributes\":{\"url\":\"https://cdn.holoviz.org/panel/1.3.8/dist/css/listpanel.css\"}},{\"type\":\"object\",\"name\":\"ImportedStyleSheet\",\"id\":\"5b3b104b-9d96-450f-ac68-85fd5b3268e0\",\"attributes\":{\"url\":\"https://cdn.holoviz.org/panel/1.3.8/dist/bundled/theme/default.css\"}},{\"type\":\"object\",\"name\":\"ImportedStyleSheet\",\"id\":\"86aa51eb-e831-406b-9584-0f346ac046c5\",\"attributes\":{\"url\":\"https://cdn.holoviz.org/panel/1.3.8/dist/bundled/theme/native.css\"}}],\"margin\":0,\"align\":\"start\",\"children\":[{\"type\":\"object\",\"name\":\"panel.models.widgets.CustomSelect\",\"id\":\"65187c2a-b957-4534-b182-885188fa98cb\",\"attributes\":{\"stylesheets\":[\"\\n:host(.pn-loading.pn-arc):before, .pn-loading.pn-arc:before {\\n  background-image: url(\\\"data:image/svg+xml;base64,PHN2ZyB4bWxucz0iaHR0cDovL3d3dy53My5vcmcvMjAwMC9zdmciIHN0eWxlPSJtYXJnaW46IGF1dG87IGJhY2tncm91bmQ6IG5vbmU7IGRpc3BsYXk6IGJsb2NrOyBzaGFwZS1yZW5kZXJpbmc6IGF1dG87IiB2aWV3Qm94PSIwIDAgMTAwIDEwMCIgcHJlc2VydmVBc3BlY3RSYXRpbz0ieE1pZFlNaWQiPiAgPGNpcmNsZSBjeD0iNTAiIGN5PSI1MCIgZmlsbD0ibm9uZSIgc3Ryb2tlPSIjYzNjM2MzIiBzdHJva2Utd2lkdGg9IjEwIiByPSIzNSIgc3Ryb2tlLWRhc2hhcnJheT0iMTY0LjkzMzYxNDMxMzQ2NDE1IDU2Ljk3Nzg3MTQzNzgyMTM4Ij4gICAgPGFuaW1hdGVUcmFuc2Zvcm0gYXR0cmlidXRlTmFtZT0idHJhbnNmb3JtIiB0eXBlPSJyb3RhdGUiIHJlcGVhdENvdW50PSJpbmRlZmluaXRlIiBkdXI9IjFzIiB2YWx1ZXM9IjAgNTAgNTA7MzYwIDUwIDUwIiBrZXlUaW1lcz0iMDsxIj48L2FuaW1hdGVUcmFuc2Zvcm0+ICA8L2NpcmNsZT48L3N2Zz4=\\\");\\n  background-size: auto calc(min(50%, 400px));\\n}\",{\"id\":\"b3b3457b-d682-4eaa-94dd-342b1b1aebb9\"},{\"type\":\"object\",\"name\":\"ImportedStyleSheet\",\"id\":\"7a48f0a2-597a-428b-8679-defb5de4766b\",\"attributes\":{\"url\":\"https://cdn.holoviz.org/panel/1.3.8/dist/css/select.css\"}},{\"id\":\"5b3b104b-9d96-450f-ac68-85fd5b3268e0\"},{\"type\":\"object\",\"name\":\"ImportedStyleSheet\",\"id\":\"0060693a-0d34-4a36-a23e-eb9e85a4866c\",\"attributes\":{\"url\":\"https://cdn.holoviz.org/panel/1.3.8/dist/bundled/theme/fast.css\"}}],\"width\":300,\"min_width\":300,\"margin\":[5,10],\"align\":\"start\",\"title\":\"Select Category\",\"options\":[\"all\",\"children\",\"shopping\",\"entertainment\",\"amazon\",\"career\",\"credit_card\",\"deposit\",\"education\",\"fees\",\"grocery\",\"major_purchases\",\"pets\",\"health\",\"insurance\",\"restaurants\",\"tax\",\"transportation\",\"travel\",\"utilities\",\"gifts\",\"ccm\"],\"value\":\"children\"}},{\"type\":\"object\",\"name\":\"panel.models.layout.Column\",\"id\":\"586200df-b377-4907-b0f3-bae8b36a45cb\",\"attributes\":{\"name\":\"Column01220\",\"stylesheets\":[\"\\n:host(.pn-loading.pn-arc):before, .pn-loading.pn-arc:before {\\n  background-image: url(\\\"data:image/svg+xml;base64,PHN2ZyB4bWxucz0iaHR0cDovL3d3dy53My5vcmcvMjAwMC9zdmciIHN0eWxlPSJtYXJnaW46IGF1dG87IGJhY2tncm91bmQ6IG5vbmU7IGRpc3BsYXk6IGJsb2NrOyBzaGFwZS1yZW5kZXJpbmc6IGF1dG87IiB2aWV3Qm94PSIwIDAgMTAwIDEwMCIgcHJlc2VydmVBc3BlY3RSYXRpbz0ieE1pZFlNaWQiPiAgPGNpcmNsZSBjeD0iNTAiIGN5PSI1MCIgZmlsbD0ibm9uZSIgc3Ryb2tlPSIjYzNjM2MzIiBzdHJva2Utd2lkdGg9IjEwIiByPSIzNSIgc3Ryb2tlLWRhc2hhcnJheT0iMTY0LjkzMzYxNDMxMzQ2NDE1IDU2Ljk3Nzg3MTQzNzgyMTM4Ij4gICAgPGFuaW1hdGVUcmFuc2Zvcm0gYXR0cmlidXRlTmFtZT0idHJhbnNmb3JtIiB0eXBlPSJyb3RhdGUiIHJlcGVhdENvdW50PSJpbmRlZmluaXRlIiBkdXI9IjFzIiB2YWx1ZXM9IjAgNTAgNTA7MzYwIDUwIDUwIiBrZXlUaW1lcz0iMDsxIj48L2FuaW1hdGVUcmFuc2Zvcm0+ICA8L2NpcmNsZT48L3N2Zz4=\\\");\\n  background-size: auto calc(min(50%, 400px));\\n}\",{\"id\":\"b3b3457b-d682-4eaa-94dd-342b1b1aebb9\"},{\"id\":\"0634091e-41f6-4fb4-95d7-bcf397f7d767\"},{\"id\":\"5b3b104b-9d96-450f-ac68-85fd5b3268e0\"},{\"id\":\"86aa51eb-e831-406b-9584-0f346ac046c5\"}],\"margin\":0,\"sizing_mode\":\"fixed\",\"align\":\"start\",\"children\":[{\"type\":\"object\",\"name\":\"Figure\",\"id\":\"98666951-879f-46c7-bdb8-29b518014d63\",\"attributes\":{\"name\":\"ParamFunction01216\",\"width\":700,\"height\":300,\"margin\":[5,10],\"sizing_mode\":\"fixed\",\"align\":\"start\",\"x_range\":{\"type\":\"object\",\"name\":\"FactorRange\",\"id\":\"d1a6ae73-7d99-414a-939c-a1b58b4f19b9\",\"attributes\":{\"tags\":[[[\"Month-Year\",\"Month-Year\",null]],[]],\"factors\":[\"2022-11\",\"2022-12\",\"2023-01\",\"2023-02\",\"2023-03\",\"2023-05\",\"2023-06\",\"2023-07\",\"2023-08\",\"2023-09\",\"2023-10\",\"2023-11\",\"2023-12\",\"2024-01\",\"2024-02\",\"2024-03\",\"2024-04\"]}},\"y_range\":{\"type\":\"object\",\"name\":\"Range1d\",\"id\":\"33065a75-785e-45fb-a1fe-e9e454e30193\",\"attributes\":{\"tags\":[[[\"Amount \",\"Amount \",null]],{\"type\":\"map\",\"entries\":[[\"invert_yaxis\",false],[\"autorange\",false]]}],\"end\":329.9,\"reset_start\":0.0,\"reset_end\":329.9}},\"x_scale\":{\"type\":\"object\",\"name\":\"CategoricalScale\",\"id\":\"97f72fef-0c8e-4594-ad28-b85a84bb1a8c\"},\"y_scale\":{\"type\":\"object\",\"name\":\"LinearScale\",\"id\":\"7881d4df-2cbe-405a-b999-56eb41389ee0\"},\"title\":{\"type\":\"object\",\"name\":\"Title\",\"id\":\"9fd64581-a09e-4bc4-8858-5a036a096d5a\",\"attributes\":{\"text_color\":\"black\",\"text_font_size\":\"12pt\"}},\"renderers\":[{\"type\":\"object\",\"name\":\"GlyphRenderer\",\"id\":\"977e6f83-1dc2-4744-983e-382ff32da9bc\",\"attributes\":{\"data_source\":{\"type\":\"object\",\"name\":\"ColumnDataSource\",\"id\":\"b177951e-3b56-40b9-a112-70a4e51e5900\",\"attributes\":{\"selected\":{\"type\":\"object\",\"name\":\"Selection\",\"id\":\"2669424a-667d-4049-be4a-643fbd149b0f\",\"attributes\":{\"indices\":[],\"line_indices\":[]}},\"selection_policy\":{\"type\":\"object\",\"name\":\"UnionRenderers\",\"id\":\"77143511-3f63-4750-a463-53f2e0381408\"},\"data\":{\"type\":\"map\",\"entries\":[[\"Month_hyphen_minus_Year\",[\"2022-11\",\"2022-12\",\"2023-01\",\"2023-02\",\"2023-03\",\"2023-05\",\"2023-06\",\"2023-07\",\"2023-08\",\"2023-09\",\"2023-10\",\"2023-11\",\"2023-12\",\"2024-01\",\"2024-02\",\"2024-03\",\"2024-04\"]],[\"Amount\",{\"type\":\"ndarray\",\"array\":{\"type\":\"bytes\",\"data\":\"HgAAAMgAAAA8AAAAOwAAABcAAAASAQAA7QAAAIwAAAC/AAAA4AAAAAkBAAAuAQAA9wAAAN0AAADTAAAAZgAAANcAAAA=\"},\"shape\":[17],\"dtype\":\"int32\",\"order\":\"little\"}]]}}},\"view\":{\"type\":\"object\",\"name\":\"CDSView\",\"id\":\"8ce3dc86-13fe-4007-8c26-d3229ed2828a\",\"attributes\":{\"filter\":{\"type\":\"object\",\"name\":\"AllIndices\",\"id\":\"c9b4bab6-b5ed-49b4-bc2c-2b243c51f5cf\"}}},\"glyph\":{\"type\":\"object\",\"name\":\"VBar\",\"id\":\"8e90b0c8-c1b5-44ed-be53-4092a2b4b1a9\",\"attributes\":{\"tags\":[\"apply_ranges\"],\"x\":{\"type\":\"field\",\"field\":\"Month_hyphen_minus_Year\"},\"width\":{\"type\":\"value\",\"value\":0.8},\"top\":{\"type\":\"field\",\"field\":\"Amount\"},\"fill_color\":{\"type\":\"value\",\"value\":\"#30a2da\"},\"hatch_color\":{\"type\":\"value\",\"value\":\"#30a2da\"}}},\"selection_glyph\":{\"type\":\"object\",\"name\":\"VBar\",\"id\":\"1fdf6301-0096-4c61-bcaa-4af61219487c\",\"attributes\":{\"tags\":[\"apply_ranges\"],\"x\":{\"type\":\"field\",\"field\":\"Month_hyphen_minus_Year\"},\"width\":{\"type\":\"value\",\"value\":0.8},\"bottom\":{\"type\":\"value\",\"value\":0},\"top\":{\"type\":\"field\",\"field\":\"Amount\"},\"line_color\":{\"type\":\"value\",\"value\":\"black\"},\"line_alpha\":{\"type\":\"value\",\"value\":1.0},\"line_width\":{\"type\":\"value\",\"value\":1},\"line_join\":{\"type\":\"value\",\"value\":\"bevel\"},\"line_cap\":{\"type\":\"value\",\"value\":\"butt\"},\"line_dash\":{\"type\":\"value\",\"value\":[]},\"line_dash_offset\":{\"type\":\"value\",\"value\":0},\"fill_color\":{\"type\":\"value\",\"value\":\"#30a2da\"},\"fill_alpha\":{\"type\":\"value\",\"value\":1.0},\"hatch_color\":{\"type\":\"value\",\"value\":\"#30a2da\"},\"hatch_alpha\":{\"type\":\"value\",\"value\":1.0},\"hatch_scale\":{\"type\":\"value\",\"value\":12.0},\"hatch_pattern\":{\"type\":\"value\",\"value\":null},\"hatch_weight\":{\"type\":\"value\",\"value\":1.0}}},\"nonselection_glyph\":{\"type\":\"object\",\"name\":\"VBar\",\"id\":\"3c470a70-ebf9-4735-b1de-09cab22843ed\",\"attributes\":{\"tags\":[\"apply_ranges\"],\"x\":{\"type\":\"field\",\"field\":\"Month_hyphen_minus_Year\"},\"width\":{\"type\":\"value\",\"value\":0.8},\"top\":{\"type\":\"field\",\"field\":\"Amount\"},\"line_alpha\":{\"type\":\"value\",\"value\":0.1},\"fill_color\":{\"type\":\"value\",\"value\":\"#30a2da\"},\"fill_alpha\":{\"type\":\"value\",\"value\":0.1},\"hatch_color\":{\"type\":\"value\",\"value\":\"#30a2da\"},\"hatch_alpha\":{\"type\":\"value\",\"value\":0.1}}},\"muted_glyph\":{\"type\":\"object\",\"name\":\"VBar\",\"id\":\"14e49cc6-c86a-430e-8fdf-7238ffbfade2\",\"attributes\":{\"tags\":[\"apply_ranges\"],\"x\":{\"type\":\"field\",\"field\":\"Month_hyphen_minus_Year\"},\"width\":{\"type\":\"value\",\"value\":0.8},\"top\":{\"type\":\"field\",\"field\":\"Amount\"},\"line_alpha\":{\"type\":\"value\",\"value\":0.2},\"fill_color\":{\"type\":\"value\",\"value\":\"#30a2da\"},\"fill_alpha\":{\"type\":\"value\",\"value\":0.2},\"hatch_color\":{\"type\":\"value\",\"value\":\"#30a2da\"},\"hatch_alpha\":{\"type\":\"value\",\"value\":0.2}}}}}],\"toolbar\":{\"type\":\"object\",\"name\":\"Toolbar\",\"id\":\"db34c1f2-34ff-4e8e-b966-401bfe60239a\",\"attributes\":{\"tools\":[{\"type\":\"object\",\"name\":\"WheelZoomTool\",\"id\":\"e811da16-caf6-4a52-8d1b-a6d1be7c4dd8\",\"attributes\":{\"tags\":[\"hv_created\"],\"renderers\":\"auto\",\"zoom_together\":\"none\"}},{\"type\":\"object\",\"name\":\"HoverTool\",\"id\":\"4b19d4ce-392d-4e8b-a295-4e8c0f0c87ec\",\"attributes\":{\"tags\":[\"hv_created\"],\"renderers\":[{\"id\":\"977e6f83-1dc2-4744-983e-382ff32da9bc\"}],\"tooltips\":[[\"Month-Year\",\"@{Month_hyphen_minus_Year}\"],[\"Amount \",\"@{Amount}\"]]}},{\"type\":\"object\",\"name\":\"SaveTool\",\"id\":\"23e864e6-171f-4c5c-a852-fbd873ee86c6\"},{\"type\":\"object\",\"name\":\"PanTool\",\"id\":\"e452d8c0-0f08-45e1-9a6b-dbd9c7bd059a\"},{\"type\":\"object\",\"name\":\"BoxZoomTool\",\"id\":\"cdb21153-b6e4-4653-9eac-4a819de5c3a9\",\"attributes\":{\"overlay\":{\"type\":\"object\",\"name\":\"BoxAnnotation\",\"id\":\"27d41c77-8187-49f4-8a0d-19fca18931c1\",\"attributes\":{\"syncable\":false,\"level\":\"overlay\",\"visible\":false,\"left\":{\"type\":\"number\",\"value\":\"nan\"},\"right\":{\"type\":\"number\",\"value\":\"nan\"},\"top\":{\"type\":\"number\",\"value\":\"nan\"},\"bottom\":{\"type\":\"number\",\"value\":\"nan\"},\"left_units\":\"canvas\",\"right_units\":\"canvas\",\"top_units\":\"canvas\",\"bottom_units\":\"canvas\",\"line_color\":\"black\",\"line_alpha\":1.0,\"line_width\":2,\"line_dash\":[4,4],\"fill_color\":\"lightgrey\",\"fill_alpha\":0.5}}}},{\"type\":\"object\",\"name\":\"ResetTool\",\"id\":\"be398a26-2498-4f92-9faf-e8af1468c416\"}],\"active_drag\":{\"id\":\"e452d8c0-0f08-45e1-9a6b-dbd9c7bd059a\"},\"active_scroll\":{\"id\":\"e811da16-caf6-4a52-8d1b-a6d1be7c4dd8\"}}},\"left\":[{\"type\":\"object\",\"name\":\"LinearAxis\",\"id\":\"c64bf0e8-a59e-443b-8e60-a20e2d2f1fab\",\"attributes\":{\"ticker\":{\"type\":\"object\",\"name\":\"BasicTicker\",\"id\":\"bb05a9c7-02e8-4a1e-9d49-640f9ddd2347\",\"attributes\":{\"mantissas\":[1,2,5]}},\"formatter\":{\"type\":\"object\",\"name\":\"BasicTickFormatter\",\"id\":\"cc110ed3-2f49-487b-bdea-508ab36db0f9\"},\"axis_label\":\"Amount \",\"major_label_policy\":{\"type\":\"object\",\"name\":\"AllLabels\",\"id\":\"1a336645-18f5-48fe-ad02-89294d1543d8\"}}}],\"below\":[{\"type\":\"object\",\"name\":\"CategoricalAxis\",\"id\":\"dac5925a-c7b9-479a-b644-d84ab5109d0e\",\"attributes\":{\"ticker\":{\"type\":\"object\",\"name\":\"CategoricalTicker\",\"id\":\"e1360ca4-543c-4826-bdcc-fb705d7bdfc3\"},\"formatter\":{\"type\":\"object\",\"name\":\"CategoricalTickFormatter\",\"id\":\"9bfa3209-536a-4662-aefb-7b7fef89e0a1\"},\"axis_label\":\"Month-Year\",\"major_label_policy\":{\"type\":\"object\",\"name\":\"AllLabels\",\"id\":\"84e56111-8ca5-4df1-9b0f-961c03f18e91\"}}}],\"center\":[{\"type\":\"object\",\"name\":\"Grid\",\"id\":\"156b6120-e567-4b23-b527-f2f4ab84bf63\",\"attributes\":{\"axis\":{\"id\":\"dac5925a-c7b9-479a-b644-d84ab5109d0e\"},\"grid_line_color\":null}},{\"type\":\"object\",\"name\":\"Grid\",\"id\":\"d154a5a5-e08d-4ae8-b604-ccb11de7ff21\",\"attributes\":{\"dimension\":1,\"axis\":{\"id\":\"c64bf0e8-a59e-443b-8e60-a20e2d2f1fab\"},\"grid_line_color\":null}}],\"min_border_top\":10,\"min_border_bottom\":10,\"min_border_left\":10,\"min_border_right\":10,\"output_backend\":\"webgl\"}}]}}]}},{\"type\":\"object\",\"name\":\"panel.models.comm_manager.CommManager\",\"id\":\"cecedd07-c61b-42d6-94bd-ba7830531ff0\",\"attributes\":{\"plot_id\":\"5184cb88-5f68-4516-81b1-a17a9c3cb388\",\"comm_id\":\"df8db6cb9e0044f48e411f95dc959766\",\"client_comm_id\":\"aa8b69597e2f4129b8fe53c866de9573\"}}],\"defs\":[{\"type\":\"model\",\"name\":\"ReactiveHTML1\"},{\"type\":\"model\",\"name\":\"FlexBox1\",\"properties\":[{\"name\":\"align_content\",\"kind\":\"Any\",\"default\":\"flex-start\"},{\"name\":\"align_items\",\"kind\":\"Any\",\"default\":\"flex-start\"},{\"name\":\"flex_direction\",\"kind\":\"Any\",\"default\":\"row\"},{\"name\":\"flex_wrap\",\"kind\":\"Any\",\"default\":\"wrap\"},{\"name\":\"justify_content\",\"kind\":\"Any\",\"default\":\"flex-start\"}]},{\"type\":\"model\",\"name\":\"FloatPanel1\",\"properties\":[{\"name\":\"config\",\"kind\":\"Any\",\"default\":{\"type\":\"map\"}},{\"name\":\"contained\",\"kind\":\"Any\",\"default\":true},{\"name\":\"position\",\"kind\":\"Any\",\"default\":\"right-top\"},{\"name\":\"offsetx\",\"kind\":\"Any\",\"default\":null},{\"name\":\"offsety\",\"kind\":\"Any\",\"default\":null},{\"name\":\"theme\",\"kind\":\"Any\",\"default\":\"primary\"},{\"name\":\"status\",\"kind\":\"Any\",\"default\":\"normalized\"}]},{\"type\":\"model\",\"name\":\"GridStack1\",\"properties\":[{\"name\":\"mode\",\"kind\":\"Any\",\"default\":\"warn\"},{\"name\":\"ncols\",\"kind\":\"Any\",\"default\":null},{\"name\":\"nrows\",\"kind\":\"Any\",\"default\":null},{\"name\":\"allow_resize\",\"kind\":\"Any\",\"default\":true},{\"name\":\"allow_drag\",\"kind\":\"Any\",\"default\":true},{\"name\":\"state\",\"kind\":\"Any\",\"default\":[]}]},{\"type\":\"model\",\"name\":\"drag1\",\"properties\":[{\"name\":\"slider_width\",\"kind\":\"Any\",\"default\":5},{\"name\":\"slider_color\",\"kind\":\"Any\",\"default\":\"black\"},{\"name\":\"value\",\"kind\":\"Any\",\"default\":50}]},{\"type\":\"model\",\"name\":\"click1\",\"properties\":[{\"name\":\"terminal_output\",\"kind\":\"Any\",\"default\":\"\"},{\"name\":\"debug_name\",\"kind\":\"Any\",\"default\":\"\"},{\"name\":\"clears\",\"kind\":\"Any\",\"default\":0}]},{\"type\":\"model\",\"name\":\"copy_to_clipboard1\",\"properties\":[{\"name\":\"fill\",\"kind\":\"Any\",\"default\":\"none\"},{\"name\":\"value\",\"kind\":\"Any\",\"default\":null}]},{\"type\":\"model\",\"name\":\"FastWrapper1\",\"properties\":[{\"name\":\"object\",\"kind\":\"Any\",\"default\":null},{\"name\":\"style\",\"kind\":\"Any\",\"default\":null}]},{\"type\":\"model\",\"name\":\"NotificationAreaBase1\",\"properties\":[{\"name\":\"js_events\",\"kind\":\"Any\",\"default\":{\"type\":\"map\"}},{\"name\":\"position\",\"kind\":\"Any\",\"default\":\"bottom-right\"},{\"name\":\"_clear\",\"kind\":\"Any\",\"default\":0}]},{\"type\":\"model\",\"name\":\"NotificationArea1\",\"properties\":[{\"name\":\"js_events\",\"kind\":\"Any\",\"default\":{\"type\":\"map\"}},{\"name\":\"notifications\",\"kind\":\"Any\",\"default\":[]},{\"name\":\"position\",\"kind\":\"Any\",\"default\":\"bottom-right\"},{\"name\":\"_clear\",\"kind\":\"Any\",\"default\":0},{\"name\":\"types\",\"kind\":\"Any\",\"default\":[{\"type\":\"map\",\"entries\":[[\"type\",\"warning\"],[\"background\",\"#ffc107\"],[\"icon\",{\"type\":\"map\",\"entries\":[[\"className\",\"fas fa-exclamation-triangle\"],[\"tagName\",\"i\"],[\"color\",\"white\"]]}]]},{\"type\":\"map\",\"entries\":[[\"type\",\"info\"],[\"background\",\"#007bff\"],[\"icon\",{\"type\":\"map\",\"entries\":[[\"className\",\"fas fa-info-circle\"],[\"tagName\",\"i\"],[\"color\",\"white\"]]}]]}]}]},{\"type\":\"model\",\"name\":\"Notification\",\"properties\":[{\"name\":\"background\",\"kind\":\"Any\",\"default\":null},{\"name\":\"duration\",\"kind\":\"Any\",\"default\":3000},{\"name\":\"icon\",\"kind\":\"Any\",\"default\":null},{\"name\":\"message\",\"kind\":\"Any\",\"default\":\"\"},{\"name\":\"notification_type\",\"kind\":\"Any\",\"default\":null},{\"name\":\"_destroyed\",\"kind\":\"Any\",\"default\":false}]},{\"type\":\"model\",\"name\":\"TemplateActions1\",\"properties\":[{\"name\":\"open_modal\",\"kind\":\"Any\",\"default\":0},{\"name\":\"close_modal\",\"kind\":\"Any\",\"default\":0}]},{\"type\":\"model\",\"name\":\"BootstrapTemplateActions1\",\"properties\":[{\"name\":\"open_modal\",\"kind\":\"Any\",\"default\":0},{\"name\":\"close_modal\",\"kind\":\"Any\",\"default\":0}]},{\"type\":\"model\",\"name\":\"MaterialTemplateActions1\",\"properties\":[{\"name\":\"open_modal\",\"kind\":\"Any\",\"default\":0},{\"name\":\"close_modal\",\"kind\":\"Any\",\"default\":0}]}]}};\n",
       "  var render_items = [{\"docid\":\"37084be0-d512-4ba6-90ef-b80e79bc8153\",\"roots\":{\"5184cb88-5f68-4516-81b1-a17a9c3cb388\":\"f8a03016-8b49-41e9-add2-77e1e6c22c1f\"},\"root_ids\":[\"5184cb88-5f68-4516-81b1-a17a9c3cb388\"]}];\n",
       "  var docs = Object.values(docs_json)\n",
       "  if (!docs) {\n",
       "    return\n",
       "  }\n",
       "  const py_version = docs[0].version.replace('rc', '-rc.').replace('.dev', '-dev.')\n",
       "  function embed_document(root) {\n",
       "    var Bokeh = get_bokeh(root)\n",
       "    Bokeh.embed.embed_items_notebook(docs_json, render_items);\n",
       "    for (const render_item of render_items) {\n",
       "      for (const root_id of render_item.root_ids) {\n",
       "\tconst id_el = document.getElementById(root_id)\n",
       "\tif (id_el.children.length && (id_el.children[0].className === 'bk-root')) {\n",
       "\t  const root_el = id_el.children[0]\n",
       "\t  root_el.id = root_el.id + '-rendered'\n",
       "\t}\n",
       "      }\n",
       "    }\n",
       "  }\n",
       "  function get_bokeh(root) {\n",
       "    if (root.Bokeh === undefined) {\n",
       "      return null\n",
       "    } else if (root.Bokeh.version !== py_version) {\n",
       "      if (root.Bokeh.versions === undefined || !root.Bokeh.versions.has(py_version)) {\n",
       "\treturn null\n",
       "      }\n",
       "      return root.Bokeh.versions.get(py_version);\n",
       "    } else if (root.Bokeh.version === py_version) {\n",
       "      return root.Bokeh\n",
       "    }\n",
       "    return null\n",
       "  }\n",
       "  function is_loaded(root) {\n",
       "    var Bokeh = get_bokeh(root)\n",
       "    return (Bokeh != null && Bokeh.Panel !== undefined && ( root['Tabulator'] !== undefined) && ( root['Tabulator'] !== undefined))\n",
       "  }\n",
       "  if (is_loaded(root)) {\n",
       "    embed_document(root);\n",
       "  } else {\n",
       "    var attempts = 0;\n",
       "    var timer = setInterval(function(root) {\n",
       "      if (is_loaded(root)) {\n",
       "        clearInterval(timer);\n",
       "        embed_document(root);\n",
       "      } else if (document.readyState == \"complete\") {\n",
       "        attempts++;\n",
       "        if (attempts > 200) {\n",
       "          clearInterval(timer);\n",
       "\t  var Bokeh = get_bokeh(root)\n",
       "\t  if (Bokeh == null || Bokeh.Panel == null) {\n",
       "            console.warn(\"Panel: ERROR: Unable to run Panel code because Bokeh or Panel library is missing\");\n",
       "\t  } else {\n",
       "\t    console.warn(\"Panel: WARNING: Attempting to render but not all required libraries could be resolved.\")\n",
       "\t    embed_document(root)\n",
       "\t  }\n",
       "        }\n",
       "      }\n",
       "    }, 25, root)\n",
       "  }\n",
       "})(window);</script>"
      ],
      "text/plain": [
       "Row\n",
       "    [0] Select(options=['all', 'children', ...], value='children')\n",
       "    [1] ParamFunction(function, _pane=HoloViews, defer_load=False, width=700)"
      ]
     },
     "execution_count": 36,
     "metadata": {
      "application/vnd.holoviews_exec.v0+json": {
       "id": "5184cb88-5f68-4516-81b1-a17a9c3cb388"
      }
     },
     "output_type": "execute_result"
    }
   ],
   "source": [
    "#define plot function\n",
    "def plot_expenses(category):\n",
    "  if category == 'all':\n",
    "    plot_df = monthly_expenses_trend_by_cat.groupby('Month-Year').sum()\n",
    "  else:\n",
    "    plot_df = monthly_expenses_trend_by_cat[monthly_expenses_trend_by_cat['Category'] == category].groupby('Month-Year').sum()\n",
    "  plot = plot_df.hvplot.bar(x='Month-Year', y='Amount ')\n",
    "  return plot\n",
    "\n",
    "# define callback function\n",
    "@pn.depends(select_category1.param.value)\n",
    "def update_plot(category):\n",
    "    plot = plot_expenses(category)\n",
    "    return plot\n",
    "\n",
    "# create layout\n",
    "monthly_expenses_trend_by_cat_chart = pn.Row(select_category1, update_plot)\n",
    "monthly_expenses_trend_by_cat_chart[1].width = 700\n",
    "\n",
    "monthly_expenses_trend_by_cat_chart"
   ]
  },
  {
   "cell_type": "markdown",
   "metadata": {
    "id": "8qfP7QHZiaMF"
   },
   "source": [
    "**Create summary table**"
   ]
  },
  {
   "cell_type": "code",
   "execution_count": 31,
   "metadata": {
    "colab": {
     "base_uri": "https://localhost:8080/",
     "height": 527
    },
    "executionInfo": {
     "elapsed": 432,
     "status": "ok",
     "timestamp": 1715378932787,
     "user": {
      "displayName": "Julia Austin",
      "userId": "13512607286634222437"
     },
     "user_tz": 240
    },
    "id": "qilrhYseg-Vq",
    "outputId": "43376a38-0895-40ef-c419-0564185b92b9"
   },
   "outputs": [
    {
     "data": {
      "text/html": [
       "<div>\n",
       "<style scoped>\n",
       "    .dataframe tbody tr th:only-of-type {\n",
       "        vertical-align: middle;\n",
       "    }\n",
       "\n",
       "    .dataframe tbody tr th {\n",
       "        vertical-align: top;\n",
       "    }\n",
       "\n",
       "    .dataframe thead th {\n",
       "        text-align: right;\n",
       "    }\n",
       "</style>\n",
       "<table border=\"1\" class=\"dataframe\">\n",
       "  <thead>\n",
       "    <tr style=\"text-align: right;\">\n",
       "      <th></th>\n",
       "      <th>Date</th>\n",
       "      <th>Category</th>\n",
       "      <th>Description</th>\n",
       "      <th>Amount</th>\n",
       "    </tr>\n",
       "  </thead>\n",
       "  <tbody>\n",
       "    <tr>\n",
       "      <th>1</th>\n",
       "      <td>2022-11-09</td>\n",
       "      <td>shopping</td>\n",
       "      <td>target.c</td>\n",
       "      <td>90</td>\n",
       "    </tr>\n",
       "    <tr>\n",
       "      <th>2</th>\n",
       "      <td>2022-11-09</td>\n",
       "      <td>shopping</td>\n",
       "      <td>target.c</td>\n",
       "      <td>6</td>\n",
       "    </tr>\n",
       "    <tr>\n",
       "      <th>3</th>\n",
       "      <td>2022-11-09</td>\n",
       "      <td>shopping</td>\n",
       "      <td>the-wood</td>\n",
       "      <td>72</td>\n",
       "    </tr>\n",
       "    <tr>\n",
       "      <th>4</th>\n",
       "      <td>2022-11-09</td>\n",
       "      <td>transportation</td>\n",
       "      <td>enmarket</td>\n",
       "      <td>33</td>\n",
       "    </tr>\n",
       "    <tr>\n",
       "      <th>5</th>\n",
       "      <td>2022-11-14</td>\n",
       "      <td>amazon</td>\n",
       "      <td>amzn-mkt</td>\n",
       "      <td>13</td>\n",
       "    </tr>\n",
       "    <tr>\n",
       "      <th>...</th>\n",
       "      <td>...</td>\n",
       "      <td>...</td>\n",
       "      <td>...</td>\n",
       "      <td>...</td>\n",
       "    </tr>\n",
       "    <tr>\n",
       "      <th>1012</th>\n",
       "      <td>2024-05-06</td>\n",
       "      <td>amazon</td>\n",
       "      <td>amzn-mkt</td>\n",
       "      <td>15</td>\n",
       "    </tr>\n",
       "    <tr>\n",
       "      <th>1013</th>\n",
       "      <td>2024-05-06</td>\n",
       "      <td>shopping</td>\n",
       "      <td>michaels</td>\n",
       "      <td>19</td>\n",
       "    </tr>\n",
       "    <tr>\n",
       "      <th>1014</th>\n",
       "      <td>2024-05-07</td>\n",
       "      <td>restaurant</td>\n",
       "      <td>17-sakur</td>\n",
       "      <td>47</td>\n",
       "    </tr>\n",
       "    <tr>\n",
       "      <th>1016</th>\n",
       "      <td>2024-05-08</td>\n",
       "      <td>grocery</td>\n",
       "      <td>food-lio</td>\n",
       "      <td>88</td>\n",
       "    </tr>\n",
       "    <tr>\n",
       "      <th>1017</th>\n",
       "      <td>2024-05-08</td>\n",
       "      <td>restaurant</td>\n",
       "      <td>my-hot-l</td>\n",
       "      <td>15</td>\n",
       "    </tr>\n",
       "  </tbody>\n",
       "</table>\n",
       "<p>929 rows × 4 columns</p>\n",
       "</div>"
      ],
      "text/plain": [
       "           Date        Category Description  Amount\n",
       "1    2022-11-09        shopping    target.c      90\n",
       "2    2022-11-09        shopping    target.c       6\n",
       "3    2022-11-09        shopping    the-wood      72\n",
       "4    2022-11-09  transportation    enmarket      33\n",
       "5    2022-11-14          amazon    amzn-mkt      13\n",
       "...         ...             ...         ...     ...\n",
       "1012 2024-05-06          amazon    amzn-mkt      15\n",
       "1013 2024-05-06        shopping    michaels      19\n",
       "1014 2024-05-07      restaurant    17-sakur      47\n",
       "1016 2024-05-08         grocery    food-lio      88\n",
       "1017 2024-05-08      restaurant    my-hot-l      15\n",
       "\n",
       "[929 rows x 4 columns]"
      ]
     },
     "execution_count": 31,
     "metadata": {},
     "output_type": "execute_result"
    }
   ],
   "source": [
    "df = df[['Date', 'Category', 'Description', 'Amount']]\n",
    "df['Amount']= df['Amount'].astype('str')\n",
    "df['Amount']= df['Amount'].str.replace('-','')\n",
    "df['Amount']= df['Amount'].str.replace(',','')\n",
    "df['Amount']= df['Amount'].astype(float)\n",
    "\n",
    "df = df[df['Category'].str.contains('deposit|unassigned') == False]\n",
    "df['Amount'] = df['Amount'].round().astype(int)\n",
    "df"
   ]
  },
  {
   "cell_type": "code",
   "execution_count": 35,
   "metadata": {
    "colab": {
     "base_uri": "https://localhost:8080/",
     "height": 127
    },
    "executionInfo": {
     "elapsed": 375,
     "status": "ok",
     "timestamp": 1715379149813,
     "user": {
      "displayName": "Julia Austin",
      "userId": "13512607286634222437"
     },
     "user_tz": 240
    },
    "id": "CYYZRgeqi6ji",
    "outputId": "7c9c51ee-30f2-43d0-962a-748c980284c4"
   },
   "outputs": [
    {
     "data": {},
     "metadata": {},
     "output_type": "display_data"
    },
    {
     "data": {
      "application/vnd.holoviews_exec.v0+json": "",
      "text/html": [
       "<div id='907a3fe7-7b3d-4d15-b439-9c17cc3b6278'>\n",
       "  <div id=\"e2371245-4a95-4ab9-ae18-113be6a707a9\" data-root-id=\"907a3fe7-7b3d-4d15-b439-9c17cc3b6278\" style=\"display: contents;\"></div>\n",
       "</div>\n",
       "<script type=\"application/javascript\">(function(root) {\n",
       "  var docs_json = {\"6c8d3ae0-5abd-4616-b1e2-8d8c81dbce3f\":{\"version\":\"3.3.4\",\"title\":\"Bokeh Application\",\"roots\":[{\"type\":\"object\",\"name\":\"DataTable\",\"id\":\"907a3fe7-7b3d-4d15-b439-9c17cc3b6278\",\"attributes\":{\"stylesheets\":[\"\\n:host(.pn-loading.pn-arc):before, .pn-loading.pn-arc:before {\\n  background-image: url(\\\"data:image/svg+xml;base64,PHN2ZyB4bWxucz0iaHR0cDovL3d3dy53My5vcmcvMjAwMC9zdmciIHN0eWxlPSJtYXJnaW46IGF1dG87IGJhY2tncm91bmQ6IG5vbmU7IGRpc3BsYXk6IGJsb2NrOyBzaGFwZS1yZW5kZXJpbmc6IGF1dG87IiB2aWV3Qm94PSIwIDAgMTAwIDEwMCIgcHJlc2VydmVBc3BlY3RSYXRpbz0ieE1pZFlNaWQiPiAgPGNpcmNsZSBjeD0iNTAiIGN5PSI1MCIgZmlsbD0ibm9uZSIgc3Ryb2tlPSIjYzNjM2MzIiBzdHJva2Utd2lkdGg9IjEwIiByPSIzNSIgc3Ryb2tlLWRhc2hhcnJheT0iMTY0LjkzMzYxNDMxMzQ2NDE1IDU2Ljk3Nzg3MTQzNzgyMTM4Ij4gICAgPGFuaW1hdGVUcmFuc2Zvcm0gYXR0cmlidXRlTmFtZT0idHJhbnNmb3JtIiB0eXBlPSJyb3RhdGUiIHJlcGVhdENvdW50PSJpbmRlZmluaXRlIiBkdXI9IjFzIiB2YWx1ZXM9IjAgNTAgNTA7MzYwIDUwIDUwIiBrZXlUaW1lcz0iMDsxIj48L2FuaW1hdGVUcmFuc2Zvcm0+ICA8L2NpcmNsZT48L3N2Zz4=\\\");\\n  background-size: auto calc(min(50%, 400px));\\n}\",{\"type\":\"object\",\"name\":\"ImportedStyleSheet\",\"id\":\"2ce225a7-431d-4717-ae4a-da2f4b607621\",\"attributes\":{\"url\":\"https://cdn.holoviz.org/panel/1.3.8/dist/css/loading.css\"}},{\"type\":\"object\",\"name\":\"ImportedStyleSheet\",\"id\":\"94c1b278-3c65-4b40-b32f-9b3145e0585b\",\"attributes\":{\"url\":\"https://cdn.holoviz.org/panel/1.3.8/dist/bundled/theme/default.css\"}},{\"type\":\"object\",\"name\":\"ImportedStyleSheet\",\"id\":\"7ae635f7-fc3a-44c5-80a0-51c022059542\",\"attributes\":{\"url\":\"https://cdn.holoviz.org/panel/1.3.8/dist/bundled/theme/native.css\"}}],\"width\":400,\"height\":300,\"margin\":[5,10],\"sizing_mode\":\"fixed\",\"align\":\"start\",\"source\":{\"type\":\"object\",\"name\":\"ColumnDataSource\",\"id\":\"3a7851ed-dd01-4e06-a031-aeee4cb66315\",\"attributes\":{\"selected\":{\"type\":\"object\",\"name\":\"Selection\",\"id\":\"5bbb2e32-cf3e-477c-8e3b-7b79ce667340\",\"attributes\":{\"indices\":[],\"line_indices\":[]}},\"selection_policy\":{\"type\":\"object\",\"name\":\"UnionRenderers\",\"id\":\"252f22ee-eff7-470a-841d-cd6430b32712\"},\"data\":{\"type\":\"map\",\"entries\":[[\"index\",{\"type\":\"ndarray\",\"array\":{\"type\":\"bytes\",\"data\":\"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\"},\"shape\":[929],\"dtype\":\"int32\",\"order\":\"little\"}],[\"Date\",{\"type\":\"ndarray\",\"array\":{\"type\":\"bytes\",\"data\":\"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\"},\"shape\":[929],\"dtype\":\"float64\",\"order\":\"little\"}],[\"Category\",{\"type\":\"ndarray\",\"array\":[\"shopping\",\"shopping\",\"shopping\",\"transportation\",\"amazon\",\"children\",\"career\",\"grocery\",\"utilities\",\"utilities\",\"utilities\",\"utilities\",\"utilities\",\"health\",\"amazon\",\"utilities\",\"transportation\",\"grocery\",\"credit_card\",\"fees\",\"amazon\",\"health\",\"amazon\",\"amazon\",\"utilities\",\"utilities\",\"major_purchases\",\"credit_card\",\"amazon\",\"education\",\"health\",\"career\",\"insurance\",\"amazon\",\"children\",\"grocery\",\"restaurant\",\"children\",\"insurance\",\"insurance\",\"amazon\",\"amazon\",\"amazon\",\"amazon\",\"children\",\"amazon\",\"grocery\",\"education\",\"education\",\"transportation\",\"career\",\"shopping\",\"amazon\",\"transportation\",\"transportation\",\"grocery\",\"shopping\",\"shopping\",\"entertainment\",\"grocery\",\"transportation\",\"transportation\",\"career\",\"health\",\"transportation\",\"shopping\",\"grocery\",\"health\",\"pets\",\"utilities\",\"credit_card\",\"utilities\",\"utilities\",\"utilities\",\"utilities\",\"entertainment\",\"entertainment\",\"grocery\",\"entertainment\",\"grocery\",\"grocery\",\"shopping\",\"savings\",\"credit_card\",\"utilities\",\"health\",\"insurance\",\"health\",\"amazon\",\"children\",\"grocery\",\"transportation\",\"entertainment\",\"restaurant\",\"travel\",\"health\",\"transportation\",\"education\",\"education\",\"amazon\",\"shopping\",\"restaurant\",\"grocery\",\"utilities\",\"utilities\",\"amazon\",\"amazon\",\"amazon\",\"amazon\",\"amazon\",\"career\",\"transportation\",\"grocery\",\"utilities\",\"pets\",\"amazon\",\"education\",\"education\",\"utilities\",\"credit_card\",\"utilities\",\"utilities\",\"amazon\",\"education\",\"education\",\"amazon\",\"shopping\",\"amazon\",\"utilities\",\"children\",\"insurance\",\"shopping\",\"entertainment\",\"credit_card\",\"career\",\"credit_card\",\"restaurant\",\"utilities\",\"utilities\",\"grocery\",\"career\",\"health\",\"grocery\",\"amazon\",\"amazon\",\"tax\",\"grocery\",\"grocery\",\"utilities\",\"transportation\",\"utilities\",\"utilities\",\"credit_card\",\"credit_card\",\"health\",\"fees\",\"children\",\"restaurant\",\"amazon\",\"education\",\"restaurant\",\"amazon\",\"amazon\",\"shopping\",\"children\",\"amazon\",\"restaurant\",\"transportation\",\"utilities\",\"entertainment\",\"insurance\",\"transportation\",\"grocery\",\"utilities\",\"amazon\",\"health\",\"health\",\"utilities\",\"career\",\"gifts\",\"transportation\",\"children\",\"career\",\"credit_card\",\"transportation\",\"utilities\",\"utilities\",\"utilities\",\"utilities\",\"amazon\",\"amazon\",\"amazon\",\"utilities\",\"grocery\",\"insurance\",\"utilities\",\"grocery\",\"travel\",\"travel\",\"amazon\",\"grocery\",\"restaurant\",\"travel\",\"travel\",\"travel\",\"travel\",\"travel\",\"travel\",\"travel\",\"amazon\",\"restaurant\",\"utilities\",\"grocery\",\"insurance\",\"entertainment\",\"transportation\",\"education\",\"transportation\",\"shopping\",\"restaurant\",\"amazon\",\"utilities\",\"education\",\"grocery\",\"career\",\"restaurant\",\"amazon\",\"career\",\"amazon\",\"amazon\",\"grocery\",\"fees\",\"amazon\",\"career\",\"insurance\",\"restaurant\",\"credit_card\",\"entertainment\",\"ccm\",\"amazon\",\"amazon\",\"utilities\",\"utilities\",\"amazon\",\"grocery\",\"grocery\",\"insurance\",\"shopping\",\"career\",\"utilities\",\"amazon\",\"amazon\",\"utilities\",\"restaurant\",\"utilities\",\"career\",\"grocery\",\"grocery\",\"amazon\",\"utilities\",\"credit_card\",\"amazon\",\"savings\",\"transportation\",\"grocery\",\"credit_card\",\"shopping\",\"shopping\",\"amazon\",\"amazon\",\"utilities\",\"restaurant\",\"amazon\",\"insurance\",\"entertainment\",\"career\",\"amazon\",\"amazon\",\"insurance\",\"insurance\",\"credit_card\",\"amazon\",\"career\",\"children\",\"children\",\"ccm\",\"amazon\",\"amazon\",\"grocery\",\"utilities\",\"shopping\",\"children\",\"amazon\",\"shopping\",\"transportation\",\"career\",\"utilities\",\"amazon\",\"amazon\",\"restaurant\",\"utilities\",\"transportation\",\"utilities\",\"entertainment\",\"shopping\",\"amazon\",\"transportation\",\"grocery\",\"restaurant\",\"restaurant\",\"restaurant\",\"shopping\",\"shopping\",\"amazon\",\"amazon\",\"entertainment\",\"utilities\",\"credit_card\",\"grocery\",\"utilities\",\"shopping\",\"amazon\",\"amazon\",\"shopping\",\"shopping\",\"entertainment\",\"amazon\",\"career\",\"entertainment\",\"children\",\"insurance\",\"shopping\",\"restaurant\",\"insurance\",\"insurance\",\"amazon\",\"grocery\",\"amazon\",\"amazon\",\"children\",\"career\",\"transportation\",\"grocery\",\"transportation\",\"shopping\",\"shopping\",\"grocery\",\"transportation\",\"credit_card\",\"children\",\"grocery\",\"grocery\",\"transportation\",\"shopping\",\"restaurant\",\"career\",\"career\",\"shopping\",\"utilities\",\"amazon\",\"utilities\",\"utilities\",\"amazon\",\"amazon\",\"amazon\",\"utilities\",\"utilities\",\"transportation\",\"entertainment\",\"shopping\",\"amazon\",\"utilities\",\"career\",\"children\",\"transportation\",\"transportation\",\"amazon\",\"amazon\",\"amazon\",\"insurance\",\"transportation\",\"grocery\",\"entertainment\",\"shopping\",\"transportation\",\"amazon\",\"amazon\",\"amazon\",\"restaurant\",\"travel\",\"amazon\",\"restaurant\",\"restaurant\",\"amazon\",\"insurance\",\"insurance\",\"travel\",\"travel\",\"amazon\",\"children\",\"amazon\",\"amazon\",\"career\",\"career\",\"utilities\",\"utilities\",\"utilities\",\"utilities\",\"utilities\",\"restaurant\",\"amazon\",\"credit_card\",\"utilities\",\"amazon\",\"utilities\",\"transportation\",\"restaurant\",\"utilities\",\"amazon\",\"credit_card\",\"children\",\"entertainment\",\"restaurant\",\"grocery\",\"shopping\",\"entertainment\",\"grocery\",\"shopping\",\"utilities\",\"amazon\",\"utilities\",\"transportation\",\"insurance\",\"entertainment\",\"shopping\",\"utilities\",\"restaurant\",\"grocery\",\"amazon\",\"utilities\",\"amazon\",\"amazon\",\"amazon\",\"amazon\",\"children\",\"amazon\",\"insurance\",\"insurance\",\"utilities\",\"fees\",\"amazon\",\"education\",\"amazon\",\"amazon\",\"amazon\",\"ccm\",\"amazon\",\"utilities\",\"transportation\",\"entertainment\",\"utilities\",\"utilities\",\"career\",\"grocery\",\"grocery\",\"grocery\",\"education\",\"grocery\",\"utilities\",\"restaurant\",\"amazon\",\"utilities\",\"utilities\",\"amazon\",\"education\",\"education\",\"children\",\"education\",\"grocery\",\"grocery\",\"amazon\",\"education\",\"credit_card\",\"amazon\",\"transportation\",\"amazon\",\"utilities\",\"grocery\",\"amazon\",\"utilities\",\"amazon\",\"amazon\",\"fees\",\"amazon\",\"restaurant\",\"grocery\",\"education\",\"education\",\"entertainment\",\"insurance\",\"education\",\"entertainment\",\"health\",\"grocery\",\"shopping\",\"insurance\",\"insurance\",\"children\",\"grocery\",\"shopping\",\"shopping\",\"amazon\",\"shopping\",\"insurance\",\"credit_card\",\"restaurant\",\"education\",\"amazon\",\"amazon\",\"utilities\",\"amazon\",\"amazon\",\"amazon\",\"education\",\"utilities\",\"utilities\",\"grocery\",\"restaurant\",\"grocery\",\"career\",\"children\",\"amazon\",\"amazon\",\"education\",\"amazon\",\"grocery\",\"education\",\"children\",\"utilities\",\"utilities\",\"utilities\",\"restaurant\",\"amazon\",\"amazon\",\"amazon\",\"transportation\",\"credit_card\",\"children\",\"amazon\",\"grocery\",\"amazon\",\"utilities\",\"restaurant\",\"grocery\",\"credit_card\",\"utilities\",\"education\",\"shopping\",\"amazon\",\"entertainment\",\"education\",\"grocery\",\"grocery\",\"insurance\",\"entertainment\",\"entertainment\",\"amazon\",\"utilities\",\"grocery\",\"utilities\",\"insurance\",\"insurance\",\"tax\",\"amazon\",\"amazon\",\"children\",\"insurance\",\"grocery\",\"amazon\",\"children\",\"transportation\",\"restaurant\",\"utilities\",\"utilities\",\"amazon\",\"amazon\",\"utilities\",\"amazon\",\"shopping\",\"amazon\",\"restaurant\",\"amazon\",\"restaurant\",\"shopping\",\"utilities\",\"utilities\",\"utilities\",\"education\",\"amazon\",\"grocery\",\"grocery\",\"credit_card\",\"restaurant\",\"restaurant\",\"grocery\",\"travel\",\"amazon\",\"education\",\"education\",\"education\",\"transportation\",\"credit_card\",\"amazon\",\"utilities\",\"education\",\"education\",\"children\",\"insurance\",\"amazon\",\"entertainment\",\"grocery\",\"grocery\",\"children\",\"restaurant\",\"insurance\",\"insurance\",\"education\",\"children\",\"amazon\",\"grocery\",\"grocery\",\"children\",\"amazon\",\"amazon\",\"amazon\",\"insurance\",\"amazon\",\"education\",\"amazon\",\"credit_card\",\"credit_card\",\"shopping\",\"amazon\",\"children\",\"amazon\",\"amazon\",\"amazon\",\"entertainment\",\"utilities\",\"utilities\",\"children\",\"amazon\",\"children\",\"amazon\",\"utilities\",\"utilities\",\"utilities\",\"grocery\",\"credit_card\",\"entertainment\",\"shopping\",\"grocery\",\"amazon\",\"amazon\",\"shopping\",\"education\",\"shopping\",\"fees\",\"grocery\",\"utilities\",\"amazon\",\"children\",\"insurance\",\"restaurant\",\"entertainment\",\"grocery\",\"amazon\",\"insurance\",\"insurance\",\"transportation\",\"restaurant\",\"children\",\"amazon\",\"children\",\"grocery\",\"amazon\",\"insurance\",\"credit_card\",\"career\",\"amazon\",\"amazon\",\"amazon\",\"amazon\",\"education\",\"shopping\",\"transportation\",\"amazon\",\"grocery\",\"utilities\",\"utilities\",\"grocery\",\"utilities\",\"utilities\",\"travel\",\"utilities\",\"utilities\",\"health\",\"children\",\"grocery\",\"amazon\",\"shopping\",\"amazon\",\"insurance\",\"shopping\",\"children\",\"children\",\"children\",\"grocery\",\"grocery\",\"credit_card\",\"utilities\",\"grocery\",\"children\",\"insurance\",\"travel\",\"travel\",\"travel\",\"travel\",\"entertainment\",\"travel\",\"travel\",\"travel\",\"restaurant\",\"amazon\",\"children\",\"grocery\",\"grocery\",\"grocery\",\"insurance\",\"credit_card\",\"insurance\",\"grocery\",\"grocery\",\"transportation\",\"children\",\"grocery\",\"health\",\"utilities\",\"restaurant\",\"utilities\",\"utilities\",\"grocery\",\"utilities\",\"education\",\"utilities\",\"utilities\",\"transportation\",\"children\",\"amazon\",\"grocery\",\"restaurant\",\"utilities\",\"children\",\"entertainment\",\"insurance\",\"insurance\",\"insurance\",\"children\",\"grocery\",\"credit_card\",\"transportation\",\"grocery\",\"entertainment\",\"entertainment\",\"amazon\",\"utilities\",\"utilities\",\"shopping\",\"grocery\",\"grocery\",\"grocery\",\"children\",\"grocery\",\"amazon\",\"utilities\",\"utilities\",\"utilities\",\"children\",\"grocery\",\"credit_card\",\"restaurant\",\"grocery\",\"tax\",\"grocery\",\"grocery\",\"amazon\",\"children\",\"amazon\",\"tax\",\"entertainment\",\"amazon\",\"utilities\",\"education\",\"insurance\",\"entertainment\",\"amazon\",\"children\",\"insurance\",\"insurance\",\"tax\",\"restaurant\",\"health\",\"fees\",\"children\",\"amazon\",\"transportation\",\"restaurant\",\"grocery\",\"savings\",\"restaurant\",\"credit_card\",\"transportation\",\"restaurant\",\"restaurant\",\"grocery\",\"restaurant\",\"savings\",\"amazon\",\"credit_card\",\"amazon\",\"utilities\",\"utilities\",\"amazon\",\"utilities\",\"utilities\",\"utilities\",\"entertainment\",\"credit_card\",\"amazon\",\"education\",\"grocery\",\"career\",\"grocery\",\"children\",\"shopping\",\"grocery\",\"amazon\",\"utilities\",\"grocery\",\"credit_card\",\"utilities\",\"shopping\",\"amazon\",\"amazon\",\"transportation\",\"insurance\",\"transportation\",\"shopping\",\"entertainment\",\"insurance\",\"insurance\",\"grocery\",\"shopping\",\"savings\",\"savings\",\"grocery\",\"credit_card\",\"amazon\",\"health\",\"children\",\"restaurant\",\"transportation\",\"amazon\",\"shopping\",\"grocery\",\"utilities\",\"career\",\"utilities\",\"restaurant\",\"utilities\",\"restaurant\",\"utilities\",\"shopping\",\"grocery\",\"grocery\",\"entertainment\",\"utilities\",\"credit_card\",\"children\",\"utilities\",\"career\",\"amazon\",\"health\",\"amazon\",\"transportation\",\"amazon\",\"credit_card\",\"shopping\",\"career\",\"restaurant\",\"grocery\",\"grocery\",\"amazon\",\"children\",\"utilities\",\"amazon\",\"restaurant\",\"career\",\"credit_card\",\"utilities\",\"grocery\",\"entertainment\",\"grocery\",\"restaurant\",\"transportation\",\"insurance\",\"insurance\",\"insurance\",\"savings\",\"amazon\",\"amazon\",\"transportation\",\"education\",\"amazon\",\"amazon\",\"shopping\",\"restaurant\",\"grocery\",\"restaurant\"],\"shape\":[929],\"dtype\":\"object\",\"order\":\"little\"}],[\"Description\",{\"type\":\"ndarray\",\"array\":[\"target.c\",\"target.c\",\"the-wood\",\"enmarket\",\"amzn-mkt\",\"coastal-\",\"cci-care\",\"kroger-#\",\"sav-des:\",\"hp--inst\",\"municipa\",\"ring-unl\",\"city-of-\",\"thrivewo\",\"amazon.c\",\"ez--port\",\"sapps-wr\",\"ic--inst\",\"bank-of-\",\"preferre\",\"amzn-mkt\",\"godley-s\",\"amazon.c\",\"amzn-mkt\",\"usps-po-\",\"att-bill\",\"carmax.c\",\"bank-of-\",\"amazon.c\",\"teachers\",\"thrivewo\",\"ascd-res\",\"state-fa\",\"amazon.c\",\"fbpay--s\",\"wal-mart\",\"panera-b\",\"venmo-12\",\"anthem-b\",\"anthem-b\",\"amazon.c\",\"amzn-mkt\",\"amzn-mkt\",\"amazon.c\",\"venmo-12\",\"amzn-mkt\",\"wal-wal-\",\"teachers\",\"teachers\",\"savannah\",\"college-\",\"target-t\",\"amzn-mkt\",\"savannah\",\"chevron-\",\"walmart.\",\"sp-camp-\",\"nnt-h&m0\",\"ghost-pi\",\"kroger-#\",\"chatham-\",\"autozone\",\"cci-care\",\"vision-d\",\"autozone\",\"five-bel\",\"wal-wal-\",\"internat\",\"petsmart\",\"municipa\",\"bank-of-\",\"sav-des:\",\"city-of-\",\"hp--inst\",\"ring-unl\",\"prime-vi\",\"ghost-pi\",\"walmart.\",\"wpy-frie\",\"kroger-#\",\"wal-wal-\",\"sp-thead\",\"online-b\",\"bank-of-\",\"att-bill\",\"propay-t\",\"state-fa\",\"thrivewo\",\"amazon-d\",\"venmo-12\",\"walgreen\",\"racetrac\",\"www.illu\",\"tst--tac\",\"bundesre\",\"internat\",\"237-peac\",\"teachers\",\"teachers\",\"amzn-mkt\",\"shein-01\",\"my-hot-l\",\"wal-mart\",\"city-of-\",\"municipa\",\"amzn-mkt\",\"amazon.c\",\"amzn-mkt\",\"amzn-mkt\",\"amazon.c\",\"cci-care\",\"chevron-\",\"kroger-#\",\"ring-unl\",\"worldpet\",\"amazon.c\",\"teachers\",\"teachers\",\"lowe's-#\",\"bank-of-\",\"sav-des:\",\"hp--inst\",\"amzn-mkt\",\"kinder-l\",\"kinder-l\",\"amazon.c\",\"vans.com\",\"amzn-mkt\",\"att-bill\",\"metapay-\",\"state-fa\",\"michaels\",\"help.hbo\",\"capital-\",\"college-\",\"bank-of-\",\"el-ranch\",\"city-of-\",\"municipa\",\"publix-s\",\"cci-care\",\"memorial\",\"cvs/phar\",\"amazon.c\",\"amazon.c\",\"intuit--\",\"publix-s\",\"publix-s\",\"sav-des:\",\"savannah\",\"hp--inst\",\"ring-unl\",\"bank-of-\",\"bank-of-\",\"propay-t\",\"formswif\",\"pooler-p\",\"chipotle\",\"amzn-mkt\",\"teachers\",\"marcos-p\",\"amazon.c\",\"amzn-mkt\",\"sun-chas\",\"metapay-\",\"amazon.c\",\"tst--poe\",\"savannah\",\"att-bill\",\"help.hbo\",\"state-fa\",\"chevron-\",\"cvs/phar\",\"municipa\",\"amazon.c\",\"propay-t\",\"labcorpx\",\"city-of-\",\"cci-care\",\"gofndme-\",\"chevron-\",\"coastal-\",\"strp-car\",\"bank-of-\",\"savannah\",\"hp--inst\",\"ring-unl\",\"nst-the-\",\"sav-des:\",\"amzn-mkt\",\"amzn-mkt\",\"amzn-mkt\",\"cash-app\",\"wal-mart\",\"anthem-b\",\"nst-the-\",\"publix-s\",\"airbnb-h\",\"merlin-e\",\"amzn-mkt\",\"publix-s\",\"haagen-d\",\"amk-lego\",\"amk-lego\",\"amk-lego\",\"amk-lego\",\"amk-lego\",\"nnt-lego\",\"merlin-e\",\"amazon.c\",\"dd/br-#3\",\"att-bill\",\"publix-s\",\"state-fa\",\"help.hbo\",\"port-cit\",\"burnt-ou\",\"savannah\",\"lush-dig\",\"chick-fi\",\"amzn-mkt\",\"city-of-\",\"teachers\",\"kroger-5\",\"canva--i\",\"jalapeno\",\"amazon.c\",\"facebk-m\",\"amazon.c\",\"amazon.c\",\"wm-super\",\"preferre\",\"amzn-mkt\",\"facebk-e\",\"anthem-b\",\"mcdonald\",\"bank-of-\",\"royal-ci\",\"wire-tra\",\"amzn-mkt\",\"amzn-mkt\",\"ga--port\",\"municipa\",\"amazon.c\",\"wm-super\",\"publix-s\",\"state-fa\",\"lulus.co\",\"cci-care\",\"sav-des:\",\"amzn-mkt\",\"amzn-mkt\",\"hp--inst\",\"el-ranch\",\"ring-unl\",\"google-d\",\"kroger-5\",\"kroger-f\",\"amzn-mkt\",\"nst-the-\",\"bank-of-\",\"amzn-mkt\",\"online-b\",\"chevron-\",\"wm-super\",\"bank-of-\",\"uber-eat\",\"uber-eat\",\"amzn-mkt\",\"amazon.c\",\"att-bill\",\"my-hot-l\",\"amzn-mkt\",\"state-fa\",\"help.hbo\",\"facebk-q\",\"amazon.c\",\"amzn-mkt\",\"anthem-b\",\"anthem-b\",\"bank-of-\",\"amazon.c\",\"cci-care\",\"venmo-05\",\"sp-fiddl\",\"customer\",\"amazon.c\",\"amzn-mkt\",\"kroger-5\",\"ga--port\",\"t-j-maxx\",\"bwl-stri\",\"amazon.c\",\"shein-05\",\"savannah\",\"cci-care\",\"hp--inst\",\"amzn-mkt\",\"amazon.c\",\"el-ranch\",\"ring-unl\",\"gate-020\",\"sav-des:\",\"prime-vi\",\"thrift-b\",\"amzn-mkt\",\"shell-se\",\"cvs/phar\",\"chick-fi\",\"mcdonald\",\"smp---fo\",\"nnt-ikea\",\"target.c\",\"amzn-mkt\",\"amzn-mkt\",\"prime-vi\",\"lowe's-#\",\"bank-of-\",\"hellofre\",\"att-bill\",\"hobbylob\",\"amzn-mkt\",\"amazon-p\",\"uber-eat\",\"uber-eat\",\"help.max\",\"amzn-mkt\",\"apple.co\",\"nintendo\",\"carter's\",\"state-fa\",\"etsy.com\",\"dunkin-#\",\"anthem-b\",\"anthem-b\",\"amazon.c\",\"kroger-#\",\"amzn-mkt\",\"amzn-mkt\",\"venmo-06\",\"apple.co\",\"savannah\",\"piggly-w\",\"savannah\",\"uber-eat\",\"uber-eat\",\"kroger-f\",\"circle-k\",\"bank-of-\",\"metapay-\",\"ingles-m\",\"ingles-m\",\"bp#66297\",\"sp-runic\",\"veracruz\",\"cci-care\",\"apple.co\",\"etsy.com\",\"sav-des:\",\"amzn-mkt\",\"hp--inst\",\"ring-unl\",\"amazon.c\",\"amazon.c\",\"amzn-mkt\",\"ga--port\",\"municipa\",\"savannah\",\"prime-vi\",\"etsy.com\",\"amazon.c\",\"att-bill\",\"tutors.c\",\"pooler-p\",\"savannah\",\"savannah\",\"amzn-mkt\",\"amzn-mkt\",\"amazon.c\",\"state-fa\",\"chevron-\",\"ethnicit\",\"help.max\",\"goodwill\",\"savannah\",\"amzn-mkt\",\"amzn-mkt\",\"amzn-mkt\",\"starbuck\",\"airbnb-h\",\"amzn-mkt\",\"chick-fi\",\"chick-fi\",\"amazon.c\",\"anthem-b\",\"anthem-b\",\"fh--hiwa\",\"ruby-fal\",\"amazon-d\",\"venmo-07\",\"amazon.c\",\"amzn-mkt\",\"cci-care\",\"apple.co\",\"sav-des:\",\"hp--inst\",\"ring-unl\",\"ga--port\",\"nst-the-\",\"chick-fi\",\"amazon.c\",\"bank-of-\",\"municipa\",\"amazon.c\",\"cash-app\",\"enmarket\",\"sq--perc\",\"cash-app\",\"amzn-mkt\",\"bank-of-\",\"venmo-07\",\"prime-vi\",\"tst--cho\",\"walmart.\",\"shein.co\",\"statesbo\",\"publix-s\",\"hobbylob\",\"att-bill\",\"amazon.c\",\"cash-app\",\"gate-020\",\"state-fa\",\"help.max\",\"target-t\",\"nst-the-\",\"my-hot-l\",\"walmart.\",\"amzn-mkt\",\"cash-app\",\"amzn-mkt\",\"amazon.c\",\"amzn-mkt\",\"amzn-mkt\",\"venmo-08\",\"amazon.c\",\"anthem-b\",\"anthem-b\",\"cash-app\",\"preferre\",\"amazon.c\",\"otc-bran\",\"amzn-mkt\",\"amazon.c\",\"amzn-mkt\",\"customer\",\"amazon.c\",\"cash-app\",\"chevron-\",\"prime-vi\",\"ga--port\",\"municipa\",\"apple.co\",\"kroger-#\",\"walmart.\",\"walmart.\",\"teachers\",\"publix-s\",\"sav-des:\",\"17-sakur\",\"amzn-mkt\",\"hp--inst\",\"ring-unl\",\"amzn-mkt\",\"teachers\",\"teachers\",\"bwl-stri\",\"teachers\",\"kroger-#\",\"publix-s\",\"amzn-mkt\",\"teachers\",\"bank-of-\",\"amazon.c\",\"parkers-\",\"amazon.c\",\"cash-app\",\"walmart.\",\"amzn-mkt\",\"att-bill\",\"amazon.c\",\"amzn-mkt\",\"sq--live\",\"amazon.c\",\"nnt-rita\",\"wal-wal-\",\"teachers\",\"teachers\",\"help.max\",\"state-fa\",\"teachers\",\"netflix.\",\"godley-s\",\"kroger-#\",\"old-navy\",\"anthem-b\",\"anthem-b\",\"venmo-09\",\"publix-s\",\"old-navy\",\"nnt-h&m0\",\"amazon.c\",\"michaels\",\"wysh-ins\",\"bank-of-\",\"my-hot-l\",\"teachers\",\"amzn-mkt\",\"amzn-mkt\",\"cash-app\",\"amzn-mkt\",\"amzn-mkt\",\"amzn-mkt\",\"teachers\",\"ga--port\",\"municipa\",\"wm-super\",\"starbuck\",\"cvs/phar\",\"apple-co\",\"pooler-p\",\"amzn-mkt\",\"amazon.c\",\"craftycl\",\"amazon.c\",\"publix-s\",\"teachers\",\"little-o\",\"sav-des:\",\"hp--inst\",\"ring-unl\",\"nnt-rita\",\"amzn-mkt\",\"amzn-mkt\",\"amazon.c\",\"gate-020\",\"bank-of-\",\"little-o\",\"amazon.c\",\"hellofre\",\"amazon.c\",\"cash-app\",\"oracl-wa\",\"publix-s\",\"bank-of-\",\"att-bill\",\"teachers\",\"the-wood\",\"amazon.c\",\"chathamm\",\"teachers\",\"hellofre\",\"hellofre\",\"state-fa\",\"netflix-\",\"www.frie\",\"amzn-mkt\",\"lowe's-#\",\"publix-s\",\"nst-the-\",\"anthem-b\",\"anthem-b\",\"gw-chath\",\"amzn-mkt\",\"amazon.c\",\"venmo-10\",\"wysh-ins\",\"kroger-#\",\"amazon.c\",\"venmo-10\",\"nnt-chat\",\"one-last\",\"ga--port\",\"municipa\",\"amazon.c\",\"amazon.c\",\"cash-app\",\"amzn-mkt\",\"ebaycomm\",\"amzn-mkt\",\"my-hot-l\",\"amzn-mkt\",\"uber--ea\",\"uber-eat\",\"sav-des:\",\"hp--inst\",\"ring-unl\",\"teachers\",\"amzn-mkt\",\"wal-wal-\",\"publix-s\",\"bank-of-\",\"17-sakur\",\"mcdonald\",\"publix-s\",\"airbnb-h\",\"amzn-mkt\",\"teachers\",\"teachers\",\"teachers\",\"parkers-\",\"bank-of-\",\"amazon.c\",\"att-bill\",\"teachers\",\"teachers\",\"www.spla\",\"state-fa\",\"amazon.c\",\"netflix-\",\"publix-s\",\"publix-s\",\"coastal-\",\"spankys-\",\"anthem-b\",\"anthem-b\",\"teachers\",\"venmo-11\",\"amazon.c\",\"publix-s\",\"publix-s\",\"coastal-\",\"amzn-mkt\",\"amazon.c\",\"amazon.c\",\"wysh-ins\",\"amzn-mkt\",\"teachers\",\"amazon.c\",\"bank-of-\",\"bank-of-\",\"scholast\",\"amzn-mkt\",\"bwl-stri\",\"amzn-mkt\",\"amazon.c\",\"amzn-mkt\",\"prime-vi\",\"ga--port\",\"municipa\",\"grow-the\",\"amzn-mkt\",\"carters,\",\"amzn-mkt\",\"sav-des:\",\"hp--inst\",\"ring-unl\",\"publix-s\",\"bank-of-\",\"nintendo\",\"sq--nour\",\"cvs/phar\",\"amazon.c\",\"amazon.c\",\"dollar-t\",\"teachers\",\"etsy.com\",\"sq--live\",\"publix-s\",\"att-bill\",\"amazon.c\",\"coastal-\",\"state-fa\",\"dunkin-#\",\"netflix-\",\"walmart.\",\"amzn-mkt\",\"anthem-b\",\"anthem-b\",\"parkers-\",\"chick-fi\",\"grow-the\",\"amazon.c\",\"venmo-12\",\"kroger-#\",\"amazon.c\",\"wysh-ins\",\"bank-of-\",\"apple.co\",\"amzn-mkt\",\"amazon.c\",\"amazon.c\",\"amazon.c\",\"teachers\",\"michaels\",\"murphy-e\",\"amazon.c\",\"aldi-760\",\"ga--port\",\"municipa\",\"wal-mart\",\"sav-des:\",\"clckpay-\",\"airbnb-h\",\"hp--inst\",\"ring-unl\",\"propay-t\",\"grow-the\",\"publix-s\",\"amazon.c\",\"five-bel\",\"amzn-mkt\",\"anthem-b\",\"hobbylob\",\"nnt-5905\",\"music&ar\",\"grow-the\",\"kroger-#\",\"wm-super\",\"bank-of-\",\"att-bill\",\"food-lio\",\"coastal-\",\"state-fa\",\"sugar-mo\",\"sugar-mo\",\"pti-jona\",\"beech-mo\",\"netflix-\",\"nnt-beec\",\"pti-jona\",\"sugar-mo\",\"cke-bell\",\"amazon.c\",\"venmo--m\",\"ic--inst\",\"ic--inst\",\"ic--inst\",\"anthem-b\",\"bank-of-\",\"wysh-ins\",\"cvs/phar\",\"food-lio\",\"chevron-\",\"coastal-\",\"publix-s\",\"propay-t\",\"hp--inst\",\"jalapeno\",\"ring-unl\",\"lowe's-#\",\"food-lio\",\"sav-des:\",\"teachers\",\"ga-portw\",\"municipa\",\"chevron-\",\"music&ar\",\"amzn-mkt\",\"food-lio\",\"sq--foxy\",\"att-bill\",\"grow-the\",\"netflix-\",\"state-fa\",\"anthem-b\",\"anthem-b\",\"venmo--m\",\"publix-s\",\"bank-of-\",\"shell-se\",\"wal-wal-\",\"sq--pira\",\"sq--pira\",\"amazon.c\",\"ga-portw\",\"municipa\",\"family-d\",\"food-lio\",\"kroger-f\",\"kroger-#\",\"venmo--c\",\"publix-s\",\"amzn-mkt\",\"sav-des:\",\"hp--inst\",\"ring-unl\",\"ymca-of-\",\"kroger-#\",\"bank-of-\",\"oracl-wa\",\"kroger-#\",\"intuit--\",\"cvs/phar\",\"food-lio\",\"amzn-mkt\",\"music&ar\",\"amazon.c\",\"georgia-\",\"prime-vi\",\"amzn-mkt\",\"att-bill\",\"teachers\",\"state-fa\",\"netflix-\",\"amazon.c\",\"pooler-p\",\"anthem-b\",\"anthem-b\",\"georgia-\",\"dunkin-#\",\"propay-t\",\"ga-fee-c\",\"ga-child\",\"amazon.c\",\"chevron-\",\"terra-mi\",\"food-lio\",\"online-b\",\"chick-fi\",\"bank-of-\",\"savannah\",\"dunkin-#\",\"my-hot-l\",\"publix-s\",\"taco-bel\",\"online-b\",\"amzn-mkt\",\"bank-of-\",\"amzn-mkt\",\"sav-des:\",\"hp--inst\",\"amazon.c\",\"ring-unl\",\"ga-portw\",\"municipa\",\"roku-for\",\"bank-of-\",\"amazon.c\",\"teachers\",\"food-lio\",\"udemy:-o\",\"publix-s\",\"music&ar\",\"barnesno\",\"kroger-#\",\"amzn-mkt\",\"cash-app\",\"food-lio\",\"bank-of-\",\"att-bill\",\"vans.com\",\"amazon.c\",\"amazon.c\",\"chatham-\",\"state-fa\",\"whistle-\",\"target-t\",\"netflix.\",\"anthem-b\",\"anthem-b\",\"ingles-m\",\"hobbylob\",\"online-s\",\"online-b\",\"food-lio\",\"bank-of-\",\"amazon.c\",\"ppy-thri\",\"defy-sav\",\"dunkin-#\",\"murphy-e\",\"amzn-mkt\",\"sp-popfl\",\"food-lio\",\"cash-app\",\"udemy:-o\",\"ga-portw\",\"my-hot-l\",\"municipa\",\"rita's-#\",\"sav-des:\",\"sp-mudpu\",\"food-lio\",\"publix-s\",\"disneypl\",\"ring-unl\",\"bank-of-\",\"soccer-s\",\"hp--inst\",\"google-d\",\"amazon.c\",\"godley-s\",\"amzn-mkt\",\"gate-020\",\"amazon.c\",\"bank-of-\",\"sq--nour\",\"analyst-\",\"grubhube\",\"wal-wal-\",\"publix-s\",\"amzn-mkt\",\"music&ar\",\"cash-app\",\"amzn-mkt\",\"dunkin-#\",\"analyst-\",\"bank-of-\",\"att-bill\",\"food-lio\",\"netflix.\",\"cvs/phar\",\"17-sakur\",\"agero-ro\",\"state-fa\",\"anthem-b\",\"anthem-b\",\"online-s\",\"amzn-mkt\",\"amazon.c\",\"chatham-\",\"teachers\",\"amzn-mkt\",\"amzn-mkt\",\"michaels\",\"17-sakur\",\"food-lio\",\"my-hot-l\"],\"shape\":[929],\"dtype\":\"object\",\"order\":\"little\"}],[\"Amount\",{\"type\":\"ndarray\",\"array\":{\"type\":\"bytes\",\"data\":\"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\"},\"shape\":[929],\"dtype\":\"int32\",\"order\":\"little\"}]]}}},\"view\":{\"type\":\"object\",\"name\":\"CDSView\",\"id\":\"5e897ef5-1322-4bd5-a3e4-b9d3a31ebe74\",\"attributes\":{\"filter\":{\"type\":\"object\",\"name\":\"AllIndices\",\"id\":\"eee8e3bb-3d3f-4e8d-bc69-24ce86ea58d5\"}}},\"columns\":[{\"type\":\"object\",\"name\":\"TableColumn\",\"id\":\"dfd211e1-ec46-463a-b554-931b971d6712\",\"attributes\":{\"field\":\"index\",\"title\":\"index\",\"width\":0,\"formatter\":{\"type\":\"object\",\"name\":\"NumberFormatter\",\"id\":\"510d21df-0637-4c4e-b984-db2daa303fe5\",\"attributes\":{\"text_align\":\"left\"}},\"editor\":{\"type\":\"object\",\"name\":\"CellEditor\",\"id\":\"9b8c521d-e470-4d60-bd0d-f48cfd4bccbf\"}}},{\"type\":\"object\",\"name\":\"TableColumn\",\"id\":\"c7f1c2e2-137b-412e-bdd4-0d8dcaf34f27\",\"attributes\":{\"field\":\"Date\",\"title\":\"Date\",\"width\":0,\"formatter\":{\"type\":\"object\",\"name\":\"DateFormatter\",\"id\":\"5fbf3bad-de6c-4497-84be-537dee02f1db\",\"attributes\":{\"text_align\":\"right\",\"format\":\"%Y-%m-%d %H:%M:%S\"}},\"editor\":{\"type\":\"object\",\"name\":\"DateEditor\",\"id\":\"67995a4b-52d0-45d0-88c3-ef7211d9b2d2\"}}},{\"type\":\"object\",\"name\":\"TableColumn\",\"id\":\"56829a35-4539-43e6-b1e1-5bbfeb3bebec\",\"attributes\":{\"field\":\"Category\",\"title\":\"Category\",\"width\":0,\"formatter\":{\"type\":\"object\",\"name\":\"StringFormatter\",\"id\":\"c81ca587-cdb6-4f80-8317-79fc80cde3c7\"},\"editor\":{\"type\":\"object\",\"name\":\"StringEditor\",\"id\":\"f0b7c648-b3d4-4335-8076-9ea3616913f1\"}}},{\"type\":\"object\",\"name\":\"TableColumn\",\"id\":\"545c9a5f-f145-49a1-9bb7-c365c151a0be\",\"attributes\":{\"field\":\"Description\",\"title\":\"Description\",\"width\":0,\"formatter\":{\"type\":\"object\",\"name\":\"StringFormatter\",\"id\":\"0340fe44-d0a9-480d-b0ca-f4eb9eab1ad4\"},\"editor\":{\"type\":\"object\",\"name\":\"StringEditor\",\"id\":\"75dd32be-4142-4431-ab03-0f8dfbfa788b\"}}},{\"type\":\"object\",\"name\":\"TableColumn\",\"id\":\"40940c94-1e9d-48db-b774-26c1c1cf3f6f\",\"attributes\":{\"field\":\"Amount\",\"title\":\"Amount\",\"width\":0,\"formatter\":{\"type\":\"object\",\"name\":\"NumberFormatter\",\"id\":\"a9cf36f6-757f-4fe8-86f2-1f1395b06db4\",\"attributes\":{\"text_align\":\"right\"}},\"editor\":{\"type\":\"object\",\"name\":\"IntEditor\",\"id\":\"483d1d3e-0b83-47f8-b1e0-e1689a1ecf40\"}}}],\"editable\":true,\"row_height\":40}},{\"type\":\"object\",\"name\":\"panel.models.comm_manager.CommManager\",\"id\":\"195c06bc-567c-4a17-910d-3bd9a30a28ab\",\"attributes\":{\"plot_id\":\"907a3fe7-7b3d-4d15-b439-9c17cc3b6278\",\"comm_id\":\"ff234862539341f589c950e8c323abe4\",\"client_comm_id\":\"dc41ebf4e10e42b9984ff6ae85c6b87c\"}}],\"defs\":[{\"type\":\"model\",\"name\":\"ReactiveHTML1\"},{\"type\":\"model\",\"name\":\"FlexBox1\",\"properties\":[{\"name\":\"align_content\",\"kind\":\"Any\",\"default\":\"flex-start\"},{\"name\":\"align_items\",\"kind\":\"Any\",\"default\":\"flex-start\"},{\"name\":\"flex_direction\",\"kind\":\"Any\",\"default\":\"row\"},{\"name\":\"flex_wrap\",\"kind\":\"Any\",\"default\":\"wrap\"},{\"name\":\"justify_content\",\"kind\":\"Any\",\"default\":\"flex-start\"}]},{\"type\":\"model\",\"name\":\"FloatPanel1\",\"properties\":[{\"name\":\"config\",\"kind\":\"Any\",\"default\":{\"type\":\"map\"}},{\"name\":\"contained\",\"kind\":\"Any\",\"default\":true},{\"name\":\"position\",\"kind\":\"Any\",\"default\":\"right-top\"},{\"name\":\"offsetx\",\"kind\":\"Any\",\"default\":null},{\"name\":\"offsety\",\"kind\":\"Any\",\"default\":null},{\"name\":\"theme\",\"kind\":\"Any\",\"default\":\"primary\"},{\"name\":\"status\",\"kind\":\"Any\",\"default\":\"normalized\"}]},{\"type\":\"model\",\"name\":\"GridStack1\",\"properties\":[{\"name\":\"mode\",\"kind\":\"Any\",\"default\":\"warn\"},{\"name\":\"ncols\",\"kind\":\"Any\",\"default\":null},{\"name\":\"nrows\",\"kind\":\"Any\",\"default\":null},{\"name\":\"allow_resize\",\"kind\":\"Any\",\"default\":true},{\"name\":\"allow_drag\",\"kind\":\"Any\",\"default\":true},{\"name\":\"state\",\"kind\":\"Any\",\"default\":[]}]},{\"type\":\"model\",\"name\":\"drag1\",\"properties\":[{\"name\":\"slider_width\",\"kind\":\"Any\",\"default\":5},{\"name\":\"slider_color\",\"kind\":\"Any\",\"default\":\"black\"},{\"name\":\"value\",\"kind\":\"Any\",\"default\":50}]},{\"type\":\"model\",\"name\":\"click1\",\"properties\":[{\"name\":\"terminal_output\",\"kind\":\"Any\",\"default\":\"\"},{\"name\":\"debug_name\",\"kind\":\"Any\",\"default\":\"\"},{\"name\":\"clears\",\"kind\":\"Any\",\"default\":0}]},{\"type\":\"model\",\"name\":\"copy_to_clipboard1\",\"properties\":[{\"name\":\"fill\",\"kind\":\"Any\",\"default\":\"none\"},{\"name\":\"value\",\"kind\":\"Any\",\"default\":null}]},{\"type\":\"model\",\"name\":\"FastWrapper1\",\"properties\":[{\"name\":\"object\",\"kind\":\"Any\",\"default\":null},{\"name\":\"style\",\"kind\":\"Any\",\"default\":null}]},{\"type\":\"model\",\"name\":\"NotificationAreaBase1\",\"properties\":[{\"name\":\"js_events\",\"kind\":\"Any\",\"default\":{\"type\":\"map\"}},{\"name\":\"position\",\"kind\":\"Any\",\"default\":\"bottom-right\"},{\"name\":\"_clear\",\"kind\":\"Any\",\"default\":0}]},{\"type\":\"model\",\"name\":\"NotificationArea1\",\"properties\":[{\"name\":\"js_events\",\"kind\":\"Any\",\"default\":{\"type\":\"map\"}},{\"name\":\"notifications\",\"kind\":\"Any\",\"default\":[]},{\"name\":\"position\",\"kind\":\"Any\",\"default\":\"bottom-right\"},{\"name\":\"_clear\",\"kind\":\"Any\",\"default\":0},{\"name\":\"types\",\"kind\":\"Any\",\"default\":[{\"type\":\"map\",\"entries\":[[\"type\",\"warning\"],[\"background\",\"#ffc107\"],[\"icon\",{\"type\":\"map\",\"entries\":[[\"className\",\"fas fa-exclamation-triangle\"],[\"tagName\",\"i\"],[\"color\",\"white\"]]}]]},{\"type\":\"map\",\"entries\":[[\"type\",\"info\"],[\"background\",\"#007bff\"],[\"icon\",{\"type\":\"map\",\"entries\":[[\"className\",\"fas fa-info-circle\"],[\"tagName\",\"i\"],[\"color\",\"white\"]]}]]}]}]},{\"type\":\"model\",\"name\":\"Notification\",\"properties\":[{\"name\":\"background\",\"kind\":\"Any\",\"default\":null},{\"name\":\"duration\",\"kind\":\"Any\",\"default\":3000},{\"name\":\"icon\",\"kind\":\"Any\",\"default\":null},{\"name\":\"message\",\"kind\":\"Any\",\"default\":\"\"},{\"name\":\"notification_type\",\"kind\":\"Any\",\"default\":null},{\"name\":\"_destroyed\",\"kind\":\"Any\",\"default\":false}]},{\"type\":\"model\",\"name\":\"TemplateActions1\",\"properties\":[{\"name\":\"open_modal\",\"kind\":\"Any\",\"default\":0},{\"name\":\"close_modal\",\"kind\":\"Any\",\"default\":0}]},{\"type\":\"model\",\"name\":\"BootstrapTemplateActions1\",\"properties\":[{\"name\":\"open_modal\",\"kind\":\"Any\",\"default\":0},{\"name\":\"close_modal\",\"kind\":\"Any\",\"default\":0}]},{\"type\":\"model\",\"name\":\"MaterialTemplateActions1\",\"properties\":[{\"name\":\"open_modal\",\"kind\":\"Any\",\"default\":0},{\"name\":\"close_modal\",\"kind\":\"Any\",\"default\":0}]}]}};\n",
       "  var render_items = [{\"docid\":\"6c8d3ae0-5abd-4616-b1e2-8d8c81dbce3f\",\"roots\":{\"907a3fe7-7b3d-4d15-b439-9c17cc3b6278\":\"e2371245-4a95-4ab9-ae18-113be6a707a9\"},\"root_ids\":[\"907a3fe7-7b3d-4d15-b439-9c17cc3b6278\"]}];\n",
       "  var docs = Object.values(docs_json)\n",
       "  if (!docs) {\n",
       "    return\n",
       "  }\n",
       "  const py_version = docs[0].version.replace('rc', '-rc.').replace('.dev', '-dev.')\n",
       "  function embed_document(root) {\n",
       "    var Bokeh = get_bokeh(root)\n",
       "    Bokeh.embed.embed_items_notebook(docs_json, render_items);\n",
       "    for (const render_item of render_items) {\n",
       "      for (const root_id of render_item.root_ids) {\n",
       "\tconst id_el = document.getElementById(root_id)\n",
       "\tif (id_el.children.length && (id_el.children[0].className === 'bk-root')) {\n",
       "\t  const root_el = id_el.children[0]\n",
       "\t  root_el.id = root_el.id + '-rendered'\n",
       "\t}\n",
       "      }\n",
       "    }\n",
       "  }\n",
       "  function get_bokeh(root) {\n",
       "    if (root.Bokeh === undefined) {\n",
       "      return null\n",
       "    } else if (root.Bokeh.version !== py_version) {\n",
       "      if (root.Bokeh.versions === undefined || !root.Bokeh.versions.has(py_version)) {\n",
       "\treturn null\n",
       "      }\n",
       "      return root.Bokeh.versions.get(py_version);\n",
       "    } else if (root.Bokeh.version === py_version) {\n",
       "      return root.Bokeh\n",
       "    }\n",
       "    return null\n",
       "  }\n",
       "  function is_loaded(root) {\n",
       "    var Bokeh = get_bokeh(root)\n",
       "    return (Bokeh != null && Bokeh.Panel !== undefined && ( root['Tabulator'] !== undefined) && ( root['Tabulator'] !== undefined))\n",
       "  }\n",
       "  if (is_loaded(root)) {\n",
       "    embed_document(root);\n",
       "  } else {\n",
       "    var attempts = 0;\n",
       "    var timer = setInterval(function(root) {\n",
       "      if (is_loaded(root)) {\n",
       "        clearInterval(timer);\n",
       "        embed_document(root);\n",
       "      } else if (document.readyState == \"complete\") {\n",
       "        attempts++;\n",
       "        if (attempts > 200) {\n",
       "          clearInterval(timer);\n",
       "\t  var Bokeh = get_bokeh(root)\n",
       "\t  if (Bokeh == null || Bokeh.Panel == null) {\n",
       "            console.warn(\"Panel: ERROR: Unable to run Panel code because Bokeh or Panel library is missing\");\n",
       "\t  } else {\n",
       "\t    console.warn(\"Panel: WARNING: Attempting to render but not all required libraries could be resolved.\")\n",
       "\t    embed_document(root)\n",
       "\t  }\n",
       "        }\n",
       "      }\n",
       "    }, 25, root)\n",
       "  }\n",
       "})(window);</script>"
      ],
      "text/plain": [
       "DataFrame(height=300, sizing_mode='fixed', value=           Date  ..., width=400)"
      ]
     },
     "execution_count": 35,
     "metadata": {
      "application/vnd.holoviews_exec.v0+json": {
       "id": "907a3fe7-7b3d-4d15-b439-9c17cc3b6278"
      }
     },
     "output_type": "execute_result"
    }
   ],
   "source": [
    "#Define a function to filter the dataframe based on the selected category\n",
    "def filter_df(category):\n",
    "  if category == 'all':\n",
    "    return df\n",
    "  return df[df['Category'] == category]\n",
    "\n",
    "#Create a DataFrame widget that updates based on the category filter\n",
    "summary_table = pn.widgets.DataFrame(filter_df('all'), height = 300, width = 400)\n",
    "\n",
    "#Define a callback that updates the DataFrame widget when the category filter is changed\n",
    "def update_summary_table(event):\n",
    "  summary_table.value = filter_df(event.new)\n",
    "\n",
    "#Add the callback function to the category widget\n",
    "select_category1.param.watch(update_summary_table, 'value')\n",
    "\n",
    "summary_table"
   ]
  },
  {
   "cell_type": "markdown",
   "metadata": {
    "id": "mkRxANGOkU7p"
   },
   "source": [
    "**Create Final Dashboard**"
   ]
  },
  {
   "cell_type": "code",
   "execution_count": 41,
   "metadata": {
    "colab": {
     "base_uri": "https://localhost:8080/"
    },
    "executionInfo": {
     "elapsed": 405,
     "status": "ok",
     "timestamp": 1715379243272,
     "user": {
      "displayName": "Julia Austin",
      "userId": "13512607286634222437"
     },
     "user_tz": 240
    },
    "id": "IzVqi2znj22M",
    "outputId": "4e28a4ca-d94f-4d55-fbc0-e64e7b841b80"
   },
   "outputs": [
    {
     "name": "stderr",
     "output_type": "stream",
     "text": [
      "WARNING:param.GridBox: Providing a width-responsive sizing_mode ('stretch_width') and a fixed width is not supported. Converting fixed width to min_width. If you intended the component to be fully width-responsive remove the heightsetting, otherwise change it to min_height. To error on the incorrect specification disable the config.layout_compatibility option.\n"
     ]
    },
    {
     "name": "stdout",
     "output_type": "stream",
     "text": [
      "Launching server at http://localhost:54844\n"
     ]
    },
    {
     "data": {
      "text/plain": [
       "<panel.io.server.Server at 0x2258b6d34d0>"
      ]
     },
     "execution_count": 41,
     "metadata": {},
     "output_type": "execute_result"
    },
    {
     "name": "stderr",
     "output_type": "stream",
     "text": [
      "WARNING:bokeh.core.validation.check:W-1005 (FIXED_SIZING_MODE): 'fixed' sizing mode requires width and height to be set: Column(id='6d997b6f-bf53-46df-b44d-b5a24542b3b6', ...)\n"
     ]
    }
   ],
   "source": [
    "template = pn.template.FastListTemplate(\n",
    "    title=\"Personal Finances Summary\",\n",
    "    sidebar=[\n",
    "        pn.pane.Markdown(\"## *If you can't manage your money, making more won't help*\"),\n",
    "        pn.pane.PNG('vecteezy_pack-of-dollars-money-clipart-design-illustration_9303600_278.png', sizing_mode='scale_both'),\n",
    "        pn.pane.Markdown(\"\"),\n",
    "        pn.pane.Markdown(\"\"),\n",
    "        select_category1\n",
    "    ],\n",
    "    main=[\n",
    "        pn.Row(income_widget, recurring_expenses_widget, monthly_expenses_widget, difference_widget, width=950),\n",
    "        pn.Row(last_month_expenses_chart, height=240),\n",
    "        pn.GridBox(\n",
    "            monthly_expenses_trend_by_cat_chart[1],\n",
    "            summary_table,\n",
    "            ncols=2,\n",
    "            width=500,\n",
    "            align='start',\n",
    "            sizing_mode='stretch_width'\n",
    "        )\n",
    "    ]\n",
    ")\n",
    "\n",
    "template.show()"
   ]
  },
  {
   "cell_type": "code",
   "execution_count": null,
   "metadata": {
    "id": "DZQtC_NWkgZV"
   },
   "outputs": [],
   "source": []
  }
 ],
 "metadata": {
  "colab": {
   "authorship_tag": "ABX9TyPYzLCJe5y0rBN8Gz0tVf8A",
   "mount_file_id": "1lRqgI5FlgUTBWzFiv8Nl7CLkN8x467qs",
   "provenance": []
  },
  "kernelspec": {
   "display_name": "Python 3 (ipykernel)",
   "language": "python",
   "name": "python3"
  },
  "language_info": {
   "codemirror_mode": {
    "name": "ipython",
    "version": 3
   },
   "file_extension": ".py",
   "mimetype": "text/x-python",
   "name": "python",
   "nbconvert_exporter": "python",
   "pygments_lexer": "ipython3",
   "version": "3.11.7"
  }
 },
 "nbformat": 4,
 "nbformat_minor": 4
}
